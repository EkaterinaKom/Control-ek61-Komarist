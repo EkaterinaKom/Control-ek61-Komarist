{
 "cells": [
  {
   "cell_type": "markdown",
   "metadata": {},
   "source": [
    "# Контрольна робота \n",
    "# з курсу \"Сучасні технології моделювання економічних процесів\"\n",
    "# студентки групи ЕК - 61\n",
    "# Комаріст Катерини\n",
    "## варінт 5"
   ]
  },
  {
   "cell_type": "code",
   "execution_count": 268,
   "metadata": {},
   "outputs": [],
   "source": [
    "import pandas as pd\n",
    "import numpy as np\n",
    "\n",
    "import plotly.graph_objects as go\n",
    "import plotly.express as px\n",
    "\n",
    "import matplotlib.pyplot as plt\n"
   ]
  },
  {
   "cell_type": "markdown",
   "metadata": {},
   "source": [
    "## 1. Підготовка даних"
   ]
  },
  {
   "cell_type": "markdown",
   "metadata": {},
   "source": [
    "### Імпорт даних та обчислення основних статистик:"
   ]
  },
  {
   "cell_type": "code",
   "execution_count": 229,
   "metadata": {},
   "outputs": [],
   "source": [
    "df = pd.read_csv('komarist_ek61_data_var5.csv', sep=';',decimal=\",\")"
   ]
  },
  {
   "cell_type": "code",
   "execution_count": 230,
   "metadata": {},
   "outputs": [
    {
     "data": {
      "text/html": [
       "<div>\n",
       "<style scoped>\n",
       "    .dataframe tbody tr th:only-of-type {\n",
       "        vertical-align: middle;\n",
       "    }\n",
       "\n",
       "    .dataframe tbody tr th {\n",
       "        vertical-align: top;\n",
       "    }\n",
       "\n",
       "    .dataframe thead th {\n",
       "        text-align: right;\n",
       "    }\n",
       "</style>\n",
       "<table border=\"1\" class=\"dataframe\">\n",
       "  <thead>\n",
       "    <tr style=\"text-align: right;\">\n",
       "      <th></th>\n",
       "      <th>ActualPower</th>\n",
       "      <th>Max Capacity</th>\n",
       "      <th>Location 3</th>\n",
       "      <th>Location 5</th>\n",
       "      <th>Location 7</th>\n",
       "      <th>Location 9</th>\n",
       "    </tr>\n",
       "  </thead>\n",
       "  <tbody>\n",
       "    <tr>\n",
       "      <th>0</th>\n",
       "      <td>0.142</td>\n",
       "      <td>42.50</td>\n",
       "      <td>2.930</td>\n",
       "      <td>2.855</td>\n",
       "      <td>2.770</td>\n",
       "      <td>2.097</td>\n",
       "    </tr>\n",
       "    <tr>\n",
       "      <th>1</th>\n",
       "      <td>0.332</td>\n",
       "      <td>42.50</td>\n",
       "      <td>2.963</td>\n",
       "      <td>2.892</td>\n",
       "      <td>2.795</td>\n",
       "      <td>2.087</td>\n",
       "    </tr>\n",
       "    <tr>\n",
       "      <th>2</th>\n",
       "      <td>0.563</td>\n",
       "      <td>42.50</td>\n",
       "      <td>2.926</td>\n",
       "      <td>2.853</td>\n",
       "      <td>2.808</td>\n",
       "      <td>2.084</td>\n",
       "    </tr>\n",
       "    <tr>\n",
       "      <th>3</th>\n",
       "      <td>0.532</td>\n",
       "      <td>42.50</td>\n",
       "      <td>2.984</td>\n",
       "      <td>2.907</td>\n",
       "      <td>2.799</td>\n",
       "      <td>2.066</td>\n",
       "    </tr>\n",
       "    <tr>\n",
       "      <th>4</th>\n",
       "      <td>0.508</td>\n",
       "      <td>42.50</td>\n",
       "      <td>2.893</td>\n",
       "      <td>2.836</td>\n",
       "      <td>2.649</td>\n",
       "      <td>1.980</td>\n",
       "    </tr>\n",
       "    <tr>\n",
       "      <th>...</th>\n",
       "      <td>...</td>\n",
       "      <td>...</td>\n",
       "      <td>...</td>\n",
       "      <td>...</td>\n",
       "      <td>...</td>\n",
       "      <td>...</td>\n",
       "    </tr>\n",
       "    <tr>\n",
       "      <th>306</th>\n",
       "      <td>1.517</td>\n",
       "      <td>NaN</td>\n",
       "      <td>1.111</td>\n",
       "      <td>0.526</td>\n",
       "      <td>0.524</td>\n",
       "      <td>1.729</td>\n",
       "    </tr>\n",
       "    <tr>\n",
       "      <th>307</th>\n",
       "      <td>1.596</td>\n",
       "      <td>NaN</td>\n",
       "      <td>0.542</td>\n",
       "      <td>0.116</td>\n",
       "      <td>0.463</td>\n",
       "      <td>1.811</td>\n",
       "    </tr>\n",
       "    <tr>\n",
       "      <th>308</th>\n",
       "      <td>1.537</td>\n",
       "      <td>NaN</td>\n",
       "      <td>0.122</td>\n",
       "      <td>0.594</td>\n",
       "      <td>0.779</td>\n",
       "      <td>1.988</td>\n",
       "    </tr>\n",
       "    <tr>\n",
       "      <th>309</th>\n",
       "      <td>0.674</td>\n",
       "      <td>43.75</td>\n",
       "      <td>0.511</td>\n",
       "      <td>0.913</td>\n",
       "      <td>1.071</td>\n",
       "      <td>2.171</td>\n",
       "    </tr>\n",
       "    <tr>\n",
       "      <th>310</th>\n",
       "      <td>0.045</td>\n",
       "      <td>43.75</td>\n",
       "      <td>0.740</td>\n",
       "      <td>0.941</td>\n",
       "      <td>1.151</td>\n",
       "      <td>2.331</td>\n",
       "    </tr>\n",
       "  </tbody>\n",
       "</table>\n",
       "<p>311 rows × 6 columns</p>\n",
       "</div>"
      ],
      "text/plain": [
       "     ActualPower  Max Capacity  Location 3  Location 5  Location 7  Location 9\n",
       "0          0.142         42.50       2.930       2.855       2.770       2.097\n",
       "1          0.332         42.50       2.963       2.892       2.795       2.087\n",
       "2          0.563         42.50       2.926       2.853       2.808       2.084\n",
       "3          0.532         42.50       2.984       2.907       2.799       2.066\n",
       "4          0.508         42.50       2.893       2.836       2.649       1.980\n",
       "..           ...           ...         ...         ...         ...         ...\n",
       "306        1.517           NaN       1.111       0.526       0.524       1.729\n",
       "307        1.596           NaN       0.542       0.116       0.463       1.811\n",
       "308        1.537           NaN       0.122       0.594       0.779       1.988\n",
       "309        0.674         43.75       0.511       0.913       1.071       2.171\n",
       "310        0.045         43.75       0.740       0.941       1.151       2.331\n",
       "\n",
       "[311 rows x 6 columns]"
      ]
     },
     "execution_count": 230,
     "metadata": {},
     "output_type": "execute_result"
    }
   ],
   "source": [
    "df"
   ]
  },
  {
   "cell_type": "code",
   "execution_count": 231,
   "metadata": {},
   "outputs": [],
   "source": [
    "df.columns = ['actualpower', 'max_capacity', 'location_3', 'location_5', 'location_7', 'location_9']"
   ]
  },
  {
   "cell_type": "code",
   "execution_count": 232,
   "metadata": {},
   "outputs": [
    {
     "data": {
      "text/html": [
       "<div>\n",
       "<style scoped>\n",
       "    .dataframe tbody tr th:only-of-type {\n",
       "        vertical-align: middle;\n",
       "    }\n",
       "\n",
       "    .dataframe tbody tr th {\n",
       "        vertical-align: top;\n",
       "    }\n",
       "\n",
       "    .dataframe thead th {\n",
       "        text-align: right;\n",
       "    }\n",
       "</style>\n",
       "<table border=\"1\" class=\"dataframe\">\n",
       "  <thead>\n",
       "    <tr style=\"text-align: right;\">\n",
       "      <th></th>\n",
       "      <th>actualpower</th>\n",
       "      <th>max_capacity</th>\n",
       "      <th>location_3</th>\n",
       "      <th>location_5</th>\n",
       "      <th>location_7</th>\n",
       "      <th>location_9</th>\n",
       "    </tr>\n",
       "  </thead>\n",
       "  <tbody>\n",
       "    <tr>\n",
       "      <th>count</th>\n",
       "      <td>311.00</td>\n",
       "      <td>307.00</td>\n",
       "      <td>310.00</td>\n",
       "      <td>310.00</td>\n",
       "      <td>311.00</td>\n",
       "      <td>310.00</td>\n",
       "    </tr>\n",
       "    <tr>\n",
       "      <th>mean</th>\n",
       "      <td>11.28</td>\n",
       "      <td>42.36</td>\n",
       "      <td>5.55</td>\n",
       "      <td>5.53</td>\n",
       "      <td>5.39</td>\n",
       "      <td>4.67</td>\n",
       "    </tr>\n",
       "    <tr>\n",
       "      <th>std</th>\n",
       "      <td>7.99</td>\n",
       "      <td>0.71</td>\n",
       "      <td>1.84</td>\n",
       "      <td>1.86</td>\n",
       "      <td>1.81</td>\n",
       "      <td>1.72</td>\n",
       "    </tr>\n",
       "    <tr>\n",
       "      <th>min</th>\n",
       "      <td>0.00</td>\n",
       "      <td>39.50</td>\n",
       "      <td>0.12</td>\n",
       "      <td>0.12</td>\n",
       "      <td>0.10</td>\n",
       "      <td>0.05</td>\n",
       "    </tr>\n",
       "    <tr>\n",
       "      <th>25%</th>\n",
       "      <td>4.82</td>\n",
       "      <td>42.50</td>\n",
       "      <td>4.83</td>\n",
       "      <td>4.78</td>\n",
       "      <td>4.69</td>\n",
       "      <td>3.98</td>\n",
       "    </tr>\n",
       "    <tr>\n",
       "      <th>50%</th>\n",
       "      <td>10.01</td>\n",
       "      <td>42.50</td>\n",
       "      <td>5.69</td>\n",
       "      <td>5.70</td>\n",
       "      <td>5.60</td>\n",
       "      <td>4.82</td>\n",
       "    </tr>\n",
       "    <tr>\n",
       "      <th>75%</th>\n",
       "      <td>15.93</td>\n",
       "      <td>42.50</td>\n",
       "      <td>6.71</td>\n",
       "      <td>6.75</td>\n",
       "      <td>6.63</td>\n",
       "      <td>5.76</td>\n",
       "    </tr>\n",
       "    <tr>\n",
       "      <th>max</th>\n",
       "      <td>34.18</td>\n",
       "      <td>43.75</td>\n",
       "      <td>8.83</td>\n",
       "      <td>8.68</td>\n",
       "      <td>8.31</td>\n",
       "      <td>7.67</td>\n",
       "    </tr>\n",
       "  </tbody>\n",
       "</table>\n",
       "</div>"
      ],
      "text/plain": [
       "       actualpower  max_capacity  location_3  location_5  location_7  \\\n",
       "count       311.00        307.00      310.00      310.00      311.00   \n",
       "mean         11.28         42.36        5.55        5.53        5.39   \n",
       "std           7.99          0.71        1.84        1.86        1.81   \n",
       "min           0.00         39.50        0.12        0.12        0.10   \n",
       "25%           4.82         42.50        4.83        4.78        4.69   \n",
       "50%          10.01         42.50        5.69        5.70        5.60   \n",
       "75%          15.93         42.50        6.71        6.75        6.63   \n",
       "max          34.18         43.75        8.83        8.68        8.31   \n",
       "\n",
       "       location_9  \n",
       "count      310.00  \n",
       "mean         4.67  \n",
       "std          1.72  \n",
       "min          0.05  \n",
       "25%          3.98  \n",
       "50%          4.82  \n",
       "75%          5.76  \n",
       "max          7.67  "
      ]
     },
     "execution_count": 232,
     "metadata": {},
     "output_type": "execute_result"
    }
   ],
   "source": [
    "df.describe().round(2)"
   ]
  },
  {
   "cell_type": "markdown",
   "metadata": {},
   "source": [
    "### Перевірка пропусків:"
   ]
  },
  {
   "cell_type": "code",
   "execution_count": 233,
   "metadata": {},
   "outputs": [
    {
     "name": "stdout",
     "output_type": "stream",
     "text": [
      "<class 'pandas.core.frame.DataFrame'>\n",
      "RangeIndex: 311 entries, 0 to 310\n",
      "Data columns (total 6 columns):\n",
      "actualpower     311 non-null float64\n",
      "max_capacity    307 non-null float64\n",
      "location_3      310 non-null float64\n",
      "location_5      310 non-null float64\n",
      "location_7      311 non-null float64\n",
      "location_9      310 non-null float64\n",
      "dtypes: float64(6)\n",
      "memory usage: 14.7 KB\n"
     ]
    }
   ],
   "source": [
    "df.info()"
   ]
  },
  {
   "cell_type": "code",
   "execution_count": 234,
   "metadata": {},
   "outputs": [
    {
     "data": {
      "text/plain": [
       "actualpower     0\n",
       "max_capacity    4\n",
       "location_3      1\n",
       "location_5      1\n",
       "location_7      0\n",
       "location_9      1\n",
       "dtype: int64"
      ]
     },
     "execution_count": 234,
     "metadata": {},
     "output_type": "execute_result"
    }
   ],
   "source": [
    "df.isna().sum()"
   ]
  },
  {
   "cell_type": "markdown",
   "metadata": {},
   "source": [
    "### Висновок:\n",
    "В змінних \"Max Capacity\", \"Location 3\", \"Location 5\", \"Location 9\" присутні пропуски."
   ]
  },
  {
   "cell_type": "markdown",
   "metadata": {},
   "source": [
    "### Візуалізація даних та заповнення пропусків:"
   ]
  },
  {
   "cell_type": "code",
   "execution_count": 235,
   "metadata": {},
   "outputs": [
    {
     "data": {
      "application/vnd.plotly.v1+json": {
       "config": {
        "plotlyServerURL": "https://plot.ly"
       },
       "data": [
        {
         "alignmentgroup": "True",
         "bingroup": "x",
         "hovertemplate": "actualpower=%{x}<br>count=%{y}<extra></extra>",
         "legendgroup": "",
         "marker": {
          "color": "#636efa"
         },
         "name": "",
         "offsetgroup": "",
         "orientation": "v",
         "showlegend": false,
         "type": "histogram",
         "x": [
          0.142,
          0.332,
          0.563,
          0.532,
          0.508,
          0.764,
          0.42700000000000005,
          0.5820000000000001,
          0.7040000000000001,
          0.752,
          0.821,
          1.304,
          1.4080000000000001,
          1.206,
          0.772,
          0.516,
          0.5579999999999999,
          0.368,
          0.034,
          0.002,
          0.026000000000000002,
          0.069,
          0.364,
          0.698,
          0.8079999999999999,
          3.3,
          6.642,
          8.339,
          11.107999999999999,
          13.693,
          15.242,
          15.234000000000002,
          15.956,
          15.259,
          14.091,
          14.716,
          16.19,
          18.491,
          19.024,
          16.942999999999998,
          14.714,
          15.017000000000001,
          15.425999999999998,
          15.943,
          15.668,
          17.901,
          15.630999999999998,
          13.610999999999999,
          11.934000000000001,
          11.012,
          14.292,
          13.987,
          12.617,
          16.506,
          19.483,
          22.719,
          24.122,
          25.965999999999998,
          28.513,
          25.480999999999998,
          26.511,
          28.281,
          31.125,
          31.628,
          32.342,
          32.57,
          34.18,
          33.951,
          33.654,
          32.406,
          30.059,
          27.255,
          24.648000000000003,
          26.278000000000002,
          25.338,
          27.47,
          29.699,
          29.203000000000003,
          28.572,
          25.998,
          22.86,
          19.964000000000002,
          21.863000000000003,
          22.205,
          15.113,
          14.802999999999999,
          16.642,
          14.912,
          16.019000000000002,
          16.684,
          13.649000000000001,
          11.523,
          10.331,
          10.554,
          10.523,
          14.633,
          22.578000000000003,
          23.988000000000003,
          20.561999999999998,
          13.249,
          6.856,
          7.379,
          7.356,
          7.813,
          6.337999999999999,
          4.676,
          2.721,
          3.096,
          4.162,
          3.06,
          1.466,
          1.703,
          3.2769999999999997,
          3.804,
          3.66,
          4.393,
          4.308,
          4.502,
          6.266,
          6.809,
          5.6339999999999995,
          4.752,
          7.292000000000001,
          10.585,
          14.113,
          14.488,
          16.214000000000002,
          17.29,
          13.356,
          13.097999999999999,
          11.925999999999998,
          10.442,
          12.11,
          11.569,
          12.151,
          11.507,
          10.517999999999999,
          9.776,
          8.625,
          7.42,
          7.269,
          9.902000000000001,
          11.465,
          9.882,
          7.178,
          3.9819999999999998,
          2.2769999999999997,
          1.969,
          2.263,
          4.163,
          6.7170000000000005,
          8.076,
          7.479,
          9.844,
          14.315999999999999,
          15.434000000000001,
          15.568,
          15.091,
          13.599,
          15.921,
          16.83,
          16.624000000000002,
          17.207,
          18.488,
          20.035,
          20.31,
          20.541,
          18.922,
          21.315,
          22.273000000000003,
          23.385,
          21.099,
          20.379,
          20.31,
          19.634,
          18.41,
          19.437,
          17.052,
          14.332,
          12.367,
          10.008,
          9.107000000000001,
          9.899,
          8.004,
          7.0760000000000005,
          6.979,
          6.235,
          5.492999999999999,
          5.041,
          4.293,
          3.6639999999999997,
          4.257,
          4.922,
          5.523,
          5.109,
          4.4,
          4.282,
          5.011,
          4.88,
          4.478,
          4.938,
          7.152,
          8.558,
          7.507999999999999,
          6.84,
          7.851,
          8.479,
          8.355,
          8.125,
          7.57,
          7.52,
          6.9079999999999995,
          7.079,
          8.576,
          9.668,
          9.581,
          8.056000000000001,
          7.3,
          8.096,
          9.142000000000001,
          9.1,
          9.051,
          8.462,
          9.472999999999999,
          10.093,
          9.642000000000001,
          9.407,
          9.164,
          8.752,
          10.284,
          9.513,
          11.491,
          11.607999999999999,
          10.780999999999999,
          11.972000000000001,
          16.172,
          19.143,
          20.997,
          22.435,
          22.73,
          21.686,
          21.406999999999996,
          21.138,
          21.049,
          20.644000000000002,
          20.862,
          20.519000000000002,
          19.199,
          18.323,
          14.059000000000001,
          12.107999999999999,
          11.059000000000001,
          10.116,
          10.097000000000001,
          11.130999999999998,
          10.868,
          10.940999999999999,
          11.128,
          11.59,
          12.539000000000001,
          11.384,
          10.842,
          10.214,
          9.339,
          9.195,
          9.544,
          8.943,
          8.875,
          9.482999999999999,
          9.443,
          8.654,
          9.16,
          11.62,
          11.752,
          11.172,
          12.05,
          12.347999999999999,
          11.277999999999999,
          10.527000000000001,
          9.199,
          8.32,
          8.81,
          10.027999999999999,
          7.268,
          3.3569999999999998,
          0.6829999999999999,
          0.9159999999999999,
          1.3980000000000001,
          2.417,
          2.7030000000000003,
          1.306,
          1.02,
          0.9940000000000001,
          2.0180000000000002,
          3.6689999999999996,
          4.059,
          4.697,
          4.671,
          3.452,
          2.926,
          3.5010000000000003,
          3.082,
          2.498,
          2.095,
          1.891,
          1.75,
          1.517,
          1.5959999999999999,
          1.537,
          0.674,
          0.045
         ],
         "xaxis": "x",
         "yaxis": "y"
        }
       ],
       "layout": {
        "barmode": "relative",
        "height": 500,
        "legend": {
         "tracegroupgap": 0
        },
        "margin": {
         "t": 60
        },
        "template": {
         "data": {
          "bar": [
           {
            "error_x": {
             "color": "#2a3f5f"
            },
            "error_y": {
             "color": "#2a3f5f"
            },
            "marker": {
             "line": {
              "color": "#E5ECF6",
              "width": 0.5
             }
            },
            "type": "bar"
           }
          ],
          "barpolar": [
           {
            "marker": {
             "line": {
              "color": "#E5ECF6",
              "width": 0.5
             }
            },
            "type": "barpolar"
           }
          ],
          "carpet": [
           {
            "aaxis": {
             "endlinecolor": "#2a3f5f",
             "gridcolor": "white",
             "linecolor": "white",
             "minorgridcolor": "white",
             "startlinecolor": "#2a3f5f"
            },
            "baxis": {
             "endlinecolor": "#2a3f5f",
             "gridcolor": "white",
             "linecolor": "white",
             "minorgridcolor": "white",
             "startlinecolor": "#2a3f5f"
            },
            "type": "carpet"
           }
          ],
          "choropleth": [
           {
            "colorbar": {
             "outlinewidth": 0,
             "ticks": ""
            },
            "type": "choropleth"
           }
          ],
          "contour": [
           {
            "colorbar": {
             "outlinewidth": 0,
             "ticks": ""
            },
            "colorscale": [
             [
              0,
              "#0d0887"
             ],
             [
              0.1111111111111111,
              "#46039f"
             ],
             [
              0.2222222222222222,
              "#7201a8"
             ],
             [
              0.3333333333333333,
              "#9c179e"
             ],
             [
              0.4444444444444444,
              "#bd3786"
             ],
             [
              0.5555555555555556,
              "#d8576b"
             ],
             [
              0.6666666666666666,
              "#ed7953"
             ],
             [
              0.7777777777777778,
              "#fb9f3a"
             ],
             [
              0.8888888888888888,
              "#fdca26"
             ],
             [
              1,
              "#f0f921"
             ]
            ],
            "type": "contour"
           }
          ],
          "contourcarpet": [
           {
            "colorbar": {
             "outlinewidth": 0,
             "ticks": ""
            },
            "type": "contourcarpet"
           }
          ],
          "heatmap": [
           {
            "colorbar": {
             "outlinewidth": 0,
             "ticks": ""
            },
            "colorscale": [
             [
              0,
              "#0d0887"
             ],
             [
              0.1111111111111111,
              "#46039f"
             ],
             [
              0.2222222222222222,
              "#7201a8"
             ],
             [
              0.3333333333333333,
              "#9c179e"
             ],
             [
              0.4444444444444444,
              "#bd3786"
             ],
             [
              0.5555555555555556,
              "#d8576b"
             ],
             [
              0.6666666666666666,
              "#ed7953"
             ],
             [
              0.7777777777777778,
              "#fb9f3a"
             ],
             [
              0.8888888888888888,
              "#fdca26"
             ],
             [
              1,
              "#f0f921"
             ]
            ],
            "type": "heatmap"
           }
          ],
          "heatmapgl": [
           {
            "colorbar": {
             "outlinewidth": 0,
             "ticks": ""
            },
            "colorscale": [
             [
              0,
              "#0d0887"
             ],
             [
              0.1111111111111111,
              "#46039f"
             ],
             [
              0.2222222222222222,
              "#7201a8"
             ],
             [
              0.3333333333333333,
              "#9c179e"
             ],
             [
              0.4444444444444444,
              "#bd3786"
             ],
             [
              0.5555555555555556,
              "#d8576b"
             ],
             [
              0.6666666666666666,
              "#ed7953"
             ],
             [
              0.7777777777777778,
              "#fb9f3a"
             ],
             [
              0.8888888888888888,
              "#fdca26"
             ],
             [
              1,
              "#f0f921"
             ]
            ],
            "type": "heatmapgl"
           }
          ],
          "histogram": [
           {
            "marker": {
             "colorbar": {
              "outlinewidth": 0,
              "ticks": ""
             }
            },
            "type": "histogram"
           }
          ],
          "histogram2d": [
           {
            "colorbar": {
             "outlinewidth": 0,
             "ticks": ""
            },
            "colorscale": [
             [
              0,
              "#0d0887"
             ],
             [
              0.1111111111111111,
              "#46039f"
             ],
             [
              0.2222222222222222,
              "#7201a8"
             ],
             [
              0.3333333333333333,
              "#9c179e"
             ],
             [
              0.4444444444444444,
              "#bd3786"
             ],
             [
              0.5555555555555556,
              "#d8576b"
             ],
             [
              0.6666666666666666,
              "#ed7953"
             ],
             [
              0.7777777777777778,
              "#fb9f3a"
             ],
             [
              0.8888888888888888,
              "#fdca26"
             ],
             [
              1,
              "#f0f921"
             ]
            ],
            "type": "histogram2d"
           }
          ],
          "histogram2dcontour": [
           {
            "colorbar": {
             "outlinewidth": 0,
             "ticks": ""
            },
            "colorscale": [
             [
              0,
              "#0d0887"
             ],
             [
              0.1111111111111111,
              "#46039f"
             ],
             [
              0.2222222222222222,
              "#7201a8"
             ],
             [
              0.3333333333333333,
              "#9c179e"
             ],
             [
              0.4444444444444444,
              "#bd3786"
             ],
             [
              0.5555555555555556,
              "#d8576b"
             ],
             [
              0.6666666666666666,
              "#ed7953"
             ],
             [
              0.7777777777777778,
              "#fb9f3a"
             ],
             [
              0.8888888888888888,
              "#fdca26"
             ],
             [
              1,
              "#f0f921"
             ]
            ],
            "type": "histogram2dcontour"
           }
          ],
          "mesh3d": [
           {
            "colorbar": {
             "outlinewidth": 0,
             "ticks": ""
            },
            "type": "mesh3d"
           }
          ],
          "parcoords": [
           {
            "line": {
             "colorbar": {
              "outlinewidth": 0,
              "ticks": ""
             }
            },
            "type": "parcoords"
           }
          ],
          "pie": [
           {
            "automargin": true,
            "type": "pie"
           }
          ],
          "scatter": [
           {
            "marker": {
             "colorbar": {
              "outlinewidth": 0,
              "ticks": ""
             }
            },
            "type": "scatter"
           }
          ],
          "scatter3d": [
           {
            "line": {
             "colorbar": {
              "outlinewidth": 0,
              "ticks": ""
             }
            },
            "marker": {
             "colorbar": {
              "outlinewidth": 0,
              "ticks": ""
             }
            },
            "type": "scatter3d"
           }
          ],
          "scattercarpet": [
           {
            "marker": {
             "colorbar": {
              "outlinewidth": 0,
              "ticks": ""
             }
            },
            "type": "scattercarpet"
           }
          ],
          "scattergeo": [
           {
            "marker": {
             "colorbar": {
              "outlinewidth": 0,
              "ticks": ""
             }
            },
            "type": "scattergeo"
           }
          ],
          "scattergl": [
           {
            "marker": {
             "colorbar": {
              "outlinewidth": 0,
              "ticks": ""
             }
            },
            "type": "scattergl"
           }
          ],
          "scattermapbox": [
           {
            "marker": {
             "colorbar": {
              "outlinewidth": 0,
              "ticks": ""
             }
            },
            "type": "scattermapbox"
           }
          ],
          "scatterpolar": [
           {
            "marker": {
             "colorbar": {
              "outlinewidth": 0,
              "ticks": ""
             }
            },
            "type": "scatterpolar"
           }
          ],
          "scatterpolargl": [
           {
            "marker": {
             "colorbar": {
              "outlinewidth": 0,
              "ticks": ""
             }
            },
            "type": "scatterpolargl"
           }
          ],
          "scatterternary": [
           {
            "marker": {
             "colorbar": {
              "outlinewidth": 0,
              "ticks": ""
             }
            },
            "type": "scatterternary"
           }
          ],
          "surface": [
           {
            "colorbar": {
             "outlinewidth": 0,
             "ticks": ""
            },
            "colorscale": [
             [
              0,
              "#0d0887"
             ],
             [
              0.1111111111111111,
              "#46039f"
             ],
             [
              0.2222222222222222,
              "#7201a8"
             ],
             [
              0.3333333333333333,
              "#9c179e"
             ],
             [
              0.4444444444444444,
              "#bd3786"
             ],
             [
              0.5555555555555556,
              "#d8576b"
             ],
             [
              0.6666666666666666,
              "#ed7953"
             ],
             [
              0.7777777777777778,
              "#fb9f3a"
             ],
             [
              0.8888888888888888,
              "#fdca26"
             ],
             [
              1,
              "#f0f921"
             ]
            ],
            "type": "surface"
           }
          ],
          "table": [
           {
            "cells": {
             "fill": {
              "color": "#EBF0F8"
             },
             "line": {
              "color": "white"
             }
            },
            "header": {
             "fill": {
              "color": "#C8D4E3"
             },
             "line": {
              "color": "white"
             }
            },
            "type": "table"
           }
          ]
         },
         "layout": {
          "annotationdefaults": {
           "arrowcolor": "#2a3f5f",
           "arrowhead": 0,
           "arrowwidth": 1
          },
          "coloraxis": {
           "colorbar": {
            "outlinewidth": 0,
            "ticks": ""
           }
          },
          "colorscale": {
           "diverging": [
            [
             0,
             "#8e0152"
            ],
            [
             0.1,
             "#c51b7d"
            ],
            [
             0.2,
             "#de77ae"
            ],
            [
             0.3,
             "#f1b6da"
            ],
            [
             0.4,
             "#fde0ef"
            ],
            [
             0.5,
             "#f7f7f7"
            ],
            [
             0.6,
             "#e6f5d0"
            ],
            [
             0.7,
             "#b8e186"
            ],
            [
             0.8,
             "#7fbc41"
            ],
            [
             0.9,
             "#4d9221"
            ],
            [
             1,
             "#276419"
            ]
           ],
           "sequential": [
            [
             0,
             "#0d0887"
            ],
            [
             0.1111111111111111,
             "#46039f"
            ],
            [
             0.2222222222222222,
             "#7201a8"
            ],
            [
             0.3333333333333333,
             "#9c179e"
            ],
            [
             0.4444444444444444,
             "#bd3786"
            ],
            [
             0.5555555555555556,
             "#d8576b"
            ],
            [
             0.6666666666666666,
             "#ed7953"
            ],
            [
             0.7777777777777778,
             "#fb9f3a"
            ],
            [
             0.8888888888888888,
             "#fdca26"
            ],
            [
             1,
             "#f0f921"
            ]
           ],
           "sequentialminus": [
            [
             0,
             "#0d0887"
            ],
            [
             0.1111111111111111,
             "#46039f"
            ],
            [
             0.2222222222222222,
             "#7201a8"
            ],
            [
             0.3333333333333333,
             "#9c179e"
            ],
            [
             0.4444444444444444,
             "#bd3786"
            ],
            [
             0.5555555555555556,
             "#d8576b"
            ],
            [
             0.6666666666666666,
             "#ed7953"
            ],
            [
             0.7777777777777778,
             "#fb9f3a"
            ],
            [
             0.8888888888888888,
             "#fdca26"
            ],
            [
             1,
             "#f0f921"
            ]
           ]
          },
          "colorway": [
           "#636efa",
           "#EF553B",
           "#00cc96",
           "#ab63fa",
           "#FFA15A",
           "#19d3f3",
           "#FF6692",
           "#B6E880",
           "#FF97FF",
           "#FECB52"
          ],
          "font": {
           "color": "#2a3f5f"
          },
          "geo": {
           "bgcolor": "white",
           "lakecolor": "white",
           "landcolor": "#E5ECF6",
           "showlakes": true,
           "showland": true,
           "subunitcolor": "white"
          },
          "hoverlabel": {
           "align": "left"
          },
          "hovermode": "closest",
          "mapbox": {
           "style": "light"
          },
          "paper_bgcolor": "white",
          "plot_bgcolor": "#E5ECF6",
          "polar": {
           "angularaxis": {
            "gridcolor": "white",
            "linecolor": "white",
            "ticks": ""
           },
           "bgcolor": "#E5ECF6",
           "radialaxis": {
            "gridcolor": "white",
            "linecolor": "white",
            "ticks": ""
           }
          },
          "scene": {
           "xaxis": {
            "backgroundcolor": "#E5ECF6",
            "gridcolor": "white",
            "gridwidth": 2,
            "linecolor": "white",
            "showbackground": true,
            "ticks": "",
            "zerolinecolor": "white"
           },
           "yaxis": {
            "backgroundcolor": "#E5ECF6",
            "gridcolor": "white",
            "gridwidth": 2,
            "linecolor": "white",
            "showbackground": true,
            "ticks": "",
            "zerolinecolor": "white"
           },
           "zaxis": {
            "backgroundcolor": "#E5ECF6",
            "gridcolor": "white",
            "gridwidth": 2,
            "linecolor": "white",
            "showbackground": true,
            "ticks": "",
            "zerolinecolor": "white"
           }
          },
          "shapedefaults": {
           "line": {
            "color": "#2a3f5f"
           }
          },
          "ternary": {
           "aaxis": {
            "gridcolor": "white",
            "linecolor": "white",
            "ticks": ""
           },
           "baxis": {
            "gridcolor": "white",
            "linecolor": "white",
            "ticks": ""
           },
           "bgcolor": "#E5ECF6",
           "caxis": {
            "gridcolor": "white",
            "linecolor": "white",
            "ticks": ""
           }
          },
          "title": {
           "x": 0.05
          },
          "xaxis": {
           "automargin": true,
           "gridcolor": "white",
           "linecolor": "white",
           "ticks": "",
           "title": {
            "standoff": 15
           },
           "zerolinecolor": "white",
           "zerolinewidth": 2
          },
          "yaxis": {
           "automargin": true,
           "gridcolor": "white",
           "linecolor": "white",
           "ticks": "",
           "title": {
            "standoff": 15
           },
           "zerolinecolor": "white",
           "zerolinewidth": 2
          }
         }
        },
        "title": {
         "text": "Actual power"
        },
        "xaxis": {
         "anchor": "y",
         "domain": [
          0,
          1
         ],
         "title": {
          "text": "actualpower"
         }
        },
        "yaxis": {
         "anchor": "x",
         "domain": [
          0,
          1
         ],
         "title": {
          "text": "count"
         }
        }
       }
      },
      "text/html": [
       "<div>\n",
       "        \n",
       "        \n",
       "            <div id=\"17d62ffc-c575-43c0-82c6-a9013656656d\" class=\"plotly-graph-div\" style=\"height:500px; width:100%;\"></div>\n",
       "            <script type=\"text/javascript\">\n",
       "                require([\"plotly\"], function(Plotly) {\n",
       "                    window.PLOTLYENV=window.PLOTLYENV || {};\n",
       "                    \n",
       "                if (document.getElementById(\"17d62ffc-c575-43c0-82c6-a9013656656d\")) {\n",
       "                    Plotly.newPlot(\n",
       "                        '17d62ffc-c575-43c0-82c6-a9013656656d',\n",
       "                        [{\"alignmentgroup\": \"True\", \"bingroup\": \"x\", \"hovertemplate\": \"actualpower=%{x}<br>count=%{y}<extra></extra>\", \"legendgroup\": \"\", \"marker\": {\"color\": \"#636efa\"}, \"name\": \"\", \"offsetgroup\": \"\", \"orientation\": \"v\", \"showlegend\": false, \"type\": \"histogram\", \"x\": [0.142, 0.332, 0.563, 0.532, 0.508, 0.764, 0.42700000000000005, 0.5820000000000001, 0.7040000000000001, 0.752, 0.821, 1.304, 1.4080000000000001, 1.206, 0.772, 0.516, 0.5579999999999999, 0.368, 0.034, 0.002, 0.026000000000000002, 0.069, 0.364, 0.698, 0.8079999999999999, 3.3, 6.642, 8.339, 11.107999999999999, 13.693, 15.242, 15.234000000000002, 15.956, 15.259, 14.091, 14.716, 16.19, 18.491, 19.024, 16.942999999999998, 14.714, 15.017000000000001, 15.425999999999998, 15.943, 15.668, 17.901, 15.630999999999998, 13.610999999999999, 11.934000000000001, 11.012, 14.292, 13.987, 12.617, 16.506, 19.483, 22.719, 24.122, 25.965999999999998, 28.513, 25.480999999999998, 26.511, 28.281, 31.125, 31.628, 32.342, 32.57, 34.18, 33.951, 33.654, 32.406, 30.059, 27.255, 24.648000000000003, 26.278000000000002, 25.338, 27.47, 29.699, 29.203000000000003, 28.572, 25.998, 22.86, 19.964000000000002, 21.863000000000003, 22.205, 15.113, 14.802999999999999, 16.642, 14.912, 16.019000000000002, 16.684, 13.649000000000001, 11.523, 10.331, 10.554, 10.523, 14.633, 22.578000000000003, 23.988000000000003, 20.561999999999998, 13.249, 6.856, 7.379, 7.356, 7.813, 6.337999999999999, 4.676, 2.721, 3.096, 4.162, 3.06, 1.466, 1.703, 3.2769999999999997, 3.804, 3.66, 4.393, 4.308, 4.502, 6.266, 6.809, 5.6339999999999995, 4.752, 7.292000000000001, 10.585, 14.113, 14.488, 16.214000000000002, 17.29, 13.356, 13.097999999999999, 11.925999999999998, 10.442, 12.11, 11.569, 12.151, 11.507, 10.517999999999999, 9.776, 8.625, 7.42, 7.269, 9.902000000000001, 11.465, 9.882, 7.178, 3.9819999999999998, 2.2769999999999997, 1.969, 2.263, 4.163, 6.7170000000000005, 8.076, 7.479, 9.844, 14.315999999999999, 15.434000000000001, 15.568, 15.091, 13.599, 15.921, 16.83, 16.624000000000002, 17.207, 18.488, 20.035, 20.31, 20.541, 18.922, 21.315, 22.273000000000003, 23.385, 21.099, 20.379, 20.31, 19.634, 18.41, 19.437, 17.052, 14.332, 12.367, 10.008, 9.107000000000001, 9.899, 8.004, 7.0760000000000005, 6.979, 6.235, 5.492999999999999, 5.041, 4.293, 3.6639999999999997, 4.257, 4.922, 5.523, 5.109, 4.4, 4.282, 5.011, 4.88, 4.478, 4.938, 7.152, 8.558, 7.507999999999999, 6.84, 7.851, 8.479, 8.355, 8.125, 7.57, 7.52, 6.9079999999999995, 7.079, 8.576, 9.668, 9.581, 8.056000000000001, 7.3, 8.096, 9.142000000000001, 9.1, 9.051, 8.462, 9.472999999999999, 10.093, 9.642000000000001, 9.407, 9.164, 8.752, 10.284, 9.513, 11.491, 11.607999999999999, 10.780999999999999, 11.972000000000001, 16.172, 19.143, 20.997, 22.435, 22.73, 21.686, 21.406999999999996, 21.138, 21.049, 20.644000000000002, 20.862, 20.519000000000002, 19.199, 18.323, 14.059000000000001, 12.107999999999999, 11.059000000000001, 10.116, 10.097000000000001, 11.130999999999998, 10.868, 10.940999999999999, 11.128, 11.59, 12.539000000000001, 11.384, 10.842, 10.214, 9.339, 9.195, 9.544, 8.943, 8.875, 9.482999999999999, 9.443, 8.654, 9.16, 11.62, 11.752, 11.172, 12.05, 12.347999999999999, 11.277999999999999, 10.527000000000001, 9.199, 8.32, 8.81, 10.027999999999999, 7.268, 3.3569999999999998, 0.6829999999999999, 0.9159999999999999, 1.3980000000000001, 2.417, 2.7030000000000003, 1.306, 1.02, 0.9940000000000001, 2.0180000000000002, 3.6689999999999996, 4.059, 4.697, 4.671, 3.452, 2.926, 3.5010000000000003, 3.082, 2.498, 2.095, 1.891, 1.75, 1.517, 1.5959999999999999, 1.537, 0.674, 0.045], \"xaxis\": \"x\", \"yaxis\": \"y\"}],\n",
       "                        {\"barmode\": \"relative\", \"height\": 500, \"legend\": {\"tracegroupgap\": 0}, \"margin\": {\"t\": 60}, \"template\": {\"data\": {\"bar\": [{\"error_x\": {\"color\": \"#2a3f5f\"}, \"error_y\": {\"color\": \"#2a3f5f\"}, \"marker\": {\"line\": {\"color\": \"#E5ECF6\", \"width\": 0.5}}, \"type\": \"bar\"}], \"barpolar\": [{\"marker\": {\"line\": {\"color\": \"#E5ECF6\", \"width\": 0.5}}, \"type\": \"barpolar\"}], \"carpet\": [{\"aaxis\": {\"endlinecolor\": \"#2a3f5f\", \"gridcolor\": \"white\", \"linecolor\": \"white\", \"minorgridcolor\": \"white\", \"startlinecolor\": \"#2a3f5f\"}, \"baxis\": {\"endlinecolor\": \"#2a3f5f\", \"gridcolor\": \"white\", \"linecolor\": \"white\", \"minorgridcolor\": \"white\", \"startlinecolor\": \"#2a3f5f\"}, \"type\": \"carpet\"}], \"choropleth\": [{\"colorbar\": {\"outlinewidth\": 0, \"ticks\": \"\"}, \"type\": \"choropleth\"}], \"contour\": [{\"colorbar\": {\"outlinewidth\": 0, \"ticks\": \"\"}, \"colorscale\": [[0.0, \"#0d0887\"], [0.1111111111111111, \"#46039f\"], [0.2222222222222222, \"#7201a8\"], [0.3333333333333333, \"#9c179e\"], [0.4444444444444444, \"#bd3786\"], [0.5555555555555556, \"#d8576b\"], [0.6666666666666666, \"#ed7953\"], [0.7777777777777778, \"#fb9f3a\"], [0.8888888888888888, \"#fdca26\"], [1.0, \"#f0f921\"]], \"type\": \"contour\"}], \"contourcarpet\": [{\"colorbar\": {\"outlinewidth\": 0, \"ticks\": \"\"}, \"type\": \"contourcarpet\"}], \"heatmap\": [{\"colorbar\": {\"outlinewidth\": 0, \"ticks\": \"\"}, \"colorscale\": [[0.0, \"#0d0887\"], [0.1111111111111111, \"#46039f\"], [0.2222222222222222, \"#7201a8\"], [0.3333333333333333, \"#9c179e\"], [0.4444444444444444, \"#bd3786\"], [0.5555555555555556, \"#d8576b\"], [0.6666666666666666, \"#ed7953\"], [0.7777777777777778, \"#fb9f3a\"], [0.8888888888888888, \"#fdca26\"], [1.0, \"#f0f921\"]], \"type\": \"heatmap\"}], \"heatmapgl\": [{\"colorbar\": {\"outlinewidth\": 0, \"ticks\": \"\"}, \"colorscale\": [[0.0, \"#0d0887\"], [0.1111111111111111, \"#46039f\"], [0.2222222222222222, \"#7201a8\"], [0.3333333333333333, \"#9c179e\"], [0.4444444444444444, \"#bd3786\"], [0.5555555555555556, \"#d8576b\"], [0.6666666666666666, \"#ed7953\"], [0.7777777777777778, \"#fb9f3a\"], [0.8888888888888888, \"#fdca26\"], [1.0, \"#f0f921\"]], \"type\": \"heatmapgl\"}], \"histogram\": [{\"marker\": {\"colorbar\": {\"outlinewidth\": 0, \"ticks\": \"\"}}, \"type\": \"histogram\"}], \"histogram2d\": [{\"colorbar\": {\"outlinewidth\": 0, \"ticks\": \"\"}, \"colorscale\": [[0.0, \"#0d0887\"], [0.1111111111111111, \"#46039f\"], [0.2222222222222222, \"#7201a8\"], [0.3333333333333333, \"#9c179e\"], [0.4444444444444444, \"#bd3786\"], [0.5555555555555556, \"#d8576b\"], [0.6666666666666666, \"#ed7953\"], [0.7777777777777778, \"#fb9f3a\"], [0.8888888888888888, \"#fdca26\"], [1.0, \"#f0f921\"]], \"type\": \"histogram2d\"}], \"histogram2dcontour\": [{\"colorbar\": {\"outlinewidth\": 0, \"ticks\": \"\"}, \"colorscale\": [[0.0, \"#0d0887\"], [0.1111111111111111, \"#46039f\"], [0.2222222222222222, \"#7201a8\"], [0.3333333333333333, \"#9c179e\"], [0.4444444444444444, \"#bd3786\"], [0.5555555555555556, \"#d8576b\"], [0.6666666666666666, \"#ed7953\"], [0.7777777777777778, \"#fb9f3a\"], [0.8888888888888888, \"#fdca26\"], [1.0, \"#f0f921\"]], \"type\": \"histogram2dcontour\"}], \"mesh3d\": [{\"colorbar\": {\"outlinewidth\": 0, \"ticks\": \"\"}, \"type\": \"mesh3d\"}], \"parcoords\": [{\"line\": {\"colorbar\": {\"outlinewidth\": 0, \"ticks\": \"\"}}, \"type\": \"parcoords\"}], \"pie\": [{\"automargin\": true, \"type\": \"pie\"}], \"scatter\": [{\"marker\": {\"colorbar\": {\"outlinewidth\": 0, \"ticks\": \"\"}}, \"type\": \"scatter\"}], \"scatter3d\": [{\"line\": {\"colorbar\": {\"outlinewidth\": 0, \"ticks\": \"\"}}, \"marker\": {\"colorbar\": {\"outlinewidth\": 0, \"ticks\": \"\"}}, \"type\": \"scatter3d\"}], \"scattercarpet\": [{\"marker\": {\"colorbar\": {\"outlinewidth\": 0, \"ticks\": \"\"}}, \"type\": \"scattercarpet\"}], \"scattergeo\": [{\"marker\": {\"colorbar\": {\"outlinewidth\": 0, \"ticks\": \"\"}}, \"type\": \"scattergeo\"}], \"scattergl\": [{\"marker\": {\"colorbar\": {\"outlinewidth\": 0, \"ticks\": \"\"}}, \"type\": \"scattergl\"}], \"scattermapbox\": [{\"marker\": {\"colorbar\": {\"outlinewidth\": 0, \"ticks\": \"\"}}, \"type\": \"scattermapbox\"}], \"scatterpolar\": [{\"marker\": {\"colorbar\": {\"outlinewidth\": 0, \"ticks\": \"\"}}, \"type\": \"scatterpolar\"}], \"scatterpolargl\": [{\"marker\": {\"colorbar\": {\"outlinewidth\": 0, \"ticks\": \"\"}}, \"type\": \"scatterpolargl\"}], \"scatterternary\": [{\"marker\": {\"colorbar\": {\"outlinewidth\": 0, \"ticks\": \"\"}}, \"type\": \"scatterternary\"}], \"surface\": [{\"colorbar\": {\"outlinewidth\": 0, \"ticks\": \"\"}, \"colorscale\": [[0.0, \"#0d0887\"], [0.1111111111111111, \"#46039f\"], [0.2222222222222222, \"#7201a8\"], [0.3333333333333333, \"#9c179e\"], [0.4444444444444444, \"#bd3786\"], [0.5555555555555556, \"#d8576b\"], [0.6666666666666666, \"#ed7953\"], [0.7777777777777778, \"#fb9f3a\"], [0.8888888888888888, \"#fdca26\"], [1.0, \"#f0f921\"]], \"type\": \"surface\"}], \"table\": [{\"cells\": {\"fill\": {\"color\": \"#EBF0F8\"}, \"line\": {\"color\": \"white\"}}, \"header\": {\"fill\": {\"color\": \"#C8D4E3\"}, \"line\": {\"color\": \"white\"}}, \"type\": \"table\"}]}, \"layout\": {\"annotationdefaults\": {\"arrowcolor\": \"#2a3f5f\", \"arrowhead\": 0, \"arrowwidth\": 1}, \"coloraxis\": {\"colorbar\": {\"outlinewidth\": 0, \"ticks\": \"\"}}, \"colorscale\": {\"diverging\": [[0, \"#8e0152\"], [0.1, \"#c51b7d\"], [0.2, \"#de77ae\"], [0.3, \"#f1b6da\"], [0.4, \"#fde0ef\"], [0.5, \"#f7f7f7\"], [0.6, \"#e6f5d0\"], [0.7, \"#b8e186\"], [0.8, \"#7fbc41\"], [0.9, \"#4d9221\"], [1, \"#276419\"]], \"sequential\": [[0.0, \"#0d0887\"], [0.1111111111111111, \"#46039f\"], [0.2222222222222222, \"#7201a8\"], [0.3333333333333333, \"#9c179e\"], [0.4444444444444444, \"#bd3786\"], [0.5555555555555556, \"#d8576b\"], [0.6666666666666666, \"#ed7953\"], [0.7777777777777778, \"#fb9f3a\"], [0.8888888888888888, \"#fdca26\"], [1.0, \"#f0f921\"]], \"sequentialminus\": [[0.0, \"#0d0887\"], [0.1111111111111111, \"#46039f\"], [0.2222222222222222, \"#7201a8\"], [0.3333333333333333, \"#9c179e\"], [0.4444444444444444, \"#bd3786\"], [0.5555555555555556, \"#d8576b\"], [0.6666666666666666, \"#ed7953\"], [0.7777777777777778, \"#fb9f3a\"], [0.8888888888888888, \"#fdca26\"], [1.0, \"#f0f921\"]]}, \"colorway\": [\"#636efa\", \"#EF553B\", \"#00cc96\", \"#ab63fa\", \"#FFA15A\", \"#19d3f3\", \"#FF6692\", \"#B6E880\", \"#FF97FF\", \"#FECB52\"], \"font\": {\"color\": \"#2a3f5f\"}, \"geo\": {\"bgcolor\": \"white\", \"lakecolor\": \"white\", \"landcolor\": \"#E5ECF6\", \"showlakes\": true, \"showland\": true, \"subunitcolor\": \"white\"}, \"hoverlabel\": {\"align\": \"left\"}, \"hovermode\": \"closest\", \"mapbox\": {\"style\": \"light\"}, \"paper_bgcolor\": \"white\", \"plot_bgcolor\": \"#E5ECF6\", \"polar\": {\"angularaxis\": {\"gridcolor\": \"white\", \"linecolor\": \"white\", \"ticks\": \"\"}, \"bgcolor\": \"#E5ECF6\", \"radialaxis\": {\"gridcolor\": \"white\", \"linecolor\": \"white\", \"ticks\": \"\"}}, \"scene\": {\"xaxis\": {\"backgroundcolor\": \"#E5ECF6\", \"gridcolor\": \"white\", \"gridwidth\": 2, \"linecolor\": \"white\", \"showbackground\": true, \"ticks\": \"\", \"zerolinecolor\": \"white\"}, \"yaxis\": {\"backgroundcolor\": \"#E5ECF6\", \"gridcolor\": \"white\", \"gridwidth\": 2, \"linecolor\": \"white\", \"showbackground\": true, \"ticks\": \"\", \"zerolinecolor\": \"white\"}, \"zaxis\": {\"backgroundcolor\": \"#E5ECF6\", \"gridcolor\": \"white\", \"gridwidth\": 2, \"linecolor\": \"white\", \"showbackground\": true, \"ticks\": \"\", \"zerolinecolor\": \"white\"}}, \"shapedefaults\": {\"line\": {\"color\": \"#2a3f5f\"}}, \"ternary\": {\"aaxis\": {\"gridcolor\": \"white\", \"linecolor\": \"white\", \"ticks\": \"\"}, \"baxis\": {\"gridcolor\": \"white\", \"linecolor\": \"white\", \"ticks\": \"\"}, \"bgcolor\": \"#E5ECF6\", \"caxis\": {\"gridcolor\": \"white\", \"linecolor\": \"white\", \"ticks\": \"\"}}, \"title\": {\"x\": 0.05}, \"xaxis\": {\"automargin\": true, \"gridcolor\": \"white\", \"linecolor\": \"white\", \"ticks\": \"\", \"title\": {\"standoff\": 15}, \"zerolinecolor\": \"white\", \"zerolinewidth\": 2}, \"yaxis\": {\"automargin\": true, \"gridcolor\": \"white\", \"linecolor\": \"white\", \"ticks\": \"\", \"title\": {\"standoff\": 15}, \"zerolinecolor\": \"white\", \"zerolinewidth\": 2}}}, \"title\": {\"text\": \"Actual power\"}, \"xaxis\": {\"anchor\": \"y\", \"domain\": [0.0, 1.0], \"title\": {\"text\": \"actualpower\"}}, \"yaxis\": {\"anchor\": \"x\", \"domain\": [0.0, 1.0], \"title\": {\"text\": \"count\"}}},\n",
       "                        {\"responsive\": true}\n",
       "                    ).then(function(){\n",
       "                            \n",
       "var gd = document.getElementById('17d62ffc-c575-43c0-82c6-a9013656656d');\n",
       "var x = new MutationObserver(function (mutations, observer) {{\n",
       "        var display = window.getComputedStyle(gd).display;\n",
       "        if (!display || display === 'none') {{\n",
       "            console.log([gd, 'removed!']);\n",
       "            Plotly.purge(gd);\n",
       "            observer.disconnect();\n",
       "        }}\n",
       "}});\n",
       "\n",
       "// Listen for the removal of the full notebook cells\n",
       "var notebookContainer = gd.closest('#notebook-container');\n",
       "if (notebookContainer) {{\n",
       "    x.observe(notebookContainer, {childList: true});\n",
       "}}\n",
       "\n",
       "// Listen for the clearing of the current output cell\n",
       "var outputEl = gd.closest('.output');\n",
       "if (outputEl) {{\n",
       "    x.observe(outputEl, {childList: true});\n",
       "}}\n",
       "\n",
       "                        })\n",
       "                };\n",
       "                });\n",
       "            </script>\n",
       "        </div>"
      ]
     },
     "metadata": {},
     "output_type": "display_data"
    }
   ],
   "source": [
    "fig = px.histogram(df, x='actualpower')\n",
    "fig.update_layout(height=500, title_text='Actual power')\n",
    "fig.show()"
   ]
  },
  {
   "cell_type": "code",
   "execution_count": 236,
   "metadata": {},
   "outputs": [
    {
     "data": {
      "application/vnd.plotly.v1+json": {
       "config": {
        "plotlyServerURL": "https://plot.ly"
       },
       "data": [
        {
         "alignmentgroup": "True",
         "bingroup": "x",
         "hovertemplate": "max_capacity=%{x}<br>count=%{y}<extra></extra>",
         "legendgroup": "",
         "marker": {
          "color": "#636efa"
         },
         "name": "",
         "offsetgroup": "",
         "orientation": "v",
         "showlegend": false,
         "type": "histogram",
         "x": [
          42.5,
          42.5,
          42.5,
          42.5,
          42.5,
          42.5,
          42.5,
          42.5,
          42.5,
          42.5,
          42.5,
          42.5,
          42.5,
          42.5,
          42.5,
          42.5,
          42.5,
          42.5,
          null,
          42.5,
          42.5,
          42.5,
          42.5,
          42.5,
          42.5,
          42.5,
          42.5,
          42.5,
          42.5,
          42.5,
          42.5,
          42.5,
          42.5,
          42.5,
          42.5,
          42.5,
          42.5,
          42.5,
          42.5,
          42.5,
          42.5,
          42.5,
          42.5,
          42.5,
          42.5,
          42.5,
          42.5,
          42.5,
          42.5,
          42.5,
          42.5,
          42.5,
          42.5,
          42.5,
          42.5,
          42.5,
          42.5,
          42.5,
          42.5,
          42.5,
          42.5,
          41,
          42.5,
          42.5,
          42.5,
          42.5,
          42.5,
          42.5,
          42.5,
          42.5,
          42.5,
          42.5,
          42.5,
          41,
          41,
          39.5,
          39.5,
          41,
          41,
          41,
          41,
          41,
          41,
          41,
          41,
          41,
          41,
          41,
          41,
          41,
          41,
          41,
          39.5,
          39.5,
          39.5,
          41,
          41,
          41,
          39.5,
          41,
          42.5,
          42.5,
          42.5,
          42.5,
          42.5,
          42.5,
          42.5,
          42.5,
          42.5,
          42.5,
          42.5,
          42.5,
          42.5,
          42.5,
          42.5,
          42.5,
          42.5,
          42.5,
          42.5,
          42.5,
          42.5,
          42.5,
          42.5,
          42.5,
          42.5,
          42.5,
          42.5,
          42.5,
          42.5,
          42.5,
          42.5,
          42.5,
          42.5,
          42.5,
          42.5,
          42.5,
          42.5,
          42.5,
          42.5,
          42.5,
          42.5,
          42.5,
          42.5,
          42.5,
          42.5,
          42.5,
          42.5,
          42.5,
          42.5,
          42.5,
          42.5,
          42.5,
          42.5,
          42.5,
          42.5,
          42.5,
          42.5,
          42.5,
          42.5,
          42.5,
          42.5,
          42.5,
          42.5,
          42.5,
          42.5,
          42.5,
          42.5,
          42.5,
          42.5,
          42.5,
          42.5,
          42.5,
          42.5,
          42.5,
          42.5,
          42.5,
          42.5,
          42.5,
          42.5,
          42.5,
          42.5,
          42.5,
          42.5,
          42.5,
          42.5,
          42.5,
          42.5,
          41.25,
          41.25,
          41.25,
          41.25,
          41.25,
          41.25,
          41.25,
          41.25,
          41.25,
          41.25,
          41.25,
          41.25,
          41.25,
          41.25,
          41.25,
          42.5,
          42.5,
          42.5,
          42.5,
          42.5,
          42.5,
          42.5,
          42.5,
          42.5,
          42.5,
          42.5,
          42.5,
          42.5,
          42.5,
          42.5,
          42.5,
          42.5,
          42.5,
          42.5,
          42.5,
          42.5,
          42.5,
          42.5,
          42.5,
          42.5,
          42.5,
          42.5,
          42.5,
          42.5,
          42.5,
          42.5,
          42.5,
          42.5,
          42.5,
          42.5,
          42.5,
          42.5,
          42.5,
          42.5,
          42.5,
          42.5,
          42.5,
          42.5,
          42.5,
          42.5,
          42.5,
          42.5,
          42.5,
          42.5,
          42.5,
          42.5,
          42.5,
          42.5,
          42.5,
          42.5,
          42.5,
          42.5,
          42.5,
          42.5,
          42.5,
          42.5,
          42.5,
          42.5,
          42.5,
          42.5,
          42.5,
          42.5,
          42.5,
          42.5,
          42.5,
          42.5,
          42.5,
          42.5,
          42.5,
          42.5,
          42.5,
          42.5,
          42.5,
          42.5,
          42.5,
          42.5,
          42.5,
          42.5,
          42.5,
          42.5,
          43.75,
          43.75,
          43.75,
          43.75,
          43.75,
          43.75,
          43.75,
          43.75,
          43.75,
          43.75,
          43.75,
          43.75,
          43.75,
          43.75,
          43.75,
          43.75,
          43.75,
          43.75,
          43.75,
          null,
          null,
          null,
          43.75,
          43.75
         ],
         "xaxis": "x",
         "yaxis": "y"
        }
       ],
       "layout": {
        "barmode": "relative",
        "height": 500,
        "legend": {
         "tracegroupgap": 0
        },
        "margin": {
         "t": 60
        },
        "template": {
         "data": {
          "bar": [
           {
            "error_x": {
             "color": "#2a3f5f"
            },
            "error_y": {
             "color": "#2a3f5f"
            },
            "marker": {
             "line": {
              "color": "#E5ECF6",
              "width": 0.5
             }
            },
            "type": "bar"
           }
          ],
          "barpolar": [
           {
            "marker": {
             "line": {
              "color": "#E5ECF6",
              "width": 0.5
             }
            },
            "type": "barpolar"
           }
          ],
          "carpet": [
           {
            "aaxis": {
             "endlinecolor": "#2a3f5f",
             "gridcolor": "white",
             "linecolor": "white",
             "minorgridcolor": "white",
             "startlinecolor": "#2a3f5f"
            },
            "baxis": {
             "endlinecolor": "#2a3f5f",
             "gridcolor": "white",
             "linecolor": "white",
             "minorgridcolor": "white",
             "startlinecolor": "#2a3f5f"
            },
            "type": "carpet"
           }
          ],
          "choropleth": [
           {
            "colorbar": {
             "outlinewidth": 0,
             "ticks": ""
            },
            "type": "choropleth"
           }
          ],
          "contour": [
           {
            "colorbar": {
             "outlinewidth": 0,
             "ticks": ""
            },
            "colorscale": [
             [
              0,
              "#0d0887"
             ],
             [
              0.1111111111111111,
              "#46039f"
             ],
             [
              0.2222222222222222,
              "#7201a8"
             ],
             [
              0.3333333333333333,
              "#9c179e"
             ],
             [
              0.4444444444444444,
              "#bd3786"
             ],
             [
              0.5555555555555556,
              "#d8576b"
             ],
             [
              0.6666666666666666,
              "#ed7953"
             ],
             [
              0.7777777777777778,
              "#fb9f3a"
             ],
             [
              0.8888888888888888,
              "#fdca26"
             ],
             [
              1,
              "#f0f921"
             ]
            ],
            "type": "contour"
           }
          ],
          "contourcarpet": [
           {
            "colorbar": {
             "outlinewidth": 0,
             "ticks": ""
            },
            "type": "contourcarpet"
           }
          ],
          "heatmap": [
           {
            "colorbar": {
             "outlinewidth": 0,
             "ticks": ""
            },
            "colorscale": [
             [
              0,
              "#0d0887"
             ],
             [
              0.1111111111111111,
              "#46039f"
             ],
             [
              0.2222222222222222,
              "#7201a8"
             ],
             [
              0.3333333333333333,
              "#9c179e"
             ],
             [
              0.4444444444444444,
              "#bd3786"
             ],
             [
              0.5555555555555556,
              "#d8576b"
             ],
             [
              0.6666666666666666,
              "#ed7953"
             ],
             [
              0.7777777777777778,
              "#fb9f3a"
             ],
             [
              0.8888888888888888,
              "#fdca26"
             ],
             [
              1,
              "#f0f921"
             ]
            ],
            "type": "heatmap"
           }
          ],
          "heatmapgl": [
           {
            "colorbar": {
             "outlinewidth": 0,
             "ticks": ""
            },
            "colorscale": [
             [
              0,
              "#0d0887"
             ],
             [
              0.1111111111111111,
              "#46039f"
             ],
             [
              0.2222222222222222,
              "#7201a8"
             ],
             [
              0.3333333333333333,
              "#9c179e"
             ],
             [
              0.4444444444444444,
              "#bd3786"
             ],
             [
              0.5555555555555556,
              "#d8576b"
             ],
             [
              0.6666666666666666,
              "#ed7953"
             ],
             [
              0.7777777777777778,
              "#fb9f3a"
             ],
             [
              0.8888888888888888,
              "#fdca26"
             ],
             [
              1,
              "#f0f921"
             ]
            ],
            "type": "heatmapgl"
           }
          ],
          "histogram": [
           {
            "marker": {
             "colorbar": {
              "outlinewidth": 0,
              "ticks": ""
             }
            },
            "type": "histogram"
           }
          ],
          "histogram2d": [
           {
            "colorbar": {
             "outlinewidth": 0,
             "ticks": ""
            },
            "colorscale": [
             [
              0,
              "#0d0887"
             ],
             [
              0.1111111111111111,
              "#46039f"
             ],
             [
              0.2222222222222222,
              "#7201a8"
             ],
             [
              0.3333333333333333,
              "#9c179e"
             ],
             [
              0.4444444444444444,
              "#bd3786"
             ],
             [
              0.5555555555555556,
              "#d8576b"
             ],
             [
              0.6666666666666666,
              "#ed7953"
             ],
             [
              0.7777777777777778,
              "#fb9f3a"
             ],
             [
              0.8888888888888888,
              "#fdca26"
             ],
             [
              1,
              "#f0f921"
             ]
            ],
            "type": "histogram2d"
           }
          ],
          "histogram2dcontour": [
           {
            "colorbar": {
             "outlinewidth": 0,
             "ticks": ""
            },
            "colorscale": [
             [
              0,
              "#0d0887"
             ],
             [
              0.1111111111111111,
              "#46039f"
             ],
             [
              0.2222222222222222,
              "#7201a8"
             ],
             [
              0.3333333333333333,
              "#9c179e"
             ],
             [
              0.4444444444444444,
              "#bd3786"
             ],
             [
              0.5555555555555556,
              "#d8576b"
             ],
             [
              0.6666666666666666,
              "#ed7953"
             ],
             [
              0.7777777777777778,
              "#fb9f3a"
             ],
             [
              0.8888888888888888,
              "#fdca26"
             ],
             [
              1,
              "#f0f921"
             ]
            ],
            "type": "histogram2dcontour"
           }
          ],
          "mesh3d": [
           {
            "colorbar": {
             "outlinewidth": 0,
             "ticks": ""
            },
            "type": "mesh3d"
           }
          ],
          "parcoords": [
           {
            "line": {
             "colorbar": {
              "outlinewidth": 0,
              "ticks": ""
             }
            },
            "type": "parcoords"
           }
          ],
          "pie": [
           {
            "automargin": true,
            "type": "pie"
           }
          ],
          "scatter": [
           {
            "marker": {
             "colorbar": {
              "outlinewidth": 0,
              "ticks": ""
             }
            },
            "type": "scatter"
           }
          ],
          "scatter3d": [
           {
            "line": {
             "colorbar": {
              "outlinewidth": 0,
              "ticks": ""
             }
            },
            "marker": {
             "colorbar": {
              "outlinewidth": 0,
              "ticks": ""
             }
            },
            "type": "scatter3d"
           }
          ],
          "scattercarpet": [
           {
            "marker": {
             "colorbar": {
              "outlinewidth": 0,
              "ticks": ""
             }
            },
            "type": "scattercarpet"
           }
          ],
          "scattergeo": [
           {
            "marker": {
             "colorbar": {
              "outlinewidth": 0,
              "ticks": ""
             }
            },
            "type": "scattergeo"
           }
          ],
          "scattergl": [
           {
            "marker": {
             "colorbar": {
              "outlinewidth": 0,
              "ticks": ""
             }
            },
            "type": "scattergl"
           }
          ],
          "scattermapbox": [
           {
            "marker": {
             "colorbar": {
              "outlinewidth": 0,
              "ticks": ""
             }
            },
            "type": "scattermapbox"
           }
          ],
          "scatterpolar": [
           {
            "marker": {
             "colorbar": {
              "outlinewidth": 0,
              "ticks": ""
             }
            },
            "type": "scatterpolar"
           }
          ],
          "scatterpolargl": [
           {
            "marker": {
             "colorbar": {
              "outlinewidth": 0,
              "ticks": ""
             }
            },
            "type": "scatterpolargl"
           }
          ],
          "scatterternary": [
           {
            "marker": {
             "colorbar": {
              "outlinewidth": 0,
              "ticks": ""
             }
            },
            "type": "scatterternary"
           }
          ],
          "surface": [
           {
            "colorbar": {
             "outlinewidth": 0,
             "ticks": ""
            },
            "colorscale": [
             [
              0,
              "#0d0887"
             ],
             [
              0.1111111111111111,
              "#46039f"
             ],
             [
              0.2222222222222222,
              "#7201a8"
             ],
             [
              0.3333333333333333,
              "#9c179e"
             ],
             [
              0.4444444444444444,
              "#bd3786"
             ],
             [
              0.5555555555555556,
              "#d8576b"
             ],
             [
              0.6666666666666666,
              "#ed7953"
             ],
             [
              0.7777777777777778,
              "#fb9f3a"
             ],
             [
              0.8888888888888888,
              "#fdca26"
             ],
             [
              1,
              "#f0f921"
             ]
            ],
            "type": "surface"
           }
          ],
          "table": [
           {
            "cells": {
             "fill": {
              "color": "#EBF0F8"
             },
             "line": {
              "color": "white"
             }
            },
            "header": {
             "fill": {
              "color": "#C8D4E3"
             },
             "line": {
              "color": "white"
             }
            },
            "type": "table"
           }
          ]
         },
         "layout": {
          "annotationdefaults": {
           "arrowcolor": "#2a3f5f",
           "arrowhead": 0,
           "arrowwidth": 1
          },
          "coloraxis": {
           "colorbar": {
            "outlinewidth": 0,
            "ticks": ""
           }
          },
          "colorscale": {
           "diverging": [
            [
             0,
             "#8e0152"
            ],
            [
             0.1,
             "#c51b7d"
            ],
            [
             0.2,
             "#de77ae"
            ],
            [
             0.3,
             "#f1b6da"
            ],
            [
             0.4,
             "#fde0ef"
            ],
            [
             0.5,
             "#f7f7f7"
            ],
            [
             0.6,
             "#e6f5d0"
            ],
            [
             0.7,
             "#b8e186"
            ],
            [
             0.8,
             "#7fbc41"
            ],
            [
             0.9,
             "#4d9221"
            ],
            [
             1,
             "#276419"
            ]
           ],
           "sequential": [
            [
             0,
             "#0d0887"
            ],
            [
             0.1111111111111111,
             "#46039f"
            ],
            [
             0.2222222222222222,
             "#7201a8"
            ],
            [
             0.3333333333333333,
             "#9c179e"
            ],
            [
             0.4444444444444444,
             "#bd3786"
            ],
            [
             0.5555555555555556,
             "#d8576b"
            ],
            [
             0.6666666666666666,
             "#ed7953"
            ],
            [
             0.7777777777777778,
             "#fb9f3a"
            ],
            [
             0.8888888888888888,
             "#fdca26"
            ],
            [
             1,
             "#f0f921"
            ]
           ],
           "sequentialminus": [
            [
             0,
             "#0d0887"
            ],
            [
             0.1111111111111111,
             "#46039f"
            ],
            [
             0.2222222222222222,
             "#7201a8"
            ],
            [
             0.3333333333333333,
             "#9c179e"
            ],
            [
             0.4444444444444444,
             "#bd3786"
            ],
            [
             0.5555555555555556,
             "#d8576b"
            ],
            [
             0.6666666666666666,
             "#ed7953"
            ],
            [
             0.7777777777777778,
             "#fb9f3a"
            ],
            [
             0.8888888888888888,
             "#fdca26"
            ],
            [
             1,
             "#f0f921"
            ]
           ]
          },
          "colorway": [
           "#636efa",
           "#EF553B",
           "#00cc96",
           "#ab63fa",
           "#FFA15A",
           "#19d3f3",
           "#FF6692",
           "#B6E880",
           "#FF97FF",
           "#FECB52"
          ],
          "font": {
           "color": "#2a3f5f"
          },
          "geo": {
           "bgcolor": "white",
           "lakecolor": "white",
           "landcolor": "#E5ECF6",
           "showlakes": true,
           "showland": true,
           "subunitcolor": "white"
          },
          "hoverlabel": {
           "align": "left"
          },
          "hovermode": "closest",
          "mapbox": {
           "style": "light"
          },
          "paper_bgcolor": "white",
          "plot_bgcolor": "#E5ECF6",
          "polar": {
           "angularaxis": {
            "gridcolor": "white",
            "linecolor": "white",
            "ticks": ""
           },
           "bgcolor": "#E5ECF6",
           "radialaxis": {
            "gridcolor": "white",
            "linecolor": "white",
            "ticks": ""
           }
          },
          "scene": {
           "xaxis": {
            "backgroundcolor": "#E5ECF6",
            "gridcolor": "white",
            "gridwidth": 2,
            "linecolor": "white",
            "showbackground": true,
            "ticks": "",
            "zerolinecolor": "white"
           },
           "yaxis": {
            "backgroundcolor": "#E5ECF6",
            "gridcolor": "white",
            "gridwidth": 2,
            "linecolor": "white",
            "showbackground": true,
            "ticks": "",
            "zerolinecolor": "white"
           },
           "zaxis": {
            "backgroundcolor": "#E5ECF6",
            "gridcolor": "white",
            "gridwidth": 2,
            "linecolor": "white",
            "showbackground": true,
            "ticks": "",
            "zerolinecolor": "white"
           }
          },
          "shapedefaults": {
           "line": {
            "color": "#2a3f5f"
           }
          },
          "ternary": {
           "aaxis": {
            "gridcolor": "white",
            "linecolor": "white",
            "ticks": ""
           },
           "baxis": {
            "gridcolor": "white",
            "linecolor": "white",
            "ticks": ""
           },
           "bgcolor": "#E5ECF6",
           "caxis": {
            "gridcolor": "white",
            "linecolor": "white",
            "ticks": ""
           }
          },
          "title": {
           "x": 0.05
          },
          "xaxis": {
           "automargin": true,
           "gridcolor": "white",
           "linecolor": "white",
           "ticks": "",
           "title": {
            "standoff": 15
           },
           "zerolinecolor": "white",
           "zerolinewidth": 2
          },
          "yaxis": {
           "automargin": true,
           "gridcolor": "white",
           "linecolor": "white",
           "ticks": "",
           "title": {
            "standoff": 15
           },
           "zerolinecolor": "white",
           "zerolinewidth": 2
          }
         }
        },
        "title": {
         "text": "Max capacity"
        },
        "xaxis": {
         "anchor": "y",
         "domain": [
          0,
          1
         ],
         "title": {
          "text": "max_capacity"
         }
        },
        "yaxis": {
         "anchor": "x",
         "domain": [
          0,
          1
         ],
         "title": {
          "text": "count"
         }
        }
       }
      },
      "text/html": [
       "<div>\n",
       "        \n",
       "        \n",
       "            <div id=\"8aee1212-7b9d-48ac-9c3b-92ea47a48ded\" class=\"plotly-graph-div\" style=\"height:500px; width:100%;\"></div>\n",
       "            <script type=\"text/javascript\">\n",
       "                require([\"plotly\"], function(Plotly) {\n",
       "                    window.PLOTLYENV=window.PLOTLYENV || {};\n",
       "                    \n",
       "                if (document.getElementById(\"8aee1212-7b9d-48ac-9c3b-92ea47a48ded\")) {\n",
       "                    Plotly.newPlot(\n",
       "                        '8aee1212-7b9d-48ac-9c3b-92ea47a48ded',\n",
       "                        [{\"alignmentgroup\": \"True\", \"bingroup\": \"x\", \"hovertemplate\": \"max_capacity=%{x}<br>count=%{y}<extra></extra>\", \"legendgroup\": \"\", \"marker\": {\"color\": \"#636efa\"}, \"name\": \"\", \"offsetgroup\": \"\", \"orientation\": \"v\", \"showlegend\": false, \"type\": \"histogram\", \"x\": [42.5, 42.5, 42.5, 42.5, 42.5, 42.5, 42.5, 42.5, 42.5, 42.5, 42.5, 42.5, 42.5, 42.5, 42.5, 42.5, 42.5, 42.5, null, 42.5, 42.5, 42.5, 42.5, 42.5, 42.5, 42.5, 42.5, 42.5, 42.5, 42.5, 42.5, 42.5, 42.5, 42.5, 42.5, 42.5, 42.5, 42.5, 42.5, 42.5, 42.5, 42.5, 42.5, 42.5, 42.5, 42.5, 42.5, 42.5, 42.5, 42.5, 42.5, 42.5, 42.5, 42.5, 42.5, 42.5, 42.5, 42.5, 42.5, 42.5, 42.5, 41.0, 42.5, 42.5, 42.5, 42.5, 42.5, 42.5, 42.5, 42.5, 42.5, 42.5, 42.5, 41.0, 41.0, 39.5, 39.5, 41.0, 41.0, 41.0, 41.0, 41.0, 41.0, 41.0, 41.0, 41.0, 41.0, 41.0, 41.0, 41.0, 41.0, 41.0, 39.5, 39.5, 39.5, 41.0, 41.0, 41.0, 39.5, 41.0, 42.5, 42.5, 42.5, 42.5, 42.5, 42.5, 42.5, 42.5, 42.5, 42.5, 42.5, 42.5, 42.5, 42.5, 42.5, 42.5, 42.5, 42.5, 42.5, 42.5, 42.5, 42.5, 42.5, 42.5, 42.5, 42.5, 42.5, 42.5, 42.5, 42.5, 42.5, 42.5, 42.5, 42.5, 42.5, 42.5, 42.5, 42.5, 42.5, 42.5, 42.5, 42.5, 42.5, 42.5, 42.5, 42.5, 42.5, 42.5, 42.5, 42.5, 42.5, 42.5, 42.5, 42.5, 42.5, 42.5, 42.5, 42.5, 42.5, 42.5, 42.5, 42.5, 42.5, 42.5, 42.5, 42.5, 42.5, 42.5, 42.5, 42.5, 42.5, 42.5, 42.5, 42.5, 42.5, 42.5, 42.5, 42.5, 42.5, 42.5, 42.5, 42.5, 42.5, 42.5, 42.5, 42.5, 42.5, 41.25, 41.25, 41.25, 41.25, 41.25, 41.25, 41.25, 41.25, 41.25, 41.25, 41.25, 41.25, 41.25, 41.25, 41.25, 42.5, 42.5, 42.5, 42.5, 42.5, 42.5, 42.5, 42.5, 42.5, 42.5, 42.5, 42.5, 42.5, 42.5, 42.5, 42.5, 42.5, 42.5, 42.5, 42.5, 42.5, 42.5, 42.5, 42.5, 42.5, 42.5, 42.5, 42.5, 42.5, 42.5, 42.5, 42.5, 42.5, 42.5, 42.5, 42.5, 42.5, 42.5, 42.5, 42.5, 42.5, 42.5, 42.5, 42.5, 42.5, 42.5, 42.5, 42.5, 42.5, 42.5, 42.5, 42.5, 42.5, 42.5, 42.5, 42.5, 42.5, 42.5, 42.5, 42.5, 42.5, 42.5, 42.5, 42.5, 42.5, 42.5, 42.5, 42.5, 42.5, 42.5, 42.5, 42.5, 42.5, 42.5, 42.5, 42.5, 42.5, 42.5, 42.5, 42.5, 42.5, 42.5, 42.5, 42.5, 42.5, 43.75, 43.75, 43.75, 43.75, 43.75, 43.75, 43.75, 43.75, 43.75, 43.75, 43.75, 43.75, 43.75, 43.75, 43.75, 43.75, 43.75, 43.75, 43.75, null, null, null, 43.75, 43.75], \"xaxis\": \"x\", \"yaxis\": \"y\"}],\n",
       "                        {\"barmode\": \"relative\", \"height\": 500, \"legend\": {\"tracegroupgap\": 0}, \"margin\": {\"t\": 60}, \"template\": {\"data\": {\"bar\": [{\"error_x\": {\"color\": \"#2a3f5f\"}, \"error_y\": {\"color\": \"#2a3f5f\"}, \"marker\": {\"line\": {\"color\": \"#E5ECF6\", \"width\": 0.5}}, \"type\": \"bar\"}], \"barpolar\": [{\"marker\": {\"line\": {\"color\": \"#E5ECF6\", \"width\": 0.5}}, \"type\": \"barpolar\"}], \"carpet\": [{\"aaxis\": {\"endlinecolor\": \"#2a3f5f\", \"gridcolor\": \"white\", \"linecolor\": \"white\", \"minorgridcolor\": \"white\", \"startlinecolor\": \"#2a3f5f\"}, \"baxis\": {\"endlinecolor\": \"#2a3f5f\", \"gridcolor\": \"white\", \"linecolor\": \"white\", \"minorgridcolor\": \"white\", \"startlinecolor\": \"#2a3f5f\"}, \"type\": \"carpet\"}], \"choropleth\": [{\"colorbar\": {\"outlinewidth\": 0, \"ticks\": \"\"}, \"type\": \"choropleth\"}], \"contour\": [{\"colorbar\": {\"outlinewidth\": 0, \"ticks\": \"\"}, \"colorscale\": [[0.0, \"#0d0887\"], [0.1111111111111111, \"#46039f\"], [0.2222222222222222, \"#7201a8\"], [0.3333333333333333, \"#9c179e\"], [0.4444444444444444, \"#bd3786\"], [0.5555555555555556, \"#d8576b\"], [0.6666666666666666, \"#ed7953\"], [0.7777777777777778, \"#fb9f3a\"], [0.8888888888888888, \"#fdca26\"], [1.0, \"#f0f921\"]], \"type\": \"contour\"}], \"contourcarpet\": [{\"colorbar\": {\"outlinewidth\": 0, \"ticks\": \"\"}, \"type\": \"contourcarpet\"}], \"heatmap\": [{\"colorbar\": {\"outlinewidth\": 0, \"ticks\": \"\"}, \"colorscale\": [[0.0, \"#0d0887\"], [0.1111111111111111, \"#46039f\"], [0.2222222222222222, \"#7201a8\"], [0.3333333333333333, \"#9c179e\"], [0.4444444444444444, \"#bd3786\"], [0.5555555555555556, \"#d8576b\"], [0.6666666666666666, \"#ed7953\"], [0.7777777777777778, \"#fb9f3a\"], [0.8888888888888888, \"#fdca26\"], [1.0, \"#f0f921\"]], \"type\": \"heatmap\"}], \"heatmapgl\": [{\"colorbar\": {\"outlinewidth\": 0, \"ticks\": \"\"}, \"colorscale\": [[0.0, \"#0d0887\"], [0.1111111111111111, \"#46039f\"], [0.2222222222222222, \"#7201a8\"], [0.3333333333333333, \"#9c179e\"], [0.4444444444444444, \"#bd3786\"], [0.5555555555555556, \"#d8576b\"], [0.6666666666666666, \"#ed7953\"], [0.7777777777777778, \"#fb9f3a\"], [0.8888888888888888, \"#fdca26\"], [1.0, \"#f0f921\"]], \"type\": \"heatmapgl\"}], \"histogram\": [{\"marker\": {\"colorbar\": {\"outlinewidth\": 0, \"ticks\": \"\"}}, \"type\": \"histogram\"}], \"histogram2d\": [{\"colorbar\": {\"outlinewidth\": 0, \"ticks\": \"\"}, \"colorscale\": [[0.0, \"#0d0887\"], [0.1111111111111111, \"#46039f\"], [0.2222222222222222, \"#7201a8\"], [0.3333333333333333, \"#9c179e\"], [0.4444444444444444, \"#bd3786\"], [0.5555555555555556, \"#d8576b\"], [0.6666666666666666, \"#ed7953\"], [0.7777777777777778, \"#fb9f3a\"], [0.8888888888888888, \"#fdca26\"], [1.0, \"#f0f921\"]], \"type\": \"histogram2d\"}], \"histogram2dcontour\": [{\"colorbar\": {\"outlinewidth\": 0, \"ticks\": \"\"}, \"colorscale\": [[0.0, \"#0d0887\"], [0.1111111111111111, \"#46039f\"], [0.2222222222222222, \"#7201a8\"], [0.3333333333333333, \"#9c179e\"], [0.4444444444444444, \"#bd3786\"], [0.5555555555555556, \"#d8576b\"], [0.6666666666666666, \"#ed7953\"], [0.7777777777777778, \"#fb9f3a\"], [0.8888888888888888, \"#fdca26\"], [1.0, \"#f0f921\"]], \"type\": \"histogram2dcontour\"}], \"mesh3d\": [{\"colorbar\": {\"outlinewidth\": 0, \"ticks\": \"\"}, \"type\": \"mesh3d\"}], \"parcoords\": [{\"line\": {\"colorbar\": {\"outlinewidth\": 0, \"ticks\": \"\"}}, \"type\": \"parcoords\"}], \"pie\": [{\"automargin\": true, \"type\": \"pie\"}], \"scatter\": [{\"marker\": {\"colorbar\": {\"outlinewidth\": 0, \"ticks\": \"\"}}, \"type\": \"scatter\"}], \"scatter3d\": [{\"line\": {\"colorbar\": {\"outlinewidth\": 0, \"ticks\": \"\"}}, \"marker\": {\"colorbar\": {\"outlinewidth\": 0, \"ticks\": \"\"}}, \"type\": \"scatter3d\"}], \"scattercarpet\": [{\"marker\": {\"colorbar\": {\"outlinewidth\": 0, \"ticks\": \"\"}}, \"type\": \"scattercarpet\"}], \"scattergeo\": [{\"marker\": {\"colorbar\": {\"outlinewidth\": 0, \"ticks\": \"\"}}, \"type\": \"scattergeo\"}], \"scattergl\": [{\"marker\": {\"colorbar\": {\"outlinewidth\": 0, \"ticks\": \"\"}}, \"type\": \"scattergl\"}], \"scattermapbox\": [{\"marker\": {\"colorbar\": {\"outlinewidth\": 0, \"ticks\": \"\"}}, \"type\": \"scattermapbox\"}], \"scatterpolar\": [{\"marker\": {\"colorbar\": {\"outlinewidth\": 0, \"ticks\": \"\"}}, \"type\": \"scatterpolar\"}], \"scatterpolargl\": [{\"marker\": {\"colorbar\": {\"outlinewidth\": 0, \"ticks\": \"\"}}, \"type\": \"scatterpolargl\"}], \"scatterternary\": [{\"marker\": {\"colorbar\": {\"outlinewidth\": 0, \"ticks\": \"\"}}, \"type\": \"scatterternary\"}], \"surface\": [{\"colorbar\": {\"outlinewidth\": 0, \"ticks\": \"\"}, \"colorscale\": [[0.0, \"#0d0887\"], [0.1111111111111111, \"#46039f\"], [0.2222222222222222, \"#7201a8\"], [0.3333333333333333, \"#9c179e\"], [0.4444444444444444, \"#bd3786\"], [0.5555555555555556, \"#d8576b\"], [0.6666666666666666, \"#ed7953\"], [0.7777777777777778, \"#fb9f3a\"], [0.8888888888888888, \"#fdca26\"], [1.0, \"#f0f921\"]], \"type\": \"surface\"}], \"table\": [{\"cells\": {\"fill\": {\"color\": \"#EBF0F8\"}, \"line\": {\"color\": \"white\"}}, \"header\": {\"fill\": {\"color\": \"#C8D4E3\"}, \"line\": {\"color\": \"white\"}}, \"type\": \"table\"}]}, \"layout\": {\"annotationdefaults\": {\"arrowcolor\": \"#2a3f5f\", \"arrowhead\": 0, \"arrowwidth\": 1}, \"coloraxis\": {\"colorbar\": {\"outlinewidth\": 0, \"ticks\": \"\"}}, \"colorscale\": {\"diverging\": [[0, \"#8e0152\"], [0.1, \"#c51b7d\"], [0.2, \"#de77ae\"], [0.3, \"#f1b6da\"], [0.4, \"#fde0ef\"], [0.5, \"#f7f7f7\"], [0.6, \"#e6f5d0\"], [0.7, \"#b8e186\"], [0.8, \"#7fbc41\"], [0.9, \"#4d9221\"], [1, \"#276419\"]], \"sequential\": [[0.0, \"#0d0887\"], [0.1111111111111111, \"#46039f\"], [0.2222222222222222, \"#7201a8\"], [0.3333333333333333, \"#9c179e\"], [0.4444444444444444, \"#bd3786\"], [0.5555555555555556, \"#d8576b\"], [0.6666666666666666, \"#ed7953\"], [0.7777777777777778, \"#fb9f3a\"], [0.8888888888888888, \"#fdca26\"], [1.0, \"#f0f921\"]], \"sequentialminus\": [[0.0, \"#0d0887\"], [0.1111111111111111, \"#46039f\"], [0.2222222222222222, \"#7201a8\"], [0.3333333333333333, \"#9c179e\"], [0.4444444444444444, \"#bd3786\"], [0.5555555555555556, \"#d8576b\"], [0.6666666666666666, \"#ed7953\"], [0.7777777777777778, \"#fb9f3a\"], [0.8888888888888888, \"#fdca26\"], [1.0, \"#f0f921\"]]}, \"colorway\": [\"#636efa\", \"#EF553B\", \"#00cc96\", \"#ab63fa\", \"#FFA15A\", \"#19d3f3\", \"#FF6692\", \"#B6E880\", \"#FF97FF\", \"#FECB52\"], \"font\": {\"color\": \"#2a3f5f\"}, \"geo\": {\"bgcolor\": \"white\", \"lakecolor\": \"white\", \"landcolor\": \"#E5ECF6\", \"showlakes\": true, \"showland\": true, \"subunitcolor\": \"white\"}, \"hoverlabel\": {\"align\": \"left\"}, \"hovermode\": \"closest\", \"mapbox\": {\"style\": \"light\"}, \"paper_bgcolor\": \"white\", \"plot_bgcolor\": \"#E5ECF6\", \"polar\": {\"angularaxis\": {\"gridcolor\": \"white\", \"linecolor\": \"white\", \"ticks\": \"\"}, \"bgcolor\": \"#E5ECF6\", \"radialaxis\": {\"gridcolor\": \"white\", \"linecolor\": \"white\", \"ticks\": \"\"}}, \"scene\": {\"xaxis\": {\"backgroundcolor\": \"#E5ECF6\", \"gridcolor\": \"white\", \"gridwidth\": 2, \"linecolor\": \"white\", \"showbackground\": true, \"ticks\": \"\", \"zerolinecolor\": \"white\"}, \"yaxis\": {\"backgroundcolor\": \"#E5ECF6\", \"gridcolor\": \"white\", \"gridwidth\": 2, \"linecolor\": \"white\", \"showbackground\": true, \"ticks\": \"\", \"zerolinecolor\": \"white\"}, \"zaxis\": {\"backgroundcolor\": \"#E5ECF6\", \"gridcolor\": \"white\", \"gridwidth\": 2, \"linecolor\": \"white\", \"showbackground\": true, \"ticks\": \"\", \"zerolinecolor\": \"white\"}}, \"shapedefaults\": {\"line\": {\"color\": \"#2a3f5f\"}}, \"ternary\": {\"aaxis\": {\"gridcolor\": \"white\", \"linecolor\": \"white\", \"ticks\": \"\"}, \"baxis\": {\"gridcolor\": \"white\", \"linecolor\": \"white\", \"ticks\": \"\"}, \"bgcolor\": \"#E5ECF6\", \"caxis\": {\"gridcolor\": \"white\", \"linecolor\": \"white\", \"ticks\": \"\"}}, \"title\": {\"x\": 0.05}, \"xaxis\": {\"automargin\": true, \"gridcolor\": \"white\", \"linecolor\": \"white\", \"ticks\": \"\", \"title\": {\"standoff\": 15}, \"zerolinecolor\": \"white\", \"zerolinewidth\": 2}, \"yaxis\": {\"automargin\": true, \"gridcolor\": \"white\", \"linecolor\": \"white\", \"ticks\": \"\", \"title\": {\"standoff\": 15}, \"zerolinecolor\": \"white\", \"zerolinewidth\": 2}}}, \"title\": {\"text\": \"Max capacity\"}, \"xaxis\": {\"anchor\": \"y\", \"domain\": [0.0, 1.0], \"title\": {\"text\": \"max_capacity\"}}, \"yaxis\": {\"anchor\": \"x\", \"domain\": [0.0, 1.0], \"title\": {\"text\": \"count\"}}},\n",
       "                        {\"responsive\": true}\n",
       "                    ).then(function(){\n",
       "                            \n",
       "var gd = document.getElementById('8aee1212-7b9d-48ac-9c3b-92ea47a48ded');\n",
       "var x = new MutationObserver(function (mutations, observer) {{\n",
       "        var display = window.getComputedStyle(gd).display;\n",
       "        if (!display || display === 'none') {{\n",
       "            console.log([gd, 'removed!']);\n",
       "            Plotly.purge(gd);\n",
       "            observer.disconnect();\n",
       "        }}\n",
       "}});\n",
       "\n",
       "// Listen for the removal of the full notebook cells\n",
       "var notebookContainer = gd.closest('#notebook-container');\n",
       "if (notebookContainer) {{\n",
       "    x.observe(notebookContainer, {childList: true});\n",
       "}}\n",
       "\n",
       "// Listen for the clearing of the current output cell\n",
       "var outputEl = gd.closest('.output');\n",
       "if (outputEl) {{\n",
       "    x.observe(outputEl, {childList: true});\n",
       "}}\n",
       "\n",
       "                        })\n",
       "                };\n",
       "                });\n",
       "            </script>\n",
       "        </div>"
      ]
     },
     "metadata": {},
     "output_type": "display_data"
    }
   ],
   "source": [
    "fig = px.histogram(df, x='max_capacity')\n",
    "fig.update_layout(height=500, title_text='Max capacity')\n",
    "fig.show()"
   ]
  },
  {
   "cell_type": "markdown",
   "metadata": {},
   "source": [
    "#### Змінні Location 3, 5, 7, 9 мають схожий розподіл значень, тому представлено візуалізацію однієї змінної"
   ]
  },
  {
   "cell_type": "code",
   "execution_count": 237,
   "metadata": {
    "scrolled": false
   },
   "outputs": [
    {
     "data": {
      "application/vnd.plotly.v1+json": {
       "config": {
        "plotlyServerURL": "https://plot.ly"
       },
       "data": [
        {
         "alignmentgroup": "True",
         "bingroup": "x",
         "hovertemplate": "location_5=%{x}<br>count=%{y}<extra></extra>",
         "legendgroup": "",
         "marker": {
          "color": "#636efa"
         },
         "name": "",
         "offsetgroup": "",
         "orientation": "v",
         "showlegend": false,
         "type": "histogram",
         "x": [
          2.855,
          2.892,
          2.853,
          2.907,
          2.8360000000000003,
          3.052,
          3.238,
          3.405,
          3.545,
          3.69,
          3.7939999999999996,
          3.866,
          3.925,
          3.926,
          3.944,
          3.9539999999999997,
          3.9360000000000004,
          3.9210000000000003,
          3.9189999999999996,
          3.928,
          3.928,
          3.8939999999999997,
          2.611,
          2.509,
          2.428,
          2.355,
          2.272,
          2.154,
          2.046,
          1.94,
          1.7990000000000002,
          1.524,
          1.028,
          0.6709999999999999,
          0.39899999999999997,
          0.22899999999999998,
          0.6859999999999999,
          0.852,
          1.146,
          1.6869999999999998,
          2.3680000000000003,
          2.802,
          3.1889999999999996,
          3.5460000000000003,
          3.898,
          4.322,
          4.802,
          5.266,
          5.68,
          5.999,
          6.226,
          6.38,
          6.518,
          6.655,
          6.796,
          6.952000000000001,
          7.124,
          7.2829999999999995,
          7.401,
          7.482,
          7.532,
          7.553999999999999,
          7.527,
          7.455,
          6.88,
          7.587000000000001,
          7.846,
          7.939,
          8.012,
          8.184,
          8.4,
          8.346,
          7.966,
          7.611000000000001,
          7.476,
          7.58,
          7.752000000000001,
          7.922000000000001,
          8.104,
          8.264,
          8.351,
          8.395,
          8.445,
          8.503,
          8.557,
          8.594,
          8.628,
          8.683,
          8.677999999999999,
          8.605,
          8.533999999999999,
          8.396,
          8.179,
          7.869,
          7.46,
          6.8660000000000005,
          6.664,
          6.5,
          6.3260000000000005,
          6.196000000000001,
          6.045,
          5.859,
          5.712000000000001,
          5.632999999999999,
          5.6339999999999995,
          5.67,
          5.716,
          5.761,
          5.7989999999999995,
          5.792000000000001,
          5.737,
          5.629,
          5.497000000000001,
          5.456,
          5.711,
          6.225,
          6.872999999999999,
          null,
          7.968999999999999,
          8.255,
          8.415,
          8.459,
          8.345,
          8.132,
          7.897,
          7.66,
          7.367999999999999,
          7.165,
          6.982,
          6.78,
          6.553,
          6.254,
          6.935,
          6.662999999999999,
          6.426,
          6.218,
          6.0920000000000005,
          5.99,
          5.921,
          5.865,
          5.832000000000001,
          5.787999999999999,
          5.734,
          5.662999999999999,
          5.653,
          5.684,
          5.728,
          5.747999999999999,
          5.726,
          5.734,
          5.773,
          5.801,
          5.789,
          5.78,
          5.8,
          5.83,
          5.845,
          5.837999999999999,
          5.835,
          5.837999999999999,
          5.6370000000000005,
          5.775,
          6.077000000000001,
          6.285,
          6.406000000000001,
          6.522,
          6.622000000000001,
          6.763,
          6.938,
          7.145,
          7.362,
          7.513,
          7.5760000000000005,
          7.559,
          7.477,
          7.377000000000001,
          7.261,
          7.135,
          7.035,
          6.92,
          6.847,
          6.8229999999999995,
          6.879,
          6.946000000000001,
          6.955,
          6.906000000000001,
          6.831,
          6.747000000000001,
          6.672000000000001,
          6.622000000000001,
          6.54,
          6.132999999999999,
          5.848,
          5.75,
          5.665,
          5.601,
          5.574,
          5.587000000000001,
          5.622999999999999,
          5.657,
          5.67,
          5.659,
          5.624,
          5.57,
          5.5089999999999995,
          5.428999999999999,
          5.318,
          5.192,
          5.067,
          4.945,
          4.827,
          4.7219999999999995,
          4.667,
          4.651,
          4.669,
          4.7139999999999995,
          4.756,
          4.779,
          4.779,
          4.771,
          4.77,
          4.788,
          4.813,
          4.841,
          4.864,
          4.878,
          4.897,
          4.9239999999999995,
          5.599,
          5.5920000000000005,
          5.528,
          5.442,
          5.409,
          5.4110000000000005,
          5.4079999999999995,
          5.345,
          5.234,
          5.199,
          5.223,
          5.2410000000000005,
          5.239,
          5.2170000000000005,
          5.193,
          5.167999999999999,
          5.152,
          5.157,
          5.182,
          5.2139999999999995,
          5.226,
          5.227,
          5.229,
          5.2379999999999995,
          5.247999999999999,
          5.23,
          5.182,
          5.122000000000001,
          4.812,
          5.235,
          5.516,
          5.622000000000001,
          5.582999999999999,
          5.534,
          5.555,
          5.612,
          5.697,
          5.827000000000001,
          5.971,
          6.068,
          6.152,
          6.277,
          6.406000000000001,
          6.506,
          6.5729999999999995,
          6.63,
          6.683,
          6.721,
          6.744,
          6.749,
          6.7139999999999995,
          6.665,
          6.587000000000001,
          6.481,
          6.382000000000001,
          6.296,
          6.211,
          6.061,
          5.178999999999999,
          4.83,
          4.704,
          4.553,
          4.428999999999999,
          4.353,
          4.317,
          4.285,
          4.249,
          4.216,
          4.199,
          4.1739999999999995,
          4.058,
          3.801,
          3.2889999999999997,
          2.492,
          1.5230000000000001,
          1.355,
          1.35,
          1.024,
          0.526,
          0.11599999999999999,
          0.594,
          0.9129999999999999,
          0.941
         ],
         "xaxis": "x",
         "yaxis": "y"
        }
       ],
       "layout": {
        "barmode": "relative",
        "height": 500,
        "legend": {
         "tracegroupgap": 0
        },
        "margin": {
         "t": 60
        },
        "template": {
         "data": {
          "bar": [
           {
            "error_x": {
             "color": "#2a3f5f"
            },
            "error_y": {
             "color": "#2a3f5f"
            },
            "marker": {
             "line": {
              "color": "#E5ECF6",
              "width": 0.5
             }
            },
            "type": "bar"
           }
          ],
          "barpolar": [
           {
            "marker": {
             "line": {
              "color": "#E5ECF6",
              "width": 0.5
             }
            },
            "type": "barpolar"
           }
          ],
          "carpet": [
           {
            "aaxis": {
             "endlinecolor": "#2a3f5f",
             "gridcolor": "white",
             "linecolor": "white",
             "minorgridcolor": "white",
             "startlinecolor": "#2a3f5f"
            },
            "baxis": {
             "endlinecolor": "#2a3f5f",
             "gridcolor": "white",
             "linecolor": "white",
             "minorgridcolor": "white",
             "startlinecolor": "#2a3f5f"
            },
            "type": "carpet"
           }
          ],
          "choropleth": [
           {
            "colorbar": {
             "outlinewidth": 0,
             "ticks": ""
            },
            "type": "choropleth"
           }
          ],
          "contour": [
           {
            "colorbar": {
             "outlinewidth": 0,
             "ticks": ""
            },
            "colorscale": [
             [
              0,
              "#0d0887"
             ],
             [
              0.1111111111111111,
              "#46039f"
             ],
             [
              0.2222222222222222,
              "#7201a8"
             ],
             [
              0.3333333333333333,
              "#9c179e"
             ],
             [
              0.4444444444444444,
              "#bd3786"
             ],
             [
              0.5555555555555556,
              "#d8576b"
             ],
             [
              0.6666666666666666,
              "#ed7953"
             ],
             [
              0.7777777777777778,
              "#fb9f3a"
             ],
             [
              0.8888888888888888,
              "#fdca26"
             ],
             [
              1,
              "#f0f921"
             ]
            ],
            "type": "contour"
           }
          ],
          "contourcarpet": [
           {
            "colorbar": {
             "outlinewidth": 0,
             "ticks": ""
            },
            "type": "contourcarpet"
           }
          ],
          "heatmap": [
           {
            "colorbar": {
             "outlinewidth": 0,
             "ticks": ""
            },
            "colorscale": [
             [
              0,
              "#0d0887"
             ],
             [
              0.1111111111111111,
              "#46039f"
             ],
             [
              0.2222222222222222,
              "#7201a8"
             ],
             [
              0.3333333333333333,
              "#9c179e"
             ],
             [
              0.4444444444444444,
              "#bd3786"
             ],
             [
              0.5555555555555556,
              "#d8576b"
             ],
             [
              0.6666666666666666,
              "#ed7953"
             ],
             [
              0.7777777777777778,
              "#fb9f3a"
             ],
             [
              0.8888888888888888,
              "#fdca26"
             ],
             [
              1,
              "#f0f921"
             ]
            ],
            "type": "heatmap"
           }
          ],
          "heatmapgl": [
           {
            "colorbar": {
             "outlinewidth": 0,
             "ticks": ""
            },
            "colorscale": [
             [
              0,
              "#0d0887"
             ],
             [
              0.1111111111111111,
              "#46039f"
             ],
             [
              0.2222222222222222,
              "#7201a8"
             ],
             [
              0.3333333333333333,
              "#9c179e"
             ],
             [
              0.4444444444444444,
              "#bd3786"
             ],
             [
              0.5555555555555556,
              "#d8576b"
             ],
             [
              0.6666666666666666,
              "#ed7953"
             ],
             [
              0.7777777777777778,
              "#fb9f3a"
             ],
             [
              0.8888888888888888,
              "#fdca26"
             ],
             [
              1,
              "#f0f921"
             ]
            ],
            "type": "heatmapgl"
           }
          ],
          "histogram": [
           {
            "marker": {
             "colorbar": {
              "outlinewidth": 0,
              "ticks": ""
             }
            },
            "type": "histogram"
           }
          ],
          "histogram2d": [
           {
            "colorbar": {
             "outlinewidth": 0,
             "ticks": ""
            },
            "colorscale": [
             [
              0,
              "#0d0887"
             ],
             [
              0.1111111111111111,
              "#46039f"
             ],
             [
              0.2222222222222222,
              "#7201a8"
             ],
             [
              0.3333333333333333,
              "#9c179e"
             ],
             [
              0.4444444444444444,
              "#bd3786"
             ],
             [
              0.5555555555555556,
              "#d8576b"
             ],
             [
              0.6666666666666666,
              "#ed7953"
             ],
             [
              0.7777777777777778,
              "#fb9f3a"
             ],
             [
              0.8888888888888888,
              "#fdca26"
             ],
             [
              1,
              "#f0f921"
             ]
            ],
            "type": "histogram2d"
           }
          ],
          "histogram2dcontour": [
           {
            "colorbar": {
             "outlinewidth": 0,
             "ticks": ""
            },
            "colorscale": [
             [
              0,
              "#0d0887"
             ],
             [
              0.1111111111111111,
              "#46039f"
             ],
             [
              0.2222222222222222,
              "#7201a8"
             ],
             [
              0.3333333333333333,
              "#9c179e"
             ],
             [
              0.4444444444444444,
              "#bd3786"
             ],
             [
              0.5555555555555556,
              "#d8576b"
             ],
             [
              0.6666666666666666,
              "#ed7953"
             ],
             [
              0.7777777777777778,
              "#fb9f3a"
             ],
             [
              0.8888888888888888,
              "#fdca26"
             ],
             [
              1,
              "#f0f921"
             ]
            ],
            "type": "histogram2dcontour"
           }
          ],
          "mesh3d": [
           {
            "colorbar": {
             "outlinewidth": 0,
             "ticks": ""
            },
            "type": "mesh3d"
           }
          ],
          "parcoords": [
           {
            "line": {
             "colorbar": {
              "outlinewidth": 0,
              "ticks": ""
             }
            },
            "type": "parcoords"
           }
          ],
          "pie": [
           {
            "automargin": true,
            "type": "pie"
           }
          ],
          "scatter": [
           {
            "marker": {
             "colorbar": {
              "outlinewidth": 0,
              "ticks": ""
             }
            },
            "type": "scatter"
           }
          ],
          "scatter3d": [
           {
            "line": {
             "colorbar": {
              "outlinewidth": 0,
              "ticks": ""
             }
            },
            "marker": {
             "colorbar": {
              "outlinewidth": 0,
              "ticks": ""
             }
            },
            "type": "scatter3d"
           }
          ],
          "scattercarpet": [
           {
            "marker": {
             "colorbar": {
              "outlinewidth": 0,
              "ticks": ""
             }
            },
            "type": "scattercarpet"
           }
          ],
          "scattergeo": [
           {
            "marker": {
             "colorbar": {
              "outlinewidth": 0,
              "ticks": ""
             }
            },
            "type": "scattergeo"
           }
          ],
          "scattergl": [
           {
            "marker": {
             "colorbar": {
              "outlinewidth": 0,
              "ticks": ""
             }
            },
            "type": "scattergl"
           }
          ],
          "scattermapbox": [
           {
            "marker": {
             "colorbar": {
              "outlinewidth": 0,
              "ticks": ""
             }
            },
            "type": "scattermapbox"
           }
          ],
          "scatterpolar": [
           {
            "marker": {
             "colorbar": {
              "outlinewidth": 0,
              "ticks": ""
             }
            },
            "type": "scatterpolar"
           }
          ],
          "scatterpolargl": [
           {
            "marker": {
             "colorbar": {
              "outlinewidth": 0,
              "ticks": ""
             }
            },
            "type": "scatterpolargl"
           }
          ],
          "scatterternary": [
           {
            "marker": {
             "colorbar": {
              "outlinewidth": 0,
              "ticks": ""
             }
            },
            "type": "scatterternary"
           }
          ],
          "surface": [
           {
            "colorbar": {
             "outlinewidth": 0,
             "ticks": ""
            },
            "colorscale": [
             [
              0,
              "#0d0887"
             ],
             [
              0.1111111111111111,
              "#46039f"
             ],
             [
              0.2222222222222222,
              "#7201a8"
             ],
             [
              0.3333333333333333,
              "#9c179e"
             ],
             [
              0.4444444444444444,
              "#bd3786"
             ],
             [
              0.5555555555555556,
              "#d8576b"
             ],
             [
              0.6666666666666666,
              "#ed7953"
             ],
             [
              0.7777777777777778,
              "#fb9f3a"
             ],
             [
              0.8888888888888888,
              "#fdca26"
             ],
             [
              1,
              "#f0f921"
             ]
            ],
            "type": "surface"
           }
          ],
          "table": [
           {
            "cells": {
             "fill": {
              "color": "#EBF0F8"
             },
             "line": {
              "color": "white"
             }
            },
            "header": {
             "fill": {
              "color": "#C8D4E3"
             },
             "line": {
              "color": "white"
             }
            },
            "type": "table"
           }
          ]
         },
         "layout": {
          "annotationdefaults": {
           "arrowcolor": "#2a3f5f",
           "arrowhead": 0,
           "arrowwidth": 1
          },
          "coloraxis": {
           "colorbar": {
            "outlinewidth": 0,
            "ticks": ""
           }
          },
          "colorscale": {
           "diverging": [
            [
             0,
             "#8e0152"
            ],
            [
             0.1,
             "#c51b7d"
            ],
            [
             0.2,
             "#de77ae"
            ],
            [
             0.3,
             "#f1b6da"
            ],
            [
             0.4,
             "#fde0ef"
            ],
            [
             0.5,
             "#f7f7f7"
            ],
            [
             0.6,
             "#e6f5d0"
            ],
            [
             0.7,
             "#b8e186"
            ],
            [
             0.8,
             "#7fbc41"
            ],
            [
             0.9,
             "#4d9221"
            ],
            [
             1,
             "#276419"
            ]
           ],
           "sequential": [
            [
             0,
             "#0d0887"
            ],
            [
             0.1111111111111111,
             "#46039f"
            ],
            [
             0.2222222222222222,
             "#7201a8"
            ],
            [
             0.3333333333333333,
             "#9c179e"
            ],
            [
             0.4444444444444444,
             "#bd3786"
            ],
            [
             0.5555555555555556,
             "#d8576b"
            ],
            [
             0.6666666666666666,
             "#ed7953"
            ],
            [
             0.7777777777777778,
             "#fb9f3a"
            ],
            [
             0.8888888888888888,
             "#fdca26"
            ],
            [
             1,
             "#f0f921"
            ]
           ],
           "sequentialminus": [
            [
             0,
             "#0d0887"
            ],
            [
             0.1111111111111111,
             "#46039f"
            ],
            [
             0.2222222222222222,
             "#7201a8"
            ],
            [
             0.3333333333333333,
             "#9c179e"
            ],
            [
             0.4444444444444444,
             "#bd3786"
            ],
            [
             0.5555555555555556,
             "#d8576b"
            ],
            [
             0.6666666666666666,
             "#ed7953"
            ],
            [
             0.7777777777777778,
             "#fb9f3a"
            ],
            [
             0.8888888888888888,
             "#fdca26"
            ],
            [
             1,
             "#f0f921"
            ]
           ]
          },
          "colorway": [
           "#636efa",
           "#EF553B",
           "#00cc96",
           "#ab63fa",
           "#FFA15A",
           "#19d3f3",
           "#FF6692",
           "#B6E880",
           "#FF97FF",
           "#FECB52"
          ],
          "font": {
           "color": "#2a3f5f"
          },
          "geo": {
           "bgcolor": "white",
           "lakecolor": "white",
           "landcolor": "#E5ECF6",
           "showlakes": true,
           "showland": true,
           "subunitcolor": "white"
          },
          "hoverlabel": {
           "align": "left"
          },
          "hovermode": "closest",
          "mapbox": {
           "style": "light"
          },
          "paper_bgcolor": "white",
          "plot_bgcolor": "#E5ECF6",
          "polar": {
           "angularaxis": {
            "gridcolor": "white",
            "linecolor": "white",
            "ticks": ""
           },
           "bgcolor": "#E5ECF6",
           "radialaxis": {
            "gridcolor": "white",
            "linecolor": "white",
            "ticks": ""
           }
          },
          "scene": {
           "xaxis": {
            "backgroundcolor": "#E5ECF6",
            "gridcolor": "white",
            "gridwidth": 2,
            "linecolor": "white",
            "showbackground": true,
            "ticks": "",
            "zerolinecolor": "white"
           },
           "yaxis": {
            "backgroundcolor": "#E5ECF6",
            "gridcolor": "white",
            "gridwidth": 2,
            "linecolor": "white",
            "showbackground": true,
            "ticks": "",
            "zerolinecolor": "white"
           },
           "zaxis": {
            "backgroundcolor": "#E5ECF6",
            "gridcolor": "white",
            "gridwidth": 2,
            "linecolor": "white",
            "showbackground": true,
            "ticks": "",
            "zerolinecolor": "white"
           }
          },
          "shapedefaults": {
           "line": {
            "color": "#2a3f5f"
           }
          },
          "ternary": {
           "aaxis": {
            "gridcolor": "white",
            "linecolor": "white",
            "ticks": ""
           },
           "baxis": {
            "gridcolor": "white",
            "linecolor": "white",
            "ticks": ""
           },
           "bgcolor": "#E5ECF6",
           "caxis": {
            "gridcolor": "white",
            "linecolor": "white",
            "ticks": ""
           }
          },
          "title": {
           "x": 0.05
          },
          "xaxis": {
           "automargin": true,
           "gridcolor": "white",
           "linecolor": "white",
           "ticks": "",
           "title": {
            "standoff": 15
           },
           "zerolinecolor": "white",
           "zerolinewidth": 2
          },
          "yaxis": {
           "automargin": true,
           "gridcolor": "white",
           "linecolor": "white",
           "ticks": "",
           "title": {
            "standoff": 15
           },
           "zerolinecolor": "white",
           "zerolinewidth": 2
          }
         }
        },
        "title": {
         "text": "Location 5"
        },
        "xaxis": {
         "anchor": "y",
         "domain": [
          0,
          1
         ],
         "title": {
          "text": "location_5"
         }
        },
        "yaxis": {
         "anchor": "x",
         "domain": [
          0,
          1
         ],
         "title": {
          "text": "count"
         }
        }
       }
      },
      "text/html": [
       "<div>\n",
       "        \n",
       "        \n",
       "            <div id=\"3c2ff007-2792-4e3d-9aa5-398e76b90e8b\" class=\"plotly-graph-div\" style=\"height:500px; width:100%;\"></div>\n",
       "            <script type=\"text/javascript\">\n",
       "                require([\"plotly\"], function(Plotly) {\n",
       "                    window.PLOTLYENV=window.PLOTLYENV || {};\n",
       "                    \n",
       "                if (document.getElementById(\"3c2ff007-2792-4e3d-9aa5-398e76b90e8b\")) {\n",
       "                    Plotly.newPlot(\n",
       "                        '3c2ff007-2792-4e3d-9aa5-398e76b90e8b',\n",
       "                        [{\"alignmentgroup\": \"True\", \"bingroup\": \"x\", \"hovertemplate\": \"location_5=%{x}<br>count=%{y}<extra></extra>\", \"legendgroup\": \"\", \"marker\": {\"color\": \"#636efa\"}, \"name\": \"\", \"offsetgroup\": \"\", \"orientation\": \"v\", \"showlegend\": false, \"type\": \"histogram\", \"x\": [2.855, 2.892, 2.853, 2.907, 2.8360000000000003, 3.052, 3.238, 3.405, 3.545, 3.69, 3.7939999999999996, 3.866, 3.925, 3.926, 3.944, 3.9539999999999997, 3.9360000000000004, 3.9210000000000003, 3.9189999999999996, 3.928, 3.928, 3.8939999999999997, 2.611, 2.509, 2.428, 2.355, 2.272, 2.154, 2.046, 1.94, 1.7990000000000002, 1.524, 1.028, 0.6709999999999999, 0.39899999999999997, 0.22899999999999998, 0.6859999999999999, 0.852, 1.146, 1.6869999999999998, 2.3680000000000003, 2.802, 3.1889999999999996, 3.5460000000000003, 3.898, 4.322, 4.802, 5.266, 5.68, 5.999, 6.226, 6.38, 6.518, 6.655, 6.796, 6.952000000000001, 7.124, 7.2829999999999995, 7.401, 7.482, 7.532, 7.553999999999999, 7.527, 7.455, 6.88, 7.587000000000001, 7.846, 7.939, 8.012, 8.184, 8.4, 8.346, 7.966, 7.611000000000001, 7.476, 7.58, 7.752000000000001, 7.922000000000001, 8.104, 8.264, 8.351, 8.395, 8.445, 8.503, 8.557, 8.594, 8.628, 8.683, 8.677999999999999, 8.605, 8.533999999999999, 8.396, 8.179, 7.869, 7.46, 6.8660000000000005, 6.664, 6.5, 6.3260000000000005, 6.196000000000001, 6.045, 5.859, 5.712000000000001, 5.632999999999999, 5.6339999999999995, 5.67, 5.716, 5.761, 5.7989999999999995, 5.792000000000001, 5.737, 5.629, 5.497000000000001, 5.456, 5.711, 6.225, 6.872999999999999, null, 7.968999999999999, 8.255, 8.415, 8.459, 8.345, 8.132, 7.897, 7.66, 7.367999999999999, 7.165, 6.982, 6.78, 6.553, 6.254, 6.935, 6.662999999999999, 6.426, 6.218, 6.0920000000000005, 5.99, 5.921, 5.865, 5.832000000000001, 5.787999999999999, 5.734, 5.662999999999999, 5.653, 5.684, 5.728, 5.747999999999999, 5.726, 5.734, 5.773, 5.801, 5.789, 5.78, 5.8, 5.83, 5.845, 5.837999999999999, 5.835, 5.837999999999999, 5.6370000000000005, 5.775, 6.077000000000001, 6.285, 6.406000000000001, 6.522, 6.622000000000001, 6.763, 6.938, 7.145, 7.362, 7.513, 7.5760000000000005, 7.559, 7.477, 7.377000000000001, 7.261, 7.135, 7.035, 6.92, 6.847, 6.8229999999999995, 6.879, 6.946000000000001, 6.955, 6.906000000000001, 6.831, 6.747000000000001, 6.672000000000001, 6.622000000000001, 6.54, 6.132999999999999, 5.848, 5.75, 5.665, 5.601, 5.574, 5.587000000000001, 5.622999999999999, 5.657, 5.67, 5.659, 5.624, 5.57, 5.5089999999999995, 5.428999999999999, 5.318, 5.192, 5.067, 4.945, 4.827, 4.7219999999999995, 4.667, 4.651, 4.669, 4.7139999999999995, 4.756, 4.779, 4.779, 4.771, 4.77, 4.788, 4.813, 4.841, 4.864, 4.878, 4.897, 4.9239999999999995, 5.599, 5.5920000000000005, 5.528, 5.442, 5.409, 5.4110000000000005, 5.4079999999999995, 5.345, 5.234, 5.199, 5.223, 5.2410000000000005, 5.239, 5.2170000000000005, 5.193, 5.167999999999999, 5.152, 5.157, 5.182, 5.2139999999999995, 5.226, 5.227, 5.229, 5.2379999999999995, 5.247999999999999, 5.23, 5.182, 5.122000000000001, 4.812, 5.235, 5.516, 5.622000000000001, 5.582999999999999, 5.534, 5.555, 5.612, 5.697, 5.827000000000001, 5.971, 6.068, 6.152, 6.277, 6.406000000000001, 6.506, 6.5729999999999995, 6.63, 6.683, 6.721, 6.744, 6.749, 6.7139999999999995, 6.665, 6.587000000000001, 6.481, 6.382000000000001, 6.296, 6.211, 6.061, 5.178999999999999, 4.83, 4.704, 4.553, 4.428999999999999, 4.353, 4.317, 4.285, 4.249, 4.216, 4.199, 4.1739999999999995, 4.058, 3.801, 3.2889999999999997, 2.492, 1.5230000000000001, 1.355, 1.35, 1.024, 0.526, 0.11599999999999999, 0.594, 0.9129999999999999, 0.941], \"xaxis\": \"x\", \"yaxis\": \"y\"}],\n",
       "                        {\"barmode\": \"relative\", \"height\": 500, \"legend\": {\"tracegroupgap\": 0}, \"margin\": {\"t\": 60}, \"template\": {\"data\": {\"bar\": [{\"error_x\": {\"color\": \"#2a3f5f\"}, \"error_y\": {\"color\": \"#2a3f5f\"}, \"marker\": {\"line\": {\"color\": \"#E5ECF6\", \"width\": 0.5}}, \"type\": \"bar\"}], \"barpolar\": [{\"marker\": {\"line\": {\"color\": \"#E5ECF6\", \"width\": 0.5}}, \"type\": \"barpolar\"}], \"carpet\": [{\"aaxis\": {\"endlinecolor\": \"#2a3f5f\", \"gridcolor\": \"white\", \"linecolor\": \"white\", \"minorgridcolor\": \"white\", \"startlinecolor\": \"#2a3f5f\"}, \"baxis\": {\"endlinecolor\": \"#2a3f5f\", \"gridcolor\": \"white\", \"linecolor\": \"white\", \"minorgridcolor\": \"white\", \"startlinecolor\": \"#2a3f5f\"}, \"type\": \"carpet\"}], \"choropleth\": [{\"colorbar\": {\"outlinewidth\": 0, \"ticks\": \"\"}, \"type\": \"choropleth\"}], \"contour\": [{\"colorbar\": {\"outlinewidth\": 0, \"ticks\": \"\"}, \"colorscale\": [[0.0, \"#0d0887\"], [0.1111111111111111, \"#46039f\"], [0.2222222222222222, \"#7201a8\"], [0.3333333333333333, \"#9c179e\"], [0.4444444444444444, \"#bd3786\"], [0.5555555555555556, \"#d8576b\"], [0.6666666666666666, \"#ed7953\"], [0.7777777777777778, \"#fb9f3a\"], [0.8888888888888888, \"#fdca26\"], [1.0, \"#f0f921\"]], \"type\": \"contour\"}], \"contourcarpet\": [{\"colorbar\": {\"outlinewidth\": 0, \"ticks\": \"\"}, \"type\": \"contourcarpet\"}], \"heatmap\": [{\"colorbar\": {\"outlinewidth\": 0, \"ticks\": \"\"}, \"colorscale\": [[0.0, \"#0d0887\"], [0.1111111111111111, \"#46039f\"], [0.2222222222222222, \"#7201a8\"], [0.3333333333333333, \"#9c179e\"], [0.4444444444444444, \"#bd3786\"], [0.5555555555555556, \"#d8576b\"], [0.6666666666666666, \"#ed7953\"], [0.7777777777777778, \"#fb9f3a\"], [0.8888888888888888, \"#fdca26\"], [1.0, \"#f0f921\"]], \"type\": \"heatmap\"}], \"heatmapgl\": [{\"colorbar\": {\"outlinewidth\": 0, \"ticks\": \"\"}, \"colorscale\": [[0.0, \"#0d0887\"], [0.1111111111111111, \"#46039f\"], [0.2222222222222222, \"#7201a8\"], [0.3333333333333333, \"#9c179e\"], [0.4444444444444444, \"#bd3786\"], [0.5555555555555556, \"#d8576b\"], [0.6666666666666666, \"#ed7953\"], [0.7777777777777778, \"#fb9f3a\"], [0.8888888888888888, \"#fdca26\"], [1.0, \"#f0f921\"]], \"type\": \"heatmapgl\"}], \"histogram\": [{\"marker\": {\"colorbar\": {\"outlinewidth\": 0, \"ticks\": \"\"}}, \"type\": \"histogram\"}], \"histogram2d\": [{\"colorbar\": {\"outlinewidth\": 0, \"ticks\": \"\"}, \"colorscale\": [[0.0, \"#0d0887\"], [0.1111111111111111, \"#46039f\"], [0.2222222222222222, \"#7201a8\"], [0.3333333333333333, \"#9c179e\"], [0.4444444444444444, \"#bd3786\"], [0.5555555555555556, \"#d8576b\"], [0.6666666666666666, \"#ed7953\"], [0.7777777777777778, \"#fb9f3a\"], [0.8888888888888888, \"#fdca26\"], [1.0, \"#f0f921\"]], \"type\": \"histogram2d\"}], \"histogram2dcontour\": [{\"colorbar\": {\"outlinewidth\": 0, \"ticks\": \"\"}, \"colorscale\": [[0.0, \"#0d0887\"], [0.1111111111111111, \"#46039f\"], [0.2222222222222222, \"#7201a8\"], [0.3333333333333333, \"#9c179e\"], [0.4444444444444444, \"#bd3786\"], [0.5555555555555556, \"#d8576b\"], [0.6666666666666666, \"#ed7953\"], [0.7777777777777778, \"#fb9f3a\"], [0.8888888888888888, \"#fdca26\"], [1.0, \"#f0f921\"]], \"type\": \"histogram2dcontour\"}], \"mesh3d\": [{\"colorbar\": {\"outlinewidth\": 0, \"ticks\": \"\"}, \"type\": \"mesh3d\"}], \"parcoords\": [{\"line\": {\"colorbar\": {\"outlinewidth\": 0, \"ticks\": \"\"}}, \"type\": \"parcoords\"}], \"pie\": [{\"automargin\": true, \"type\": \"pie\"}], \"scatter\": [{\"marker\": {\"colorbar\": {\"outlinewidth\": 0, \"ticks\": \"\"}}, \"type\": \"scatter\"}], \"scatter3d\": [{\"line\": {\"colorbar\": {\"outlinewidth\": 0, \"ticks\": \"\"}}, \"marker\": {\"colorbar\": {\"outlinewidth\": 0, \"ticks\": \"\"}}, \"type\": \"scatter3d\"}], \"scattercarpet\": [{\"marker\": {\"colorbar\": {\"outlinewidth\": 0, \"ticks\": \"\"}}, \"type\": \"scattercarpet\"}], \"scattergeo\": [{\"marker\": {\"colorbar\": {\"outlinewidth\": 0, \"ticks\": \"\"}}, \"type\": \"scattergeo\"}], \"scattergl\": [{\"marker\": {\"colorbar\": {\"outlinewidth\": 0, \"ticks\": \"\"}}, \"type\": \"scattergl\"}], \"scattermapbox\": [{\"marker\": {\"colorbar\": {\"outlinewidth\": 0, \"ticks\": \"\"}}, \"type\": \"scattermapbox\"}], \"scatterpolar\": [{\"marker\": {\"colorbar\": {\"outlinewidth\": 0, \"ticks\": \"\"}}, \"type\": \"scatterpolar\"}], \"scatterpolargl\": [{\"marker\": {\"colorbar\": {\"outlinewidth\": 0, \"ticks\": \"\"}}, \"type\": \"scatterpolargl\"}], \"scatterternary\": [{\"marker\": {\"colorbar\": {\"outlinewidth\": 0, \"ticks\": \"\"}}, \"type\": \"scatterternary\"}], \"surface\": [{\"colorbar\": {\"outlinewidth\": 0, \"ticks\": \"\"}, \"colorscale\": [[0.0, \"#0d0887\"], [0.1111111111111111, \"#46039f\"], [0.2222222222222222, \"#7201a8\"], [0.3333333333333333, \"#9c179e\"], [0.4444444444444444, \"#bd3786\"], [0.5555555555555556, \"#d8576b\"], [0.6666666666666666, \"#ed7953\"], [0.7777777777777778, \"#fb9f3a\"], [0.8888888888888888, \"#fdca26\"], [1.0, \"#f0f921\"]], \"type\": \"surface\"}], \"table\": [{\"cells\": {\"fill\": {\"color\": \"#EBF0F8\"}, \"line\": {\"color\": \"white\"}}, \"header\": {\"fill\": {\"color\": \"#C8D4E3\"}, \"line\": {\"color\": \"white\"}}, \"type\": \"table\"}]}, \"layout\": {\"annotationdefaults\": {\"arrowcolor\": \"#2a3f5f\", \"arrowhead\": 0, \"arrowwidth\": 1}, \"coloraxis\": {\"colorbar\": {\"outlinewidth\": 0, \"ticks\": \"\"}}, \"colorscale\": {\"diverging\": [[0, \"#8e0152\"], [0.1, \"#c51b7d\"], [0.2, \"#de77ae\"], [0.3, \"#f1b6da\"], [0.4, \"#fde0ef\"], [0.5, \"#f7f7f7\"], [0.6, \"#e6f5d0\"], [0.7, \"#b8e186\"], [0.8, \"#7fbc41\"], [0.9, \"#4d9221\"], [1, \"#276419\"]], \"sequential\": [[0.0, \"#0d0887\"], [0.1111111111111111, \"#46039f\"], [0.2222222222222222, \"#7201a8\"], [0.3333333333333333, \"#9c179e\"], [0.4444444444444444, \"#bd3786\"], [0.5555555555555556, \"#d8576b\"], [0.6666666666666666, \"#ed7953\"], [0.7777777777777778, \"#fb9f3a\"], [0.8888888888888888, \"#fdca26\"], [1.0, \"#f0f921\"]], \"sequentialminus\": [[0.0, \"#0d0887\"], [0.1111111111111111, \"#46039f\"], [0.2222222222222222, \"#7201a8\"], [0.3333333333333333, \"#9c179e\"], [0.4444444444444444, \"#bd3786\"], [0.5555555555555556, \"#d8576b\"], [0.6666666666666666, \"#ed7953\"], [0.7777777777777778, \"#fb9f3a\"], [0.8888888888888888, \"#fdca26\"], [1.0, \"#f0f921\"]]}, \"colorway\": [\"#636efa\", \"#EF553B\", \"#00cc96\", \"#ab63fa\", \"#FFA15A\", \"#19d3f3\", \"#FF6692\", \"#B6E880\", \"#FF97FF\", \"#FECB52\"], \"font\": {\"color\": \"#2a3f5f\"}, \"geo\": {\"bgcolor\": \"white\", \"lakecolor\": \"white\", \"landcolor\": \"#E5ECF6\", \"showlakes\": true, \"showland\": true, \"subunitcolor\": \"white\"}, \"hoverlabel\": {\"align\": \"left\"}, \"hovermode\": \"closest\", \"mapbox\": {\"style\": \"light\"}, \"paper_bgcolor\": \"white\", \"plot_bgcolor\": \"#E5ECF6\", \"polar\": {\"angularaxis\": {\"gridcolor\": \"white\", \"linecolor\": \"white\", \"ticks\": \"\"}, \"bgcolor\": \"#E5ECF6\", \"radialaxis\": {\"gridcolor\": \"white\", \"linecolor\": \"white\", \"ticks\": \"\"}}, \"scene\": {\"xaxis\": {\"backgroundcolor\": \"#E5ECF6\", \"gridcolor\": \"white\", \"gridwidth\": 2, \"linecolor\": \"white\", \"showbackground\": true, \"ticks\": \"\", \"zerolinecolor\": \"white\"}, \"yaxis\": {\"backgroundcolor\": \"#E5ECF6\", \"gridcolor\": \"white\", \"gridwidth\": 2, \"linecolor\": \"white\", \"showbackground\": true, \"ticks\": \"\", \"zerolinecolor\": \"white\"}, \"zaxis\": {\"backgroundcolor\": \"#E5ECF6\", \"gridcolor\": \"white\", \"gridwidth\": 2, \"linecolor\": \"white\", \"showbackground\": true, \"ticks\": \"\", \"zerolinecolor\": \"white\"}}, \"shapedefaults\": {\"line\": {\"color\": \"#2a3f5f\"}}, \"ternary\": {\"aaxis\": {\"gridcolor\": \"white\", \"linecolor\": \"white\", \"ticks\": \"\"}, \"baxis\": {\"gridcolor\": \"white\", \"linecolor\": \"white\", \"ticks\": \"\"}, \"bgcolor\": \"#E5ECF6\", \"caxis\": {\"gridcolor\": \"white\", \"linecolor\": \"white\", \"ticks\": \"\"}}, \"title\": {\"x\": 0.05}, \"xaxis\": {\"automargin\": true, \"gridcolor\": \"white\", \"linecolor\": \"white\", \"ticks\": \"\", \"title\": {\"standoff\": 15}, \"zerolinecolor\": \"white\", \"zerolinewidth\": 2}, \"yaxis\": {\"automargin\": true, \"gridcolor\": \"white\", \"linecolor\": \"white\", \"ticks\": \"\", \"title\": {\"standoff\": 15}, \"zerolinecolor\": \"white\", \"zerolinewidth\": 2}}}, \"title\": {\"text\": \"Location 5\"}, \"xaxis\": {\"anchor\": \"y\", \"domain\": [0.0, 1.0], \"title\": {\"text\": \"location_5\"}}, \"yaxis\": {\"anchor\": \"x\", \"domain\": [0.0, 1.0], \"title\": {\"text\": \"count\"}}},\n",
       "                        {\"responsive\": true}\n",
       "                    ).then(function(){\n",
       "                            \n",
       "var gd = document.getElementById('3c2ff007-2792-4e3d-9aa5-398e76b90e8b');\n",
       "var x = new MutationObserver(function (mutations, observer) {{\n",
       "        var display = window.getComputedStyle(gd).display;\n",
       "        if (!display || display === 'none') {{\n",
       "            console.log([gd, 'removed!']);\n",
       "            Plotly.purge(gd);\n",
       "            observer.disconnect();\n",
       "        }}\n",
       "}});\n",
       "\n",
       "// Listen for the removal of the full notebook cells\n",
       "var notebookContainer = gd.closest('#notebook-container');\n",
       "if (notebookContainer) {{\n",
       "    x.observe(notebookContainer, {childList: true});\n",
       "}}\n",
       "\n",
       "// Listen for the clearing of the current output cell\n",
       "var outputEl = gd.closest('.output');\n",
       "if (outputEl) {{\n",
       "    x.observe(outputEl, {childList: true});\n",
       "}}\n",
       "\n",
       "                        })\n",
       "                };\n",
       "                });\n",
       "            </script>\n",
       "        </div>"
      ]
     },
     "metadata": {},
     "output_type": "display_data"
    }
   ],
   "source": [
    "fig = px.histogram(df, x='location_5')\n",
    "fig.update_layout(height=500, title_text='Location 5')\n",
    "fig.show()"
   ]
  },
  {
   "cell_type": "code",
   "execution_count": 238,
   "metadata": {},
   "outputs": [],
   "source": [
    "from sklearn.impute import SimpleImputer\n",
    "\n",
    "df[['max_capacity']] = SimpleImputer(missing_values=np.nan, strategy='most_frequent').fit_transform(df[['max_capacity']])\n",
    "df[['location_3']] = SimpleImputer(missing_values=np.nan, strategy='median').fit_transform(df[['location_3']])\n",
    "df[['location_5']] = SimpleImputer(missing_values=np.nan, strategy='median').fit_transform(df[['location_5']])\n",
    "df[['location_9']] = SimpleImputer(missing_values=np.nan, strategy='median').fit_transform(df[['location_9']])"
   ]
  },
  {
   "cell_type": "code",
   "execution_count": 239,
   "metadata": {},
   "outputs": [
    {
     "data": {
      "text/plain": [
       "actualpower     0\n",
       "max_capacity    0\n",
       "location_3      0\n",
       "location_5      0\n",
       "location_7      0\n",
       "location_9      0\n",
       "dtype: int64"
      ]
     },
     "execution_count": 239,
     "metadata": {},
     "output_type": "execute_result"
    }
   ],
   "source": [
    "df.isna().sum()"
   ]
  },
  {
   "cell_type": "markdown",
   "metadata": {},
   "source": [
    "### Висновок: \n",
    "З візуалізацій даних видно, що змінна \"Max Capacity\" приймає дуже обмежену кількість значень. Тому було вирішено замінити пропуски в цій змінній найбільш часто-зустрічаємим значенням. Змінні \"Location 3,5,9\" мають розподіл близький до нормального (візуально), але з вираженим негативним перекосом. Тому пропуски в цих змінних замінено на медіанні значення, а не на середні. "
   ]
  },
  {
   "cell_type": "markdown",
   "metadata": {},
   "source": [
    "### Позбавлення викидів та шкалювання"
   ]
  },
  {
   "cell_type": "code",
   "execution_count": 240,
   "metadata": {},
   "outputs": [],
   "source": [
    "# Outliers\n",
    "actualpower = []\n",
    "for i in df['actualpower']:\n",
    "    if i > round(df['actualpower'].mean() + 3 * df['actualpower'].std()):\n",
    "        i = round(df['actualpower'].mean() + 3*df['actualpower'].std())\n",
    "    actualpower.append(i)\n",
    "df['actualpower']  = actualpower\n",
    "\n",
    "location_3 = []\n",
    "for i in df['location_3']:\n",
    "    if i > df['location_3'].mean() + 3 * df['location_3'].std():\n",
    "        i = df['location_3'].mean() + 3*df['location_3'].std()\n",
    "    location_3.append(i)\n",
    "df['location_3'] = location_3\n",
    "\n",
    "location_5 = []\n",
    "for i in df['location_5']:\n",
    "    if i > df['location_5'].mean() + 3 * df['location_5'].std():\n",
    "        i = df['location_5'].mean() + 3*df['location_5'].std()\n",
    "    location_5.append(i)\n",
    "df['location_5'] = location_5\n",
    "\n",
    "location_7 = []\n",
    "for i in df['location_7']:\n",
    "    if i > df['location_7'].mean() + 3 * df['location_7'].std():\n",
    "        i = df['location_7'].mean() + 3*df['location_7'].std()\n",
    "    location_7.append(i)\n",
    "df['location_7'] = location_7\n",
    "\n",
    "location_9 = []\n",
    "for i in df['location_9']:\n",
    "    if i > df['location_9'].mean() + 3 * df['location_9'].std():\n",
    "        i = df['location_9'].mean() + 3*df['location_9'].std()\n",
    "    location_9.append(i)\n",
    "df['location_9'] = location_9"
   ]
  },
  {
   "cell_type": "code",
   "execution_count": 241,
   "metadata": {},
   "outputs": [
    {
     "data": {
      "text/html": [
       "<div>\n",
       "<style scoped>\n",
       "    .dataframe tbody tr th:only-of-type {\n",
       "        vertical-align: middle;\n",
       "    }\n",
       "\n",
       "    .dataframe tbody tr th {\n",
       "        vertical-align: top;\n",
       "    }\n",
       "\n",
       "    .dataframe thead th {\n",
       "        text-align: right;\n",
       "    }\n",
       "</style>\n",
       "<table border=\"1\" class=\"dataframe\">\n",
       "  <thead>\n",
       "    <tr style=\"text-align: right;\">\n",
       "      <th></th>\n",
       "      <th>actualpower</th>\n",
       "      <th>max_capacity</th>\n",
       "      <th>location_3</th>\n",
       "      <th>location_5</th>\n",
       "      <th>location_7</th>\n",
       "      <th>location_9</th>\n",
       "    </tr>\n",
       "  </thead>\n",
       "  <tbody>\n",
       "    <tr>\n",
       "      <th>count</th>\n",
       "      <td>311.000000</td>\n",
       "      <td>311.000000</td>\n",
       "      <td>311.000000</td>\n",
       "      <td>311.000000</td>\n",
       "      <td>311.000000</td>\n",
       "      <td>311.000000</td>\n",
       "    </tr>\n",
       "    <tr>\n",
       "      <th>mean</th>\n",
       "      <td>11.277576</td>\n",
       "      <td>42.360129</td>\n",
       "      <td>5.552309</td>\n",
       "      <td>5.526347</td>\n",
       "      <td>5.386312</td>\n",
       "      <td>4.665749</td>\n",
       "    </tr>\n",
       "    <tr>\n",
       "      <th>std</th>\n",
       "      <td>7.992228</td>\n",
       "      <td>0.704056</td>\n",
       "      <td>1.832605</td>\n",
       "      <td>1.852843</td>\n",
       "      <td>1.806178</td>\n",
       "      <td>1.717428</td>\n",
       "    </tr>\n",
       "    <tr>\n",
       "      <th>min</th>\n",
       "      <td>0.002000</td>\n",
       "      <td>39.500000</td>\n",
       "      <td>0.122000</td>\n",
       "      <td>0.116000</td>\n",
       "      <td>0.103000</td>\n",
       "      <td>0.053000</td>\n",
       "    </tr>\n",
       "    <tr>\n",
       "      <th>25%</th>\n",
       "      <td>4.816000</td>\n",
       "      <td>42.500000</td>\n",
       "      <td>4.834500</td>\n",
       "      <td>4.779000</td>\n",
       "      <td>4.693500</td>\n",
       "      <td>3.979000</td>\n",
       "    </tr>\n",
       "    <tr>\n",
       "      <th>50%</th>\n",
       "      <td>10.008000</td>\n",
       "      <td>42.500000</td>\n",
       "      <td>5.693000</td>\n",
       "      <td>5.704000</td>\n",
       "      <td>5.604000</td>\n",
       "      <td>4.818000</td>\n",
       "    </tr>\n",
       "    <tr>\n",
       "      <th>75%</th>\n",
       "      <td>15.932000</td>\n",
       "      <td>42.500000</td>\n",
       "      <td>6.712000</td>\n",
       "      <td>6.745500</td>\n",
       "      <td>6.633500</td>\n",
       "      <td>5.756500</td>\n",
       "    </tr>\n",
       "    <tr>\n",
       "      <th>max</th>\n",
       "      <td>34.180000</td>\n",
       "      <td>43.750000</td>\n",
       "      <td>8.829000</td>\n",
       "      <td>8.683000</td>\n",
       "      <td>8.309000</td>\n",
       "      <td>7.670000</td>\n",
       "    </tr>\n",
       "  </tbody>\n",
       "</table>\n",
       "</div>"
      ],
      "text/plain": [
       "       actualpower  max_capacity  location_3  location_5  location_7  \\\n",
       "count   311.000000    311.000000  311.000000  311.000000  311.000000   \n",
       "mean     11.277576     42.360129    5.552309    5.526347    5.386312   \n",
       "std       7.992228      0.704056    1.832605    1.852843    1.806178   \n",
       "min       0.002000     39.500000    0.122000    0.116000    0.103000   \n",
       "25%       4.816000     42.500000    4.834500    4.779000    4.693500   \n",
       "50%      10.008000     42.500000    5.693000    5.704000    5.604000   \n",
       "75%      15.932000     42.500000    6.712000    6.745500    6.633500   \n",
       "max      34.180000     43.750000    8.829000    8.683000    8.309000   \n",
       "\n",
       "       location_9  \n",
       "count  311.000000  \n",
       "mean     4.665749  \n",
       "std      1.717428  \n",
       "min      0.053000  \n",
       "25%      3.979000  \n",
       "50%      4.818000  \n",
       "75%      5.756500  \n",
       "max      7.670000  "
      ]
     },
     "execution_count": 241,
     "metadata": {},
     "output_type": "execute_result"
    }
   ],
   "source": [
    "df.describe()"
   ]
  },
  {
   "cell_type": "code",
   "execution_count": 242,
   "metadata": {},
   "outputs": [],
   "source": [
    "from sklearn.preprocessing import StandardScaler\n",
    "\n",
    "for i in df.columns:\n",
    "    df[i] = StandardScaler().fit_transform(df[[i]])"
   ]
  },
  {
   "cell_type": "code",
   "execution_count": 243,
   "metadata": {},
   "outputs": [
    {
     "data": {
      "text/html": [
       "<div>\n",
       "<style scoped>\n",
       "    .dataframe tbody tr th:only-of-type {\n",
       "        vertical-align: middle;\n",
       "    }\n",
       "\n",
       "    .dataframe tbody tr th {\n",
       "        vertical-align: top;\n",
       "    }\n",
       "\n",
       "    .dataframe thead th {\n",
       "        text-align: right;\n",
       "    }\n",
       "</style>\n",
       "<table border=\"1\" class=\"dataframe\">\n",
       "  <thead>\n",
       "    <tr style=\"text-align: right;\">\n",
       "      <th></th>\n",
       "      <th>actualpower</th>\n",
       "      <th>max_capacity</th>\n",
       "      <th>location_3</th>\n",
       "      <th>location_5</th>\n",
       "      <th>location_7</th>\n",
       "      <th>location_9</th>\n",
       "    </tr>\n",
       "  </thead>\n",
       "  <tbody>\n",
       "    <tr>\n",
       "      <th>0</th>\n",
       "      <td>-1.395546</td>\n",
       "      <td>0.198985</td>\n",
       "      <td>-1.433225</td>\n",
       "      <td>-1.444079</td>\n",
       "      <td>-1.450869</td>\n",
       "      <td>-1.498106</td>\n",
       "    </tr>\n",
       "    <tr>\n",
       "      <th>1</th>\n",
       "      <td>-1.371735</td>\n",
       "      <td>0.198985</td>\n",
       "      <td>-1.415189</td>\n",
       "      <td>-1.424078</td>\n",
       "      <td>-1.437006</td>\n",
       "      <td>-1.503938</td>\n",
       "    </tr>\n",
       "    <tr>\n",
       "      <th>2</th>\n",
       "      <td>-1.342785</td>\n",
       "      <td>0.198985</td>\n",
       "      <td>-1.435411</td>\n",
       "      <td>-1.445160</td>\n",
       "      <td>-1.429796</td>\n",
       "      <td>-1.505688</td>\n",
       "    </tr>\n",
       "    <tr>\n",
       "      <th>3</th>\n",
       "      <td>-1.346670</td>\n",
       "      <td>0.198985</td>\n",
       "      <td>-1.403711</td>\n",
       "      <td>-1.415969</td>\n",
       "      <td>-1.434787</td>\n",
       "      <td>-1.516186</td>\n",
       "    </tr>\n",
       "    <tr>\n",
       "      <th>4</th>\n",
       "      <td>-1.349678</td>\n",
       "      <td>0.198985</td>\n",
       "      <td>-1.453447</td>\n",
       "      <td>-1.454350</td>\n",
       "      <td>-1.517970</td>\n",
       "      <td>-1.566341</td>\n",
       "    </tr>\n",
       "    <tr>\n",
       "      <th>...</th>\n",
       "      <td>...</td>\n",
       "      <td>...</td>\n",
       "      <td>...</td>\n",
       "      <td>...</td>\n",
       "      <td>...</td>\n",
       "      <td>...</td>\n",
       "    </tr>\n",
       "    <tr>\n",
       "      <th>306</th>\n",
       "      <td>-1.223227</td>\n",
       "      <td>0.198985</td>\n",
       "      <td>-2.427401</td>\n",
       "      <td>-2.703092</td>\n",
       "      <td>-2.696383</td>\n",
       "      <td>-1.712726</td>\n",
       "    </tr>\n",
       "    <tr>\n",
       "      <th>307</th>\n",
       "      <td>-1.213326</td>\n",
       "      <td>0.198985</td>\n",
       "      <td>-2.738388</td>\n",
       "      <td>-2.924730</td>\n",
       "      <td>-2.730210</td>\n",
       "      <td>-1.664903</td>\n",
       "    </tr>\n",
       "    <tr>\n",
       "      <th>308</th>\n",
       "      <td>-1.220720</td>\n",
       "      <td>0.198985</td>\n",
       "      <td>-2.967940</td>\n",
       "      <td>-2.666333</td>\n",
       "      <td>-2.554973</td>\n",
       "      <td>-1.561676</td>\n",
       "    </tr>\n",
       "    <tr>\n",
       "      <th>309</th>\n",
       "      <td>-1.328874</td>\n",
       "      <td>1.977272</td>\n",
       "      <td>-2.755331</td>\n",
       "      <td>-2.493887</td>\n",
       "      <td>-2.393046</td>\n",
       "      <td>-1.454949</td>\n",
       "    </tr>\n",
       "    <tr>\n",
       "      <th>310</th>\n",
       "      <td>-1.407702</td>\n",
       "      <td>1.977272</td>\n",
       "      <td>-2.630171</td>\n",
       "      <td>-2.478751</td>\n",
       "      <td>-2.348682</td>\n",
       "      <td>-1.361636</td>\n",
       "    </tr>\n",
       "  </tbody>\n",
       "</table>\n",
       "<p>311 rows × 6 columns</p>\n",
       "</div>"
      ],
      "text/plain": [
       "     actualpower  max_capacity  location_3  location_5  location_7  location_9\n",
       "0      -1.395546      0.198985   -1.433225   -1.444079   -1.450869   -1.498106\n",
       "1      -1.371735      0.198985   -1.415189   -1.424078   -1.437006   -1.503938\n",
       "2      -1.342785      0.198985   -1.435411   -1.445160   -1.429796   -1.505688\n",
       "3      -1.346670      0.198985   -1.403711   -1.415969   -1.434787   -1.516186\n",
       "4      -1.349678      0.198985   -1.453447   -1.454350   -1.517970   -1.566341\n",
       "..           ...           ...         ...         ...         ...         ...\n",
       "306    -1.223227      0.198985   -2.427401   -2.703092   -2.696383   -1.712726\n",
       "307    -1.213326      0.198985   -2.738388   -2.924730   -2.730210   -1.664903\n",
       "308    -1.220720      0.198985   -2.967940   -2.666333   -2.554973   -1.561676\n",
       "309    -1.328874      1.977272   -2.755331   -2.493887   -2.393046   -1.454949\n",
       "310    -1.407702      1.977272   -2.630171   -2.478751   -2.348682   -1.361636\n",
       "\n",
       "[311 rows x 6 columns]"
      ]
     },
     "execution_count": 243,
     "metadata": {},
     "output_type": "execute_result"
    }
   ],
   "source": [
    "df"
   ]
  },
  {
   "cell_type": "markdown",
   "metadata": {},
   "source": [
    "### Висновок:\n",
    "Як і було видно з візуалізацій, в даних відсутні викиди.\n",
    "Оскільки змінні мають значно різні діапазони значень, було вирішено стандартизувати всі змінні."
   ]
  },
  {
   "cell_type": "markdown",
   "metadata": {},
   "source": [
    "## 2. Регресія"
   ]
  },
  {
   "cell_type": "markdown",
   "metadata": {},
   "source": [
    "### Кореляційна матриця"
   ]
  },
  {
   "cell_type": "code",
   "execution_count": 244,
   "metadata": {},
   "outputs": [
    {
     "data": {
      "text/html": [
       "<div>\n",
       "<style scoped>\n",
       "    .dataframe tbody tr th:only-of-type {\n",
       "        vertical-align: middle;\n",
       "    }\n",
       "\n",
       "    .dataframe tbody tr th {\n",
       "        vertical-align: top;\n",
       "    }\n",
       "\n",
       "    .dataframe thead th {\n",
       "        text-align: right;\n",
       "    }\n",
       "</style>\n",
       "<table border=\"1\" class=\"dataframe\">\n",
       "  <thead>\n",
       "    <tr style=\"text-align: right;\">\n",
       "      <th></th>\n",
       "      <th>actualpower</th>\n",
       "      <th>max_capacity</th>\n",
       "      <th>location_3</th>\n",
       "      <th>location_5</th>\n",
       "      <th>location_7</th>\n",
       "      <th>location_9</th>\n",
       "    </tr>\n",
       "  </thead>\n",
       "  <tbody>\n",
       "    <tr>\n",
       "      <th>actualpower</th>\n",
       "      <td>1.000000</td>\n",
       "      <td>-0.304751</td>\n",
       "      <td>0.472532</td>\n",
       "      <td>0.471682</td>\n",
       "      <td>0.438139</td>\n",
       "      <td>0.413864</td>\n",
       "    </tr>\n",
       "    <tr>\n",
       "      <th>max_capacity</th>\n",
       "      <td>-0.304751</td>\n",
       "      <td>1.000000</td>\n",
       "      <td>-0.471297</td>\n",
       "      <td>-0.454398</td>\n",
       "      <td>-0.424983</td>\n",
       "      <td>-0.457570</td>\n",
       "    </tr>\n",
       "    <tr>\n",
       "      <th>location_3</th>\n",
       "      <td>0.472532</td>\n",
       "      <td>-0.471297</td>\n",
       "      <td>1.000000</td>\n",
       "      <td>0.995088</td>\n",
       "      <td>0.985044</td>\n",
       "      <td>0.947847</td>\n",
       "    </tr>\n",
       "    <tr>\n",
       "      <th>location_5</th>\n",
       "      <td>0.471682</td>\n",
       "      <td>-0.454398</td>\n",
       "      <td>0.995088</td>\n",
       "      <td>1.000000</td>\n",
       "      <td>0.991890</td>\n",
       "      <td>0.954882</td>\n",
       "    </tr>\n",
       "    <tr>\n",
       "      <th>location_7</th>\n",
       "      <td>0.438139</td>\n",
       "      <td>-0.424983</td>\n",
       "      <td>0.985044</td>\n",
       "      <td>0.991890</td>\n",
       "      <td>1.000000</td>\n",
       "      <td>0.971711</td>\n",
       "    </tr>\n",
       "    <tr>\n",
       "      <th>location_9</th>\n",
       "      <td>0.413864</td>\n",
       "      <td>-0.457570</td>\n",
       "      <td>0.947847</td>\n",
       "      <td>0.954882</td>\n",
       "      <td>0.971711</td>\n",
       "      <td>1.000000</td>\n",
       "    </tr>\n",
       "  </tbody>\n",
       "</table>\n",
       "</div>"
      ],
      "text/plain": [
       "              actualpower  max_capacity  location_3  location_5  location_7  \\\n",
       "actualpower      1.000000     -0.304751    0.472532    0.471682    0.438139   \n",
       "max_capacity    -0.304751      1.000000   -0.471297   -0.454398   -0.424983   \n",
       "location_3       0.472532     -0.471297    1.000000    0.995088    0.985044   \n",
       "location_5       0.471682     -0.454398    0.995088    1.000000    0.991890   \n",
       "location_7       0.438139     -0.424983    0.985044    0.991890    1.000000   \n",
       "location_9       0.413864     -0.457570    0.947847    0.954882    0.971711   \n",
       "\n",
       "              location_9  \n",
       "actualpower     0.413864  \n",
       "max_capacity   -0.457570  \n",
       "location_3      0.947847  \n",
       "location_5      0.954882  \n",
       "location_7      0.971711  \n",
       "location_9      1.000000  "
      ]
     },
     "execution_count": 244,
     "metadata": {},
     "output_type": "execute_result"
    }
   ],
   "source": [
    "df.corr()"
   ]
  },
  {
   "cell_type": "code",
   "execution_count": 267,
   "metadata": {},
   "outputs": [
    {
     "data": {
      "image/png": "[encoded data removed]",
      "text/plain": [
       "<Figure size 720x720 with 36 Axes>"
      ]
     },
     "metadata": {
      "needs_background": "light"
     },
     "output_type": "display_data"
    }
   ],
   "source": [
    "from pandas.plotting import scatter_matrix\n",
    "\n",
    "scatter_matrix(df, alpha=0.2, figsize=(10, 10))\n",
    "plt.show()"
   ]
  },
  {
   "cell_type": "markdown",
   "metadata": {},
   "source": [
    "### Висновок:\n",
    "Змінні Location 3,5,7,9 дуже сильно корелюють. Змінна Max capacity має негативну кореляцію з усіма іншими змінними.\n",
    "location_3 має найбільшу кореляцію з actual power. \n"
   ]
  },
  {
   "cell_type": "markdown",
   "metadata": {},
   "source": [
    "### Однофакторна модель регресії\n",
    "Для цієї та наступних моделей дані діляться на тестову та тренувальну вибірки у співвідношенні 20% / 80% відповідно.\n",
    "\n",
    "Для однофакторної моделі вибрано фактор location_3, що має найбільшу кореляцію з actual power."
   ]
  },
  {
   "cell_type": "code",
   "execution_count": 401,
   "metadata": {},
   "outputs": [],
   "source": [
    "y = df.iloc[:, 0].values\n",
    "X = df.iloc[:, 1:].values\n",
    "from sklearn.model_selection import train_test_split\n",
    "X_train, X_test, y_train, y_test = train_test_split(X, y, test_size=0.2, random_state=3)"
   ]
  },
  {
   "cell_type": "code",
   "execution_count": 402,
   "metadata": {},
   "outputs": [],
   "source": [
    "from sklearn.linear_model import LinearRegression\n",
    "sr = LinearRegression().fit(X_train[:,1:2], y_train)"
   ]
  },
  {
   "cell_type": "code",
   "execution_count": 403,
   "metadata": {},
   "outputs": [
    {
     "data": {
      "text/plain": [
       "(array([0.4350992]), -0.024069360095495294)"
      ]
     },
     "execution_count": 403,
     "metadata": {},
     "output_type": "execute_result"
    }
   ],
   "source": [
    "# Getting parameters\n",
    "sr.coef_, sr.intercept_"
   ]
  },
  {
   "cell_type": "code",
   "execution_count": 404,
   "metadata": {},
   "outputs": [],
   "source": [
    "# Predicting the Test set results\n",
    "y_pred = sr.predict(X_test[:, 1:2])"
   ]
  },
  {
   "cell_type": "code",
   "execution_count": 405,
   "metadata": {},
   "outputs": [
    {
     "data": {
      "text/plain": [
       "(0.19992093401785582, 0.27368892759320784)"
      ]
     },
     "execution_count": 405,
     "metadata": {},
     "output_type": "execute_result"
    }
   ],
   "source": [
    "# Coefficient of determination R^2\n",
    "sr.score(X_train[:, 2:3], y_train), sr.score(X_test[:,1:2], y_test)"
   ]
  },
  {
   "cell_type": "code",
   "execution_count": 406,
   "metadata": {},
   "outputs": [
    {
     "data": {
      "text/plain": [
       "(0.73681486454139, 0.9435506161485852)"
      ]
     },
     "execution_count": 406,
     "metadata": {},
     "output_type": "execute_result"
    }
   ],
   "source": [
    "# Mean squared error\n",
    "from sklearn.metrics import mean_squared_error\n",
    "mean_squared_error(y_train, sr.predict(X_train[:, 1:2])), mean_squared_error(y_test, y_pred)"
   ]
  },
  {
   "cell_type": "code",
   "execution_count": 407,
   "metadata": {},
   "outputs": [
    {
     "data": {
      "image/png": "[encoded data removed]",
      "text/plain": [
       "<Figure size 432x288 with 1 Axes>"
      ]
     },
     "metadata": {
      "needs_background": "light"
     },
     "output_type": "display_data"
    }
   ],
   "source": [
    "# Visualising the Training set results\n",
    "plt.scatter(X_train[:,1], y_train, color = 'red')\n",
    "plt.plot(X_train[:,1], sr.predict(X_train[:, 1:2]), 'bo')\n",
    "plt.title('Actual power vs Location 3 (Training set)')\n",
    "plt.xlabel('Location 3')\n",
    "plt.ylabel('Actual power')\n",
    "plt.show()"
   ]
  },
  {
   "cell_type": "code",
   "execution_count": 408,
   "metadata": {},
   "outputs": [
    {
     "data": {
      "image/png": "[encoded data removed]",
      "text/plain": [
       "<Figure size 432x288 with 1 Axes>"
      ]
     },
     "metadata": {
      "needs_background": "light"
     },
     "output_type": "display_data"
    }
   ],
   "source": [
    "# Visualising the Test set results\n",
    "plt.scatter(X_test[:,1], y_test, color = 'red')\n",
    "plt.plot(X_test[:,1], sr.predict(X_test[:, 1:2]), 'bo')\n",
    "plt.title('Actual power vs Location 3 (Test set)')\n",
    "plt.xlabel('Location 3')\n",
    "plt.ylabel('Actual power')\n",
    "plt.show()"
   ]
  },
  {
   "cell_type": "markdown",
   "metadata": {},
   "source": [
    "### Множинна регресія"
   ]
  },
  {
   "cell_type": "code",
   "execution_count": 342,
   "metadata": {},
   "outputs": [],
   "source": [
    "# Fitting Multiple Linear Regression to the Training set\n",
    "from sklearn.linear_model import LinearRegression\n",
    "mr = LinearRegression().fit(X_train, y_train)"
   ]
  },
  {
   "cell_type": "code",
   "execution_count": 343,
   "metadata": {},
   "outputs": [
    {
     "data": {
      "text/plain": [
       "(array([-0.05527032, -0.18777792,  2.26984684, -1.54948171, -0.1317205 ]),\n",
       " -0.017454580260320953)"
      ]
     },
     "execution_count": 343,
     "metadata": {},
     "output_type": "execute_result"
    }
   ],
   "source": [
    "mr.coef_, mr.intercept_"
   ]
  },
  {
   "cell_type": "code",
   "execution_count": 344,
   "metadata": {},
   "outputs": [],
   "source": [
    "# Predicting the Test set results\n",
    "y_pred = mr.predict(X_test)"
   ]
  },
  {
   "cell_type": "code",
   "execution_count": 345,
   "metadata": {},
   "outputs": [
    {
     "data": {
      "text/plain": [
       "(0.2596253160755395, 0.31590181045010124)"
      ]
     },
     "execution_count": 345,
     "metadata": {},
     "output_type": "execute_result"
    }
   ],
   "source": [
    "# Coefficient of determination R^2\n",
    "mr.score(X_train, y_train), mr.score(X_test, y_test)"
   ]
  },
  {
   "cell_type": "code",
   "execution_count": 346,
   "metadata": {},
   "outputs": [
    {
     "data": {
      "text/plain": [
       "(0.6815317274675622, 0.8887118657257886)"
      ]
     },
     "execution_count": 346,
     "metadata": {},
     "output_type": "execute_result"
    }
   ],
   "source": [
    "# Mean squared error\n",
    "from sklearn.metrics import mean_squared_error\n",
    "mean_squared_error(y_train, mr.predict(X_train)), mean_squared_error(y_test, y_pred)"
   ]
  },
  {
   "cell_type": "code",
   "execution_count": 354,
   "metadata": {},
   "outputs": [
    {
     "data": {
      "text/plain": [
       "array([0.74289551, 0.39845066, 0.71786142, 0.00158013, 0.00950247,\n",
       "       0.60796263])"
      ]
     },
     "execution_count": 354,
     "metadata": {},
     "output_type": "execute_result"
    }
   ],
   "source": [
    "# p-values\n",
    "import statsmodels.api as sm\n",
    "X = sm.add_constant(X_train)\n",
    "mr1 = sm.OLS(y_train, X).fit()\n",
    "mr1.pvalues\n",
    "#mr1.summary()"
   ]
  },
  {
   "cell_type": "code",
   "execution_count": 419,
   "metadata": {},
   "outputs": [
    {
     "data": {
      "image/png": "[encoded data removed]",
      "text/plain": [
       "<Figure size 432x288 with 1 Axes>"
      ]
     },
     "metadata": {
      "needs_background": "light"
     },
     "output_type": "display_data"
    }
   ],
   "source": [
    "# Visualising the Training set results\n",
    "plt.scatter(X_train[:,3], y_train, color = 'red')\n",
    "plt.plot(X_train[:,3], mr.predict(X_train), 'bo')\n",
    "plt.title('Actual power vs Location 7 (Training set)')\n",
    "plt.xlabel('Location 7')\n",
    "plt.ylabel('Actual power')\n",
    "plt.show()"
   ]
  },
  {
   "cell_type": "code",
   "execution_count": 371,
   "metadata": {},
   "outputs": [
    {
     "data": {
      "image/png": "[encoded data removed]",
      "text/plain": [
       "<Figure size 432x288 with 1 Axes>"
      ]
     },
     "metadata": {
      "needs_background": "light"
     },
     "output_type": "display_data"
    }
   ],
   "source": [
    "# Visualising the Test set results\n",
    "plt.scatter(X_test[:,3], y_test, color = 'red')\n",
    "plt.plot(X_test[:,3], mr.predict(X_test), 'bo')\n",
    "plt.title('Actual power vs Location 7 (Test set)')\n",
    "plt.xlabel('Location 7')\n",
    "plt.ylabel('Actual power')\n",
    "plt.show()"
   ]
  },
  {
   "cell_type": "markdown",
   "metadata": {},
   "source": [
    "### Поліноміальна регресія "
   ]
  },
  {
   "cell_type": "code",
   "execution_count": 372,
   "metadata": {},
   "outputs": [],
   "source": [
    "# Fitting Polynomial Regression to the dataset\n",
    "from sklearn.preprocessing import PolynomialFeatures\n",
    "X_train_p = PolynomialFeatures().fit_transform(X_train[:, 3:4])\n",
    "X_test_p = PolynomialFeatures().fit_transform(X_test[:, 3:4])\n",
    "pr = LinearRegression().fit(X_train_p[:,1:], y_train)\n"
   ]
  },
  {
   "cell_type": "code",
   "execution_count": 373,
   "metadata": {},
   "outputs": [
    {
     "data": {
      "text/plain": [
       "(array([0.60378088, 0.23735368]), -0.25955229222657633)"
      ]
     },
     "execution_count": 373,
     "metadata": {},
     "output_type": "execute_result"
    }
   ],
   "source": [
    "# Getting parameters\n",
    "pr.coef_, pr.intercept_"
   ]
  },
  {
   "cell_type": "code",
   "execution_count": 374,
   "metadata": {},
   "outputs": [],
   "source": [
    "# Predicting the Test set results\n",
    "y_pred = pr.predict(X_test_p[:,1:])"
   ]
  },
  {
   "cell_type": "code",
   "execution_count": 375,
   "metadata": {},
   "outputs": [
    {
     "data": {
      "text/plain": [
       "(0.2728776746242627, 0.3090000156984968)"
      ]
     },
     "execution_count": 375,
     "metadata": {},
     "output_type": "execute_result"
    }
   ],
   "source": [
    "# Coefficient of determination R^2\n",
    "pr.score(X_train_p[:,1:], y_train), pr.score(X_test_p[:,1:], y_test)\n"
   ]
  },
  {
   "cell_type": "code",
   "execution_count": 376,
   "metadata": {},
   "outputs": [
    {
     "data": {
      "text/plain": [
       "(0.669332630158, 0.8976779863562064)"
      ]
     },
     "execution_count": 376,
     "metadata": {},
     "output_type": "execute_result"
    }
   ],
   "source": [
    "# Mean squared error\n",
    "from sklearn.metrics import mean_squared_error\n",
    "mean_squared_error(y_train, pr.predict(X_train_p[:,1:])), mean_squared_error(y_test, y_pred)"
   ]
  },
  {
   "cell_type": "code",
   "execution_count": 420,
   "metadata": {},
   "outputs": [
    {
     "data": {
      "image/png": "[encoded data removed]",
      "text/plain": [
       "<Figure size 432x288 with 1 Axes>"
      ]
     },
     "metadata": {
      "needs_background": "light"
     },
     "output_type": "display_data"
    }
   ],
   "source": [
    "\n",
    "# Visualising the Training set results\n",
    "plt.scatter(X_train[:,3], y_train, color = 'red')\n",
    "plt.plot(X_train[:,3], pr.predict(X_train_p[:,1:]), 'bo')\n",
    "plt.title('Actual power vs Location 7 (Training set)')\n",
    "plt.xlabel('Location 7')\n",
    "plt.ylabel('Actual power')\n",
    "plt.show()"
   ]
  },
  {
   "cell_type": "code",
   "execution_count": 421,
   "metadata": {},
   "outputs": [
    {
     "data": {
      "image/png": "[encoded data removed]",
      "text/plain": [
       "<Figure size 432x288 with 1 Axes>"
      ]
     },
     "metadata": {
      "needs_background": "light"
     },
     "output_type": "display_data"
    }
   ],
   "source": [
    "# Visualising the Test set results\n",
    "plt.scatter(X_test[:,3], y_test, color = 'red')\n",
    "plt.plot(X_test[:,3], pr.predict(X_test_p[:,1:]), 'bo')\n",
    "plt.title('Actual power vs Location 7 (Test set)')\n",
    "plt.xlabel('Location 7')\n",
    "plt.ylabel('Actual power')\n",
    "plt.show()"
   ]
  },
  {
   "cell_type": "markdown",
   "metadata": {},
   "source": [
    "### Вилучення факторів за р-значенням"
   ]
  },
  {
   "cell_type": "code",
   "execution_count": 416,
   "metadata": {},
   "outputs": [],
   "source": [
    "# Backward Elimination with p-values\n",
    "import statsmodels.api as sm\n",
    "def backwardElimination(x, sl):\n",
    "    numVars = len(x[0])\n",
    "    for i in range(0, numVars):\n",
    "        regressor_OLS = sm.OLS(y, x).fit()\n",
    "        maxVar = max(regressor_OLS.pvalues).astype(float)\n",
    "        if maxVar > sl:\n",
    "            for j in range(0, numVars - i):\n",
    "                if (regressor_OLS.pvalues[j].astype(float) == maxVar):\n",
    "                    x = np.delete(x, j, 1)\n",
    "    regressor_OLS.summary()\n",
    "    return x\n",
    "         \n",
    "SL = 0.05\n",
    "X_opt = X_train[:, [0, 1, 2, 3, 4]]\n",
    "y = y_train\n",
    "X_Modeled = backwardElimination(X_opt, SL)"
   ]
  },
  {
   "cell_type": "code",
   "execution_count": 417,
   "metadata": {},
   "outputs": [
    {
     "data": {
      "text/plain": [
       "array([[ 2.92807108e-01,  2.44382496e-01],\n",
       "       [ 7.76559200e-02,  8.24546192e-02],\n",
       "       [-3.25617412e-01, -3.48428807e-01],\n",
       "       [ 1.60912154e+00,  1.34626843e+00],\n",
       "       [ 3.77678305e-01,  3.81910282e-01],\n",
       "       [ 7.63112468e-01,  8.47730202e-01],\n",
       "       [-7.31053067e-01, -7.66557639e-01],\n",
       "       [ 1.55344171e+00,  1.62076945e+00],\n",
       "       [-1.23703677e+00, -1.34883254e+00],\n",
       "       [-1.93715679e-01, -2.47501157e-01],\n",
       "       [ 1.63831290e+00,  1.39395951e+00],\n",
       "       [ 6.45806418e-01,  6.17038432e-01],\n",
       "       [ 1.43606787e-01,  3.50301073e-01],\n",
       "       [-2.52686273e+00, -2.32261799e+00],\n",
       "       [-1.41596903e+00, -1.43478741e+00],\n",
       "       [-1.62361988e-01, -1.84837287e-01],\n",
       "       [ 1.39342977e+00,  1.11724030e+00],\n",
       "       [ 1.34416912e-01,  2.24418785e-01],\n",
       "       [ 7.06283686e-02,  2.41055211e-01],\n",
       "       [ 6.58239778e-01,  6.39220333e-01],\n",
       "       [ 7.31758777e-01,  8.39966536e-01],\n",
       "       [-4.63465535e-01, -4.09983582e-01],\n",
       "       [ 3.78218886e-01,  2.71000777e-01],\n",
       "       [-1.63112022e+00, -1.66492463e+00],\n",
       "       [-1.07053786e+00, -1.26232313e+00],\n",
       "       [ 7.86898026e-01,  7.86729974e-01],\n",
       "       [-1.67490727e+00, -1.70651569e+00],\n",
       "       [ 1.65230022e-01,  6.69272886e-02],\n",
       "       [-4.04001639e-01, -3.71719802e-01],\n",
       "       [ 7.38718539e-02, -3.01185280e-02],\n",
       "       [ 5.16067009e-01,  5.46056349e-01],\n",
       "       [-6.90509502e-01, -6.21266188e-01],\n",
       "       [ 6.15533889e-01,  6.28683930e-01],\n",
       "       [-1.55875017e-01, -1.74300884e-01],\n",
       "       [ 3.38215901e-01,  2.92628131e-01],\n",
       "       [-7.17538545e-01, -7.09993792e-01],\n",
       "       [-1.70734213e+00, -1.80744334e+00],\n",
       "       [-1.54253275e-01, -1.94264595e-01],\n",
       "       [-6.51047098e-01, -8.53621600e-01],\n",
       "       [ 3.54906118e-02, -3.84367409e-02],\n",
       "       [-8.49980859e-01, -8.14248726e-01],\n",
       "       [ 1.00042747e+00,  9.93021653e-01],\n",
       "       [ 1.64148860e-01,  2.43273401e-01],\n",
       "       [-2.18582399e-01, -2.36410207e-01],\n",
       "       [-5.26240706e-02,  2.36725817e-02],\n",
       "       [-1.64031010e+00, -1.57065155e+00],\n",
       "       [ 9.95562244e-01,  1.04126729e+00],\n",
       "       [ 7.53382012e-01,  7.55675313e-01],\n",
       "       [ 1.47390853e-01,  3.10373651e-01],\n",
       "       [ 5.76544277e-02, -2.01366726e-02],\n",
       "       [ 5.47961280e-01,  7.96157282e-01],\n",
       "       [ 9.49612869e-01,  9.90803463e-01],\n",
       "       [ 4.75523443e-01,  5.37738136e-01],\n",
       "       [ 1.11016539e+00,  8.10020970e-01],\n",
       "       [ 2.40370763e-01,  1.90591386e-01],\n",
       "       [-2.01493264e+00, -2.19229932e+00],\n",
       "       [-7.08348671e-01, -6.61748157e-01],\n",
       "       [-5.26172916e-01, -3.75601635e-01],\n",
       "       [-1.26352523e+00, -1.46196023e+00],\n",
       "       [-1.68848958e-01, -1.93710047e-01],\n",
       "       [ 7.13919608e-01,  7.27947937e-01],\n",
       "       [ 1.52370976e+00,  1.55089646e+00],\n",
       "       [-1.80741738e-01, -1.08864276e-01],\n",
       "       [-1.86147546e-01, -2.15891948e-01],\n",
       "       [ 4.32276973e-01,  2.78764443e-01],\n",
       "       [-6.53750002e-01, -5.63038698e-01],\n",
       "       [ 1.04529568e+00,  9.57530611e-01],\n",
       "       [ 5.73368581e-01,  5.95965626e-01],\n",
       "       [-2.25495055e+00, -2.47678220e+00],\n",
       "       [ 7.61490725e-01,  7.58448050e-01],\n",
       "       [ 1.66426078e+00,  1.49932354e+00],\n",
       "       [ 1.47931434e-01,  2.19982405e-01],\n",
       "       [-2.77174587e+00, -2.86108364e+00],\n",
       "       [ 1.31882961e+00,  1.14108584e+00],\n",
       "       [ 3.70110173e-01,  4.38474129e-01],\n",
       "       [-4.04001639e-01, -3.77265278e-01],\n",
       "       [ 1.83069190e-01,  8.35637143e-02],\n",
       "       [-4.55965192e-02, -9.11187556e-02],\n",
       "       [-6.71048590e-01, -5.90211527e-01],\n",
       "       [ 5.54921042e-02,  3.45310145e-01],\n",
       "       [-8.65657705e-01, -8.62494361e-01],\n",
       "       [ 1.70642609e+00,  1.49211442e+00],\n",
       "       [ 4.10113157e-01,  4.69528791e-01],\n",
       "       [ 6.14993309e-01,  5.21101710e-01],\n",
       "       [ 1.48472014e-01,  1.68409485e-01],\n",
       "       [-1.47273003e+00, -1.64274273e+00],\n",
       "       [ 1.04259278e+00,  1.13165853e+00],\n",
       "       [ 2.97672336e-01,  3.72482974e-01],\n",
       "       [-8.65117124e-01, -8.51957958e-01],\n",
       "       [-1.58037341e-01, -2.00919165e-01],\n",
       "       [-8.67820028e-01, -8.33657890e-01],\n",
       "       [-6.23545263e-02, -9.33369457e-02],\n",
       "       [ 8.69606900e-01,  8.54384772e-01],\n",
       "       [ 1.62587954e+00,  1.46383250e+00],\n",
       "       [ 4.61468340e-01,  4.24610441e-01],\n",
       "       [ 1.65831439e+00,  1.42889601e+00],\n",
       "       [ 1.28152953e+00,  1.32408652e+00],\n",
       "       [ 1.70372319e+00,  1.51817816e+00],\n",
       "       [ 5.92288912e-01,  6.59184044e-01],\n",
       "       [ 4.16059547e-01,  4.74519718e-01],\n",
       "       [ 6.59861521e-01,  9.08175882e-01],\n",
       "       [ 3.06253840e-02,  1.86816540e-02],\n",
       "       [ 1.67669414e+00,  1.44996881e+00],\n",
       "       [ 7.00945667e-01,  7.38484340e-01],\n",
       "       [ 7.27974711e-01,  6.20365717e-01],\n",
       "       [ 8.52240522e-02,  1.49068080e-03],\n",
       "       [ 1.66851764e-01,  2.69891682e-01],\n",
       "       [-3.78053757e-01, -3.01846815e-01],\n",
       "       [-4.34814748e-01, -3.60074305e-01],\n",
       "       [ 7.49530156e-02,  3.30337362e-01],\n",
       "       [ 5.92288912e-01,  8.32757418e-01],\n",
       "       [ 9.92318758e-01,  1.07010376e+00],\n",
       "       [ 1.15341186e+00,  1.20097697e+00],\n",
       "       [-1.57496760e-01, -1.52673531e-01],\n",
       "       [ 2.35978326e-02,  1.17945661e-01],\n",
       "       [ 1.52425034e+00,  1.47492345e+00],\n",
       "       [-3.50484132e-01, -3.80038015e-01],\n",
       "       [ 1.54891195e-02, -6.27298453e-03],\n",
       "       [-9.37760069e-03,  7.41364064e-02],\n",
       "       [-1.63983731e-01, -2.05355545e-01],\n",
       "       [ 1.55073880e+00,  1.28582275e+00],\n",
       "       [-6.34289091e-01, -5.23665824e-01],\n",
       "       [ 7.24190645e-01,  6.57520401e-01],\n",
       "       [ 6.14452728e-01,  5.98183816e-01],\n",
       "       [-1.50469209e-01, -1.68200861e-01],\n",
       "       [-4.08866866e-01, -4.00556274e-01],\n",
       "       [-7.93760449e-01, -8.49185220e-01],\n",
       "       [ 2.50641800e-01,  1.39573014e-01],\n",
       "       [ 2.80373748e-01,  1.20718398e-01],\n",
       "       [-3.58052264e-01, -3.85028943e-01],\n",
       "       [-2.49388730e+00, -2.39304553e+00],\n",
       "       [-5.93204944e-01, -4.60447406e-01],\n",
       "       [ 3.27877075e-02,  2.31627903e-01],\n",
       "       [ 2.89023042e-01,  3.74701164e-01],\n",
       "       [-1.07107844e+00, -1.13089536e+00],\n",
       "       [ 1.26848780e-01,  2.38837021e-01],\n",
       "       [ 6.10128081e-01,  6.45874903e-01],\n",
       "       [-1.82302643e+00, -1.90060732e+00],\n",
       "       [ 4.63022293e-02,  2.14543916e-02],\n",
       "       [ 1.08421751e+00,  1.17324960e+00],\n",
       "       [ 1.43397333e+00,  1.30024098e+00],\n",
       "       [-2.43172050e+00, -2.54110971e+00],\n",
       "       [-4.44545204e-01, -2.93528602e-01],\n",
       "       [ 7.45813880e-01,  1.00189441e+00],\n",
       "       [ 3.73894239e-01,  3.07046366e-01],\n",
       "       [-1.57598097e+00, -1.60447895e+00],\n",
       "       [-3.14265214e-01, -2.39737492e-01],\n",
       "       [ 1.08151460e+00,  1.17269505e+00],\n",
       "       [-1.20946714e+00, -1.21352294e+00],\n",
       "       [ 5.17080381e-02,  5.19545054e-02],\n",
       "       [ 3.27944865e-01,  5.64910965e-01],\n",
       "       [-8.68901190e-01, -8.34766985e-01],\n",
       "       [ 4.75523443e-01,  4.49565080e-01],\n",
       "       [ 5.36068501e-01,  5.48829086e-01],\n",
       "       [ 1.09881319e+00,  1.12223123e+00],\n",
       "       [-2.86364461e+00, -2.92984753e+00],\n",
       "       [ 1.20902390e-01,  3.89119400e-01],\n",
       "       [ 8.15548813e-01,  8.03920947e-01],\n",
       "       [ 6.68510815e-01,  7.40702530e-01],\n",
       "       [ 1.56155042e+00,  1.53925096e+00],\n",
       "       [ 6.84660451e-02, -2.73457904e-02],\n",
       "       [-8.64035962e-01, -8.30330604e-01],\n",
       "       [-3.40213095e-01, -3.68392517e-01],\n",
       "       [-8.80253388e-01, -1.06268602e+00],\n",
       "       [ 1.34369633e+00,  1.45939612e+00],\n",
       "       [ 1.20314530e+00,  9.13166809e-01],\n",
       "       [-2.48314347e-01, -1.76519074e-01],\n",
       "       [-1.58645712e-02,  2.94291773e-01],\n",
       "       [-2.16413296e+00, -2.22335398e+00],\n",
       "       [-4.64546696e-01, -3.96119894e-01],\n",
       "       [-8.97551976e-01, -8.99649045e-01],\n",
       "       [ 7.70680600e-01,  8.02811852e-01],\n",
       "       [-4.16434999e-01, -3.77819825e-01],\n",
       "       [ 6.19317956e-01,  8.58821152e-01],\n",
       "       [ 5.65800449e-01,  5.42729064e-01],\n",
       "       [-9.92694210e-01, -1.03052226e+00],\n",
       "       [-1.86147546e-01, -2.05910093e-01],\n",
       "       [ 1.62527117e-01,  1.16836566e-01],\n",
       "       [-1.93871074e+00, -2.08138982e+00],\n",
       "       [-2.07547770e+00, -2.03979875e+00],\n",
       "       [ 5.81950085e-02,  1.75725590e-02],\n",
       "       [ 8.63660510e-01,  8.93203099e-01],\n",
       "       [ 5.29581530e-01,  5.10565307e-01],\n",
       "       [-8.82415712e-01, -8.53067053e-01],\n",
       "       [-1.67227216e-01, -2.18110138e-01],\n",
       "       [ 1.55127938e+00,  1.39506861e+00],\n",
       "       [ 3.92746780e-02, -5.23004290e-02],\n",
       "       [-1.55334437e-01, -1.98146428e-01],\n",
       "       [ 7.31218196e-01,  8.11130065e-01],\n",
       "       [-2.25765345e+00, -2.46291851e+00],\n",
       "       [ 1.05718846e+00,  1.13554037e+00],\n",
       "       [-1.87769289e-01, -5.06367864e-02],\n",
       "       [ 1.10800307e+00,  1.14829496e+00],\n",
       "       [-6.34356881e-02, -9.88824209e-02],\n",
       "       [-2.61659916e+00, -2.41966381e+00],\n",
       "       [ 1.72257573e-01,  2.56582542e-01],\n",
       "       [-1.44516040e+00, -1.42979648e+00],\n",
       "       [-1.80201157e-01, -2.36964754e-01],\n",
       "       [ 8.30617287e-02, -1.33264367e-01],\n",
       "       [ 1.41444463e-01,  3.97544599e-02],\n",
       "       [-3.70485624e-01, -3.93347156e-01],\n",
       "       [ 7.67437115e-01,  9.13721357e-01],\n",
       "       [ 5.98167512e-02,  2.12773287e-01],\n",
       "       [-4.08326286e-01, -3.88910776e-01],\n",
       "       [ 3.62001460e-01,  1.87818649e-01],\n",
       "       [-9.80328640e-02, -1.36037105e-01],\n",
       "       [ 9.60356697e-02,  9.28139593e-01],\n",
       "       [-1.42407775e+00, -1.43700560e+00],\n",
       "       [-3.80283870e-02,  2.33291546e-01],\n",
       "       [-3.76432014e-01, -2.38628397e-01],\n",
       "       [ 1.05448556e+00,  1.06344919e+00],\n",
       "       [-1.60199664e-01, -1.79846359e-01],\n",
       "       [-2.70309209e+00, -2.69638302e+00],\n",
       "       [ 7.72302343e-01,  9.87476178e-01],\n",
       "       [ 5.38230824e-01,  6.04283839e-01],\n",
       "       [ 6.25264345e-01,  5.90974698e-01],\n",
       "       [ 1.73879316e-01,  4.37919582e-01],\n",
       "       [-1.44407924e+00, -1.45086928e+00],\n",
       "       [ 6.86349984e-01,  7.24066104e-01],\n",
       "       [-1.88140917e+00, -1.98323491e+00],\n",
       "       [-1.12628548e-01, -4.01003835e-02],\n",
       "       [ 2.55507027e-01,  8.02364291e-02],\n",
       "       [-8.64035962e-01, -8.32548795e-01],\n",
       "       [ 9.37720090e-01,  9.22594117e-01],\n",
       "       [-2.62470787e+00, -2.72632859e+00],\n",
       "       [ 1.07394647e+00,  1.13443127e+00],\n",
       "       [-1.14675976e+00, -1.23570484e+00],\n",
       "       [-2.47875103e+00, -2.34868172e+00],\n",
       "       [ 1.02522640e-01,  1.59536725e-01],\n",
       "       [ 5.26338045e-01,  4.05755825e-01],\n",
       "       [ 1.13874839e-01,  3.62501119e-01],\n",
       "       [ 1.43667624e+00,  1.56753289e+00],\n",
       "       [ 6.77700690e-01,  6.40329428e-01],\n",
       "       [-5.59353457e-03, -1.72961768e-04],\n",
       "       [ 1.33335750e-01,  1.29036611e-01],\n",
       "       [-1.75923789e+00, -1.79967968e+00],\n",
       "       [ 1.26639326e+00,  1.15550408e+00],\n",
       "       [ 1.07928449e-01,  1.00200140e-01],\n",
       "       [ 1.47505748e+00,  1.43000510e+00],\n",
       "       [ 2.13341719e-01,  1.05745615e-01],\n",
       "       [ 8.75012709e-01,  9.61412444e-01],\n",
       "       [ 5.27891998e-02,  1.62309463e-01],\n",
       "       [ 1.19821228e-01,  9.13273796e-02],\n",
       "       [ 6.60942683e-01,  6.52529473e-01],\n",
       "       [-3.86162470e-01, -3.83365300e-01],\n",
       "       [ 3.93355150e-01,  3.02609986e-01],\n",
       "       [-1.61821407e-01, -1.83173645e-01],\n",
       "       [ 1.41985044e-01,  1.89482291e-01]])"
      ]
     },
     "execution_count": 417,
     "metadata": {},
     "output_type": "execute_result"
    }
   ],
   "source": [
    "X_Modeled"
   ]
  },
  {
   "cell_type": "code",
   "execution_count": 418,
   "metadata": {},
   "outputs": [
    {
     "data": {
      "text/plain": [
       "array([[ 0.19898518,  0.2785722 ,  0.29280711,  0.2443825 ,  0.24684181],\n",
       "       [ 0.19898518,  0.01130886,  0.07765592,  0.08245462, -0.10249774],\n",
       "       [ 0.19898518, -0.30186476, -0.32561741, -0.34842881, -0.38593517],\n",
       "       ...,\n",
       "       [ 0.19898518,  0.48243566,  0.39335515,  0.30260999,  0.37864605],\n",
       "       [ 0.19898518, -0.13462021, -0.16182141, -0.18317364, -0.28445757],\n",
       "       [ 0.19898518,  0.12827073,  0.14198504,  0.18948229,  0.23109529]])"
      ]
     },
     "execution_count": 418,
     "metadata": {},
     "output_type": "execute_result"
    }
   ],
   "source": [
    "X_train"
   ]
  },
  {
   "cell_type": "markdown",
   "metadata": {},
   "source": [
    "### Оптимізована модель"
   ]
  },
  {
   "cell_type": "code",
   "execution_count": 423,
   "metadata": {},
   "outputs": [],
   "source": [
    "# Fitting Optimized Multiple Linear Regression to the Training set\n",
    "from sklearn.linear_model import LinearRegression\n",
    "omr = LinearRegression().fit(X_train[:, 2:4], y_train)"
   ]
  },
  {
   "cell_type": "code",
   "execution_count": 424,
   "metadata": {},
   "outputs": [
    {
     "data": {
      "text/plain": [
       "(array([ 2.25311164, -1.82200823]), -0.01718097100519944)"
      ]
     },
     "execution_count": 424,
     "metadata": {},
     "output_type": "execute_result"
    }
   ],
   "source": [
    "# Getting parameters\n",
    "omr.coef_, omr.intercept_"
   ]
  },
  {
   "cell_type": "code",
   "execution_count": 425,
   "metadata": {},
   "outputs": [],
   "source": [
    "# Predicting the Test set results\n",
    "y_pred = omr.predict(X_test[:, 2:4])"
   ]
  },
  {
   "cell_type": "code",
   "execution_count": 426,
   "metadata": {},
   "outputs": [
    {
     "data": {
      "text/plain": [
       "(0.25714832688803546, 0.3216294308681291)"
      ]
     },
     "execution_count": 426,
     "metadata": {},
     "output_type": "execute_result"
    }
   ],
   "source": [
    "# Coefficient of determination R^2\n",
    "omr.score(X_train[:, 2:4], y_train), omr.score(X_test[:, 2:4], y_test)"
   ]
  },
  {
   "cell_type": "code",
   "execution_count": 427,
   "metadata": {},
   "outputs": [
    {
     "data": {
      "text/plain": [
       "(0.6838118523239793, 0.8812711148136662)"
      ]
     },
     "execution_count": 427,
     "metadata": {},
     "output_type": "execute_result"
    }
   ],
   "source": [
    "# Mean squared error\n",
    "from sklearn.metrics import mean_squared_error\n",
    "mean_squared_error(y_train, omr.predict(X_train[:, 2:4])), mean_squared_error(y_test, y_pred)"
   ]
  },
  {
   "cell_type": "code",
   "execution_count": 428,
   "metadata": {},
   "outputs": [
    {
     "data": {
      "image/png": "[encoded data removed]",
      "text/plain": [
       "<Figure size 432x288 with 1 Axes>"
      ]
     },
     "metadata": {
      "needs_background": "light"
     },
     "output_type": "display_data"
    }
   ],
   "source": [
    "# Visualising the Training set results\n",
    "plt.scatter(X_train[:,3], y_train, color = 'red')\n",
    "plt.plot(X_train[:,3], omr.predict(X_train[:, 2:4]), 'bo')\n",
    "plt.title('Actual power vs Location 7 (Training set)')\n",
    "plt.xlabel('Location 7')\n",
    "plt.ylabel('Actual power')\n",
    "plt.show()"
   ]
  },
  {
   "cell_type": "code",
   "execution_count": 429,
   "metadata": {},
   "outputs": [
    {
     "data": {
      "image/png": "[encoded data removed]",
      "text/plain": [
       "<Figure size 432x288 with 1 Axes>"
      ]
     },
     "metadata": {
      "needs_background": "light"
     },
     "output_type": "display_data"
    }
   ],
   "source": [
    "\n",
    "# Visualising the Test set results\n",
    "plt.scatter(X_test[:,3], y_test, color = 'red')\n",
    "plt.plot(X_test[:,3], omr.predict(X_test[:, 2:4]), 'bo')\n",
    "plt.title('Actual power vs Location 7 (Test set)')\n",
    "plt.xlabel('Location 7')\n",
    "plt.ylabel('Actual power')\n",
    "plt.show()"
   ]
  },
  {
   "cell_type": "code",
   "execution_count": 536,
   "metadata": {},
   "outputs": [],
   "source": [
    "summary = pd.DataFrame()\n",
    "summary['Model'] = ['Simple Linear Regression', 'Multiple Linear Regression','Polynomial Regression'\n",
    "                    ,'Optimized Multiple Linear Regression']\n",
    "summary['MSE (Train set)'] = [0.737,0.682,0.669,0.683]\n",
    "summary['MSE (Test set)'] = [0.944,0.889,0.898,0.881]\n",
    "summary['R^2 (Train set)'] = [0.199,0.259,0.272,0.257]\n",
    "summary['R^2 (Test set)'] = [0.274,0.316,0.309,0.322]\n"
   ]
  },
  {
   "cell_type": "markdown",
   "metadata": {},
   "source": [
    "### Висновки (регресія):\n",
    "- Було побудовано просто лінійну модель (з фактором Location 3), модель множинної регресії, поліноміальна модель та оптимізована модель множинної регресії.\n",
    "- Виходячи з р-значень отриманих з множинної регресії, найбільш вагомими є фактори Location 5 i Location 7. З цими факторами було побудовано оптимізовану модель. \n",
    "- Всі моделі мають низький показник R^2 як на навчальній, так і на тестовій виборці. \n",
    "- Судячи по тестовій виборці, оптимізована модель множ. регресії є найкращою з регресійних моделей, адже має найнижчий MSE та найвищий R^2.\n",
    "- Показник MSE в тестовій виборці всих моделей є вищим за відповідний показник в навчальній. Це свідчить про присутність ефекту \"перенавченості\" моделі. В якості експеременту мінялися значення пропорції розбиття на тестову і навчальні виборки, а також параметр random_state. Це не принесо позитивного ефекту."
   ]
  },
  {
   "cell_type": "code",
   "execution_count": 433,
   "metadata": {},
   "outputs": [
    {
     "data": {
      "text/html": [
       "<div>\n",
       "<style scoped>\n",
       "    .dataframe tbody tr th:only-of-type {\n",
       "        vertical-align: middle;\n",
       "    }\n",
       "\n",
       "    .dataframe tbody tr th {\n",
       "        vertical-align: top;\n",
       "    }\n",
       "\n",
       "    .dataframe thead th {\n",
       "        text-align: right;\n",
       "    }\n",
       "</style>\n",
       "<table border=\"1\" class=\"dataframe\">\n",
       "  <thead>\n",
       "    <tr style=\"text-align: right;\">\n",
       "      <th></th>\n",
       "      <th>Model</th>\n",
       "      <th>MSE (Train set)</th>\n",
       "      <th>MSE (Test set)</th>\n",
       "      <th>R^2 (Train set)</th>\n",
       "      <th>R^2 (Test set)</th>\n",
       "    </tr>\n",
       "  </thead>\n",
       "  <tbody>\n",
       "    <tr>\n",
       "      <th>0</th>\n",
       "      <td>Simple Linear Regression</td>\n",
       "      <td>0.737</td>\n",
       "      <td>0.944</td>\n",
       "      <td>0.199</td>\n",
       "      <td>0.274</td>\n",
       "    </tr>\n",
       "    <tr>\n",
       "      <th>1</th>\n",
       "      <td>Multiple Linear Regression</td>\n",
       "      <td>0.682</td>\n",
       "      <td>0.889</td>\n",
       "      <td>0.259</td>\n",
       "      <td>0.316</td>\n",
       "    </tr>\n",
       "    <tr>\n",
       "      <th>2</th>\n",
       "      <td>Polynomial Regression</td>\n",
       "      <td>0.669</td>\n",
       "      <td>0.898</td>\n",
       "      <td>0.272</td>\n",
       "      <td>0.309</td>\n",
       "    </tr>\n",
       "    <tr>\n",
       "      <th>3</th>\n",
       "      <td>Optimized Multiple Linear Regression</td>\n",
       "      <td>0.683</td>\n",
       "      <td>0.881</td>\n",
       "      <td>0.257</td>\n",
       "      <td>0.322</td>\n",
       "    </tr>\n",
       "  </tbody>\n",
       "</table>\n",
       "</div>"
      ],
      "text/plain": [
       "                                  Model  MSE (Train set)  MSE (Test set)  \\\n",
       "0              Simple Linear Regression            0.737           0.944   \n",
       "1            Multiple Linear Regression            0.682           0.889   \n",
       "2                 Polynomial Regression            0.669           0.898   \n",
       "3  Optimized Multiple Linear Regression            0.683           0.881   \n",
       "\n",
       "   R^2 (Train set)  R^2 (Test set)  \n",
       "0            0.199           0.274  \n",
       "1            0.259           0.316  \n",
       "2            0.272           0.309  \n",
       "3            0.257           0.322  "
      ]
     },
     "execution_count": 433,
     "metadata": {},
     "output_type": "execute_result"
    }
   ],
   "source": [
    "summary"
   ]
  },
  {
   "cell_type": "markdown",
   "metadata": {},
   "source": [
    "## 3. Regression Tree & Random Forest"
   ]
  },
  {
   "cell_type": "code",
   "execution_count": 435,
   "metadata": {},
   "outputs": [],
   "source": [
    "# Fitting Tree to the Training set (M2)\n",
    "from sklearn.tree import DecisionTreeRegressor\n",
    "sdt = DecisionTreeRegressor(max_leaf_nodes = 10).fit(X_train[:, 3:4], y_train)"
   ]
  },
  {
   "cell_type": "code",
   "execution_count": 436,
   "metadata": {},
   "outputs": [],
   "source": [
    "# Predicting the Test set results\n",
    "y_pred = sdt.predict(X_test[:, 3:4])"
   ]
  },
  {
   "cell_type": "code",
   "execution_count": 437,
   "metadata": {},
   "outputs": [
    {
     "data": {
      "text/plain": [
       "(0.4639290356286593, 0.3849160381038459)"
      ]
     },
     "execution_count": 437,
     "metadata": {},
     "output_type": "execute_result"
    }
   ],
   "source": [
    "# Coefficient of determination R^2\n",
    "sdt.score(X_train[:, 3:4], y_train), sdt.score(X_test[:, 3:4], y_test)"
   ]
  },
  {
   "cell_type": "code",
   "execution_count": 438,
   "metadata": {},
   "outputs": [
    {
     "data": {
      "text/plain": [
       "(0.4934655091886934, 0.7990554918942219)"
      ]
     },
     "execution_count": 438,
     "metadata": {},
     "output_type": "execute_result"
    }
   ],
   "source": [
    "# Mean squared error\n",
    "from sklearn.metrics import mean_squared_error\n",
    "mean_squared_error(y_train, sdt.predict(X_train[:, 3:4])), mean_squared_error(y_test, y_pred)"
   ]
  },
  {
   "cell_type": "code",
   "execution_count": 453,
   "metadata": {},
   "outputs": [
    {
     "data": {
      "image/png": "[encoded data removed]",
      "text/plain": [
       "<Figure size 432x288 with 1 Axes>"
      ]
     },
     "metadata": {
      "needs_background": "light"
     },
     "output_type": "display_data"
    }
   ],
   "source": [
    "# Visualising the Training set results\n",
    "X_grid = np.arange(min(X[:, 3:4]), max(X[:, 3:4]), 0.01)\n",
    "X_grid = X_grid.reshape((len(X_grid), 1))\n",
    "plt.plot(X_grid, sdt.predict(X_grid), color = 'blue')\n",
    "plt.scatter(X_train[:,3], y_train, color = 'red')\n",
    "plt.plot(X_train[:,3], sdt.predict(X_train[:, 3:4]), 'bo')\n",
    "plt.title('Actual power vs Location 7 (Training set)')\n",
    "plt.xlabel('Location 7')\n",
    "plt.ylabel('Actual power')\n",
    "plt.show()"
   ]
  },
  {
   "cell_type": "code",
   "execution_count": 454,
   "metadata": {},
   "outputs": [
    {
     "data": {
      "image/png": "[encoded data removed]",
      "text/plain": [
       "<Figure size 432x288 with 1 Axes>"
      ]
     },
     "metadata": {
      "needs_background": "light"
     },
     "output_type": "display_data"
    }
   ],
   "source": [
    "# Visualising the Test set results\n",
    "X_grid = np.arange(min(X[:, 3:4]), max(X[:, 3:4]), 0.01)\n",
    "X_grid = X_grid.reshape((len(X_grid), 1))\n",
    "plt.plot(X_grid, sdt.predict(X_grid), color = 'blue')\n",
    "plt.scatter(X_test[:,3], y_test, color = 'red')\n",
    "plt.plot(X_test[:,3], sdt.predict(X_test[:, 3:4]), 'bo')\n",
    "plt.title('Actual power vs Location 7 (Test set)')\n",
    "plt.xlabel('Location 7')\n",
    "plt.ylabel('Actual power')\n",
    "plt.show()"
   ]
  },
  {
   "cell_type": "code",
   "execution_count": 493,
   "metadata": {},
   "outputs": [],
   "source": [
    "# Fitting Tree to the Training set \n",
    "from sklearn.tree import DecisionTreeRegressor\n",
    "dt = DecisionTreeRegressor().fit(X_train, y_train)"
   ]
  },
  {
   "cell_type": "code",
   "execution_count": 494,
   "metadata": {},
   "outputs": [],
   "source": [
    "# Predicting the Test set results\n",
    "y_pred = dt.predict(X_test)"
   ]
  },
  {
   "cell_type": "code",
   "execution_count": 495,
   "metadata": {},
   "outputs": [
    {
     "data": {
      "text/plain": [
       "(0.9999999996904083, 0.32999021697311137)"
      ]
     },
     "execution_count": 495,
     "metadata": {},
     "output_type": "execute_result"
    }
   ],
   "source": [
    "# Coefficient of determination R^2\n",
    "dt.score(X_train, y_train), dt.score(X_test, y_test)"
   ]
  },
  {
   "cell_type": "code",
   "execution_count": 496,
   "metadata": {},
   "outputs": [
    {
     "data": {
      "text/plain": [
       "(2.84986186007866e-10, 0.870409618712965)"
      ]
     },
     "execution_count": 496,
     "metadata": {},
     "output_type": "execute_result"
    }
   ],
   "source": [
    "# Mean squared error\n",
    "from sklearn.metrics import mean_squared_error\n",
    "mean_squared_error(y_train, dt.predict(X_train)), mean_squared_error(y_test, y_pred)"
   ]
  },
  {
   "cell_type": "code",
   "execution_count": 497,
   "metadata": {},
   "outputs": [
    {
     "data": {
      "image/png": "[encoded data removed]",
      "text/plain": [
       "<Figure size 432x288 with 1 Axes>"
      ]
     },
     "metadata": {
      "needs_background": "light"
     },
     "output_type": "display_data"
    }
   ],
   "source": [
    "# Visualising the Training set results\n",
    "plt.scatter(X_train[:,3], y_train, color = 'red')\n",
    "plt.plot(X_train[:,3], dt.predict(X_train), 'bo')\n",
    "plt.title('Actual power vs Location 7 (Training set)')\n",
    "plt.xlabel('Location 7')\n",
    "plt.ylabel('Actual power')\n",
    "plt.show()"
   ]
  },
  {
   "cell_type": "code",
   "execution_count": 492,
   "metadata": {},
   "outputs": [
    {
     "data": {
      "image/png": "[encoded data removed]",
      "text/plain": [
       "<Figure size 432x288 with 1 Axes>"
      ]
     },
     "metadata": {
      "needs_background": "light"
     },
     "output_type": "display_data"
    }
   ],
   "source": [
    "# Visualising the Test set results\n",
    "plt.scatter(X_test[:,3], y_test, color = 'red')\n",
    "plt.plot(X_test[:,3], dt.predict(X_test), 'bo')\n",
    "plt.title('Actual power vs Location 7 (Test set)')\n",
    "plt.xlabel('Location 7')\n",
    "plt.ylabel('Actual power')\n",
    "plt.show()"
   ]
  },
  {
   "cell_type": "code",
   "execution_count": 528,
   "metadata": {},
   "outputs": [],
   "source": [
    "# Fitting Random Forest to the Training set\n",
    "from sklearn.ensemble import RandomForestRegressor\n",
    "rf = RandomForestRegressor(n_estimators = 10, random_state = 1).fit(X_train, y_train)"
   ]
  },
  {
   "cell_type": "code",
   "execution_count": 529,
   "metadata": {},
   "outputs": [],
   "source": [
    "# Predicting the Test set results\n",
    "y_pred = rf.predict(X_test)"
   ]
  },
  {
   "cell_type": "code",
   "execution_count": 530,
   "metadata": {},
   "outputs": [
    {
     "data": {
      "text/plain": [
       "(0.9215700281248468, 0.6994253955630936)"
      ]
     },
     "execution_count": 530,
     "metadata": {},
     "output_type": "execute_result"
    }
   ],
   "source": [
    "# Coefficient of determination R^2\n",
    "rf.score(X_train, y_train), rf.score(X_test, y_test)"
   ]
  },
  {
   "cell_type": "code",
   "execution_count": 531,
   "metadata": {},
   "outputs": [
    {
     "data": {
      "text/plain": [
       "(0.07219657205723583, 0.3904764280616909)"
      ]
     },
     "execution_count": 531,
     "metadata": {},
     "output_type": "execute_result"
    }
   ],
   "source": [
    "# Mean squared error\n",
    "from sklearn.metrics import mean_squared_error\n",
    "mean_squared_error(y_train, rf.predict(X_train)), mean_squared_error(y_test, y_pred)"
   ]
  },
  {
   "cell_type": "code",
   "execution_count": 532,
   "metadata": {},
   "outputs": [
    {
     "data": {
      "image/png": "[encoded data removed]",
      "text/plain": [
       "<Figure size 432x288 with 1 Axes>"
      ]
     },
     "metadata": {
      "needs_background": "light"
     },
     "output_type": "display_data"
    }
   ],
   "source": [
    "\n",
    "# Visualising the Training set results\n",
    "plt.scatter(X_train[:,3], y_train, color = 'red')\n",
    "plt.plot(X_train[:,3], rf.predict(X_train), 'bo')\n",
    "plt.title('Actual power vs Location 7 (Training set)')\n",
    "plt.xlabel('Location 7')\n",
    "plt.ylabel('Actual power')\n",
    "plt.show()"
   ]
  },
  {
   "cell_type": "code",
   "execution_count": 533,
   "metadata": {},
   "outputs": [
    {
     "data": {
      "image/png": "[encoded data removed]",
      "text/plain": [
       "<Figure size 432x288 with 1 Axes>"
      ]
     },
     "metadata": {
      "needs_background": "light"
     },
     "output_type": "display_data"
    }
   ],
   "source": [
    "# Visualising the Test set results\n",
    "plt.scatter(X_test[:,3], y_test, color = 'red')\n",
    "plt.plot(X_test[:,3], rf.predict(X_test), 'bo')\n",
    "plt.title('Actual power vs Location 7 (Test set)')\n",
    "plt.xlabel('Location 7')\n",
    "plt.ylabel('Actual power')\n",
    "plt.show()"
   ]
  },
  {
   "cell_type": "code",
   "execution_count": 537,
   "metadata": {},
   "outputs": [],
   "source": [
    "summary = summary.append({'Model':'Simple Desicion Tree', \n",
    "                'MSE (Train set)': '0.493',\n",
    "               'MSE (Test set)':'0.799',\n",
    "               'R^2 (Train set)': '0.464',\n",
    "               'R^2 (Test set)':'0.385'},ignore_index=True)\n",
    "summary = summary.append({'Model':'Tree', \n",
    "                'MSE (Train set)': '0.0002',\n",
    "               'MSE (Test set)':'0.87',\n",
    "               'R^2 (Train set)': '0.999',\n",
    "               'R^2 (Test set)':'0.33'},ignore_index=True)\n",
    "summary = summary.append({'Model':'Random Forest', \n",
    "                'MSE (Train set)': '0.072',\n",
    "               'MSE (Test set)':'0.39',\n",
    "               'R^2 (Train set)': '0.922',\n",
    "               'R^2 (Test set)':'0.699'},ignore_index=True)"
   ]
  },
  {
   "cell_type": "markdown",
   "metadata": {},
   "source": [
    "### Висновки (Regression Tree & Random Forest):\n",
    "- Було побудовано модель простого дерева рішень (з фактором Location 7), дерево рішень з усіма факторами, також була спроба пободови дерева рішень з тільки значущими факторами (Location 5, Location 7), але якість модель булі відносно гіршою (MSE (Test set)>1). Також було побудовано модель Random Forest.\n",
    "- Модель Random Forest\tє найкращою з усих моделей дерев та регресій (по параметрам MSE (Test set) і R^2 (Test set)).\n",
    "- Як і в випадку з моделями регресії, моделі дерев рішень демонстрували вищу якість на навчальній виборці. Змінювалися параметри дерев та лісу, але це викликало збільшення MSE на тестовій виборці. \n"
   ]
  },
  {
   "cell_type": "code",
   "execution_count": 538,
   "metadata": {},
   "outputs": [
    {
     "data": {
      "text/html": [
       "<div>\n",
       "<style scoped>\n",
       "    .dataframe tbody tr th:only-of-type {\n",
       "        vertical-align: middle;\n",
       "    }\n",
       "\n",
       "    .dataframe tbody tr th {\n",
       "        vertical-align: top;\n",
       "    }\n",
       "\n",
       "    .dataframe thead th {\n",
       "        text-align: right;\n",
       "    }\n",
       "</style>\n",
       "<table border=\"1\" class=\"dataframe\">\n",
       "  <thead>\n",
       "    <tr style=\"text-align: right;\">\n",
       "      <th></th>\n",
       "      <th>Model</th>\n",
       "      <th>MSE (Train set)</th>\n",
       "      <th>MSE (Test set)</th>\n",
       "      <th>R^2 (Train set)</th>\n",
       "      <th>R^2 (Test set)</th>\n",
       "    </tr>\n",
       "  </thead>\n",
       "  <tbody>\n",
       "    <tr>\n",
       "      <th>0</th>\n",
       "      <td>Simple Linear Regression</td>\n",
       "      <td>0.737</td>\n",
       "      <td>0.944</td>\n",
       "      <td>0.199</td>\n",
       "      <td>0.274</td>\n",
       "    </tr>\n",
       "    <tr>\n",
       "      <th>1</th>\n",
       "      <td>Multiple Linear Regression</td>\n",
       "      <td>0.682</td>\n",
       "      <td>0.889</td>\n",
       "      <td>0.259</td>\n",
       "      <td>0.316</td>\n",
       "    </tr>\n",
       "    <tr>\n",
       "      <th>2</th>\n",
       "      <td>Polynomial Regression</td>\n",
       "      <td>0.669</td>\n",
       "      <td>0.898</td>\n",
       "      <td>0.272</td>\n",
       "      <td>0.309</td>\n",
       "    </tr>\n",
       "    <tr>\n",
       "      <th>3</th>\n",
       "      <td>Optimized Multiple Linear Regression</td>\n",
       "      <td>0.683</td>\n",
       "      <td>0.881</td>\n",
       "      <td>0.257</td>\n",
       "      <td>0.322</td>\n",
       "    </tr>\n",
       "    <tr>\n",
       "      <th>4</th>\n",
       "      <td>Simple Desicion Tree</td>\n",
       "      <td>0.493</td>\n",
       "      <td>0.799</td>\n",
       "      <td>0.464</td>\n",
       "      <td>0.385</td>\n",
       "    </tr>\n",
       "    <tr>\n",
       "      <th>5</th>\n",
       "      <td>Tree</td>\n",
       "      <td>0.0002</td>\n",
       "      <td>0.87</td>\n",
       "      <td>0.999</td>\n",
       "      <td>0.33</td>\n",
       "    </tr>\n",
       "    <tr>\n",
       "      <th>6</th>\n",
       "      <td>Random Forest</td>\n",
       "      <td>0.072</td>\n",
       "      <td>0.39</td>\n",
       "      <td>0.922</td>\n",
       "      <td>0.699</td>\n",
       "    </tr>\n",
       "  </tbody>\n",
       "</table>\n",
       "</div>"
      ],
      "text/plain": [
       "                                  Model MSE (Train set) MSE (Test set)  \\\n",
       "0              Simple Linear Regression           0.737          0.944   \n",
       "1            Multiple Linear Regression           0.682          0.889   \n",
       "2                 Polynomial Regression           0.669          0.898   \n",
       "3  Optimized Multiple Linear Regression           0.683          0.881   \n",
       "4                  Simple Desicion Tree           0.493          0.799   \n",
       "5                                  Tree          0.0002           0.87   \n",
       "6                         Random Forest           0.072           0.39   \n",
       "\n",
       "  R^2 (Train set) R^2 (Test set)  \n",
       "0           0.199          0.274  \n",
       "1           0.259          0.316  \n",
       "2           0.272          0.309  \n",
       "3           0.257          0.322  \n",
       "4           0.464          0.385  \n",
       "5           0.999           0.33  \n",
       "6           0.922          0.699  "
      ]
     },
     "execution_count": 538,
     "metadata": {},
     "output_type": "execute_result"
    }
   ],
   "source": [
    "summary"
   ]
  },
  {
   "cell_type": "markdown",
   "metadata": {},
   "source": [
    "## 4. Regression Neural Network"
   ]
  },
  {
   "cell_type": "code",
   "execution_count": 540,
   "metadata": {},
   "outputs": [
    {
     "name": "stderr",
     "output_type": "stream",
     "text": [
      "Using TensorFlow backend.\n"
     ]
    }
   ],
   "source": [
    "import keras\n",
    "from keras.models import Sequential\n",
    "from keras.layers import Dense"
   ]
  },
  {
   "cell_type": "code",
   "execution_count": 543,
   "metadata": {},
   "outputs": [
    {
     "name": "stderr",
     "output_type": "stream",
     "text": [
      "C:\\Users\\RIE\\Anaconda3\\lib\\site-packages\\ipykernel_launcher.py:5: UserWarning:\n",
      "\n",
      "Update your `Dense` call to the Keras 2 API: `Dense(activation=\"tanh\", input_dim=5, units=6)`\n",
      "\n",
      "C:\\Users\\RIE\\Anaconda3\\lib\\site-packages\\ipykernel_launcher.py:8: UserWarning:\n",
      "\n",
      "Update your `Dense` call to the Keras 2 API: `Dense(activation=\"tanh\", units=6)`\n",
      "\n",
      "C:\\Users\\RIE\\Anaconda3\\lib\\site-packages\\ipykernel_launcher.py:11: UserWarning:\n",
      "\n",
      "Update your `Dense` call to the Keras 2 API: `Dense(activation=\"linear\", units=1)`\n",
      "\n"
     ]
    }
   ],
   "source": [
    "# Initialising the ANN\n",
    "rnn = Sequential()\n",
    "\n",
    "# Adding the input layer and the first hidden layer\n",
    "rnn.add(Dense(output_dim = 6, activation = 'tanh', input_dim = 5))\n",
    "\n",
    "# Adding the second hidden layer\n",
    "rnn.add(Dense(output_dim = 6, activation = 'tanh'))\n",
    "\n",
    "# Adding the output layer\n",
    "rnn.add(Dense(output_dim = 1, activation = 'linear'))\n",
    "\n",
    "# Compiling the ANN\n",
    "rnn.compile(optimizer='adam', loss='mean_squared_error', metrics = ['accuracy'])"
   ]
  },
  {
   "cell_type": "code",
   "execution_count": 544,
   "metadata": {},
   "outputs": [
    {
     "name": "stderr",
     "output_type": "stream",
     "text": [
      "C:\\Users\\RIE\\Anaconda3\\lib\\site-packages\\ipykernel_launcher.py:2: UserWarning:\n",
      "\n",
      "The `nb_epoch` argument in `fit` has been renamed `epochs`.\n",
      "\n"
     ]
    },
    {
     "name": "stdout",
     "output_type": "stream",
     "text": [
      "Epoch 1/100\n",
      "248/248 [==============================] - 0s 1ms/step - loss: 1.3422 - accuracy: 0.0000e+00\n",
      "Epoch 2/100\n",
      "248/248 [==============================] - 0s 89us/step - loss: 1.0387 - accuracy: 0.0000e+00\n",
      "Epoch 3/100\n",
      "248/248 [==============================] - 0s 101us/step - loss: 0.8666 - accuracy: 0.0000e+00\n",
      "Epoch 4/100\n",
      "248/248 [==============================] - 0s 85us/step - loss: 0.7732 - accuracy: 0.0000e+00\n",
      "Epoch 5/100\n",
      "248/248 [==============================] - 0s 81us/step - loss: 0.7294 - accuracy: 0.0000e+00\n",
      "Epoch 6/100\n",
      "248/248 [==============================] - 0s 85us/step - loss: 0.7117 - accuracy: 0.0000e+00\n",
      "Epoch 7/100\n",
      "248/248 [==============================] - 0s 97us/step - loss: 0.7023 - accuracy: 0.0000e+00\n",
      "Epoch 8/100\n",
      "248/248 [==============================] - 0s 93us/step - loss: 0.6962 - accuracy: 0.0000e+00\n",
      "Epoch 9/100\n",
      "248/248 [==============================] - 0s 105us/step - loss: 0.6900 - accuracy: 0.0000e+00\n",
      "Epoch 10/100\n",
      "248/248 [==============================] - 0s 85us/step - loss: 0.6857 - accuracy: 0.0000e+00\n",
      "Epoch 11/100\n",
      "248/248 [==============================] - 0s 101us/step - loss: 0.6796 - accuracy: 0.0000e+00\n",
      "Epoch 12/100\n",
      "248/248 [==============================] - 0s 93us/step - loss: 0.6754 - accuracy: 0.0000e+00\n",
      "Epoch 13/100\n",
      "248/248 [==============================] - 0s 97us/step - loss: 0.6699 - accuracy: 0.0000e+00\n",
      "Epoch 14/100\n",
      "248/248 [==============================] - 0s 85us/step - loss: 0.6648 - accuracy: 0.0000e+00\n",
      "Epoch 15/100\n",
      "248/248 [==============================] - 0s 101us/step - loss: 0.6589 - accuracy: 0.0000e+00\n",
      "Epoch 16/100\n",
      "248/248 [==============================] - 0s 93us/step - loss: 0.6539 - accuracy: 0.0000e+00\n",
      "Epoch 17/100\n",
      "248/248 [==============================] - 0s 97us/step - loss: 0.6496 - accuracy: 0.0000e+00\n",
      "Epoch 18/100\n",
      "248/248 [==============================] - 0s 93us/step - loss: 0.6464 - accuracy: 0.0000e+00\n",
      "Epoch 19/100\n",
      "248/248 [==============================] - 0s 85us/step - loss: 0.6410 - accuracy: 0.0000e+00\n",
      "Epoch 20/100\n",
      "248/248 [==============================] - 0s 85us/step - loss: 0.6349 - accuracy: 0.0000e+00\n",
      "Epoch 21/100\n",
      "248/248 [==============================] - 0s 85us/step - loss: 0.6311 - accuracy: 0.0000e+00\n",
      "Epoch 22/100\n",
      "248/248 [==============================] - 0s 85us/step - loss: 0.6270 - accuracy: 0.0000e+00\n",
      "Epoch 23/100\n",
      "248/248 [==============================] - 0s 89us/step - loss: 0.6238 - accuracy: 0.0000e+00\n",
      "Epoch 24/100\n",
      "248/248 [==============================] - 0s 89us/step - loss: 0.6179 - accuracy: 0.0000e+00\n",
      "Epoch 25/100\n",
      "248/248 [==============================] - 0s 93us/step - loss: 0.6158 - accuracy: 0.0000e+00\n",
      "Epoch 26/100\n",
      "248/248 [==============================] - 0s 101us/step - loss: 0.6106 - accuracy: 0.0000e+00\n",
      "Epoch 27/100\n",
      "248/248 [==============================] - 0s 81us/step - loss: 0.6059 - accuracy: 0.0000e+00\n",
      "Epoch 28/100\n",
      "248/248 [==============================] - 0s 85us/step - loss: 0.6014 - accuracy: 0.0000e+00\n",
      "Epoch 29/100\n",
      "248/248 [==============================] - 0s 93us/step - loss: 0.5974 - accuracy: 0.0000e+00\n",
      "Epoch 30/100\n",
      "248/248 [==============================] - 0s 81us/step - loss: 0.5942 - accuracy: 0.0000e+00\n",
      "Epoch 31/100\n",
      "248/248 [==============================] - 0s 97us/step - loss: 0.5899 - accuracy: 0.0000e+00\n",
      "Epoch 32/100\n",
      "248/248 [==============================] - 0s 85us/step - loss: 0.5863 - accuracy: 0.0000e+00\n",
      "Epoch 33/100\n",
      "248/248 [==============================] - 0s 93us/step - loss: 0.5831 - accuracy: 0.0000e+00\n",
      "Epoch 34/100\n",
      "248/248 [==============================] - 0s 93us/step - loss: 0.5802 - accuracy: 0.0000e+00\n",
      "Epoch 35/100\n",
      "248/248 [==============================] - 0s 85us/step - loss: 0.5783 - accuracy: 0.0000e+00\n",
      "Epoch 36/100\n",
      "248/248 [==============================] - 0s 101us/step - loss: 0.5723 - accuracy: 0.0000e+00\n",
      "Epoch 37/100\n",
      "248/248 [==============================] - 0s 93us/step - loss: 0.5698 - accuracy: 0.0000e+00\n",
      "Epoch 38/100\n",
      "248/248 [==============================] - 0s 89us/step - loss: 0.5649 - accuracy: 0.0000e+00\n",
      "Epoch 39/100\n",
      "248/248 [==============================] - 0s 93us/step - loss: 0.5627 - accuracy: 0.0000e+00\n",
      "Epoch 40/100\n",
      "248/248 [==============================] - 0s 81us/step - loss: 0.5610 - accuracy: 0.0000e+00\n",
      "Epoch 41/100\n",
      "248/248 [==============================] - 0s 85us/step - loss: 0.5602 - accuracy: 0.0000e+00\n",
      "Epoch 42/100\n",
      "248/248 [==============================] - 0s 89us/step - loss: 0.5613 - accuracy: 0.0000e+00\n",
      "Epoch 43/100\n",
      "248/248 [==============================] - 0s 81us/step - loss: 0.5553 - accuracy: 0.0000e+00\n",
      "Epoch 44/100\n",
      "248/248 [==============================] - 0s 101us/step - loss: 0.5476 - accuracy: 0.0000e+00\n",
      "Epoch 45/100\n",
      "248/248 [==============================] - 0s 89us/step - loss: 0.5469 - accuracy: 0.0000e+00\n",
      "Epoch 46/100\n",
      "248/248 [==============================] - 0s 89us/step - loss: 0.5413 - accuracy: 0.0000e+00\n",
      "Epoch 47/100\n",
      "248/248 [==============================] - 0s 89us/step - loss: 0.5395 - accuracy: 0.0000e+00\n",
      "Epoch 48/100\n",
      "248/248 [==============================] - 0s 101us/step - loss: 0.5390 - accuracy: 0.0000e+00\n",
      "Epoch 49/100\n",
      "248/248 [==============================] - 0s 93us/step - loss: 0.5362 - accuracy: 0.0000e+00\n",
      "Epoch 50/100\n",
      "248/248 [==============================] - 0s 97us/step - loss: 0.5369 - accuracy: 0.0000e+00\n",
      "Epoch 51/100\n",
      "248/248 [==============================] - 0s 93us/step - loss: 0.5323 - accuracy: 0.0000e+00\n",
      "Epoch 52/100\n",
      "248/248 [==============================] - 0s 97us/step - loss: 0.5311 - accuracy: 0.0000e+00\n",
      "Epoch 53/100\n",
      "248/248 [==============================] - 0s 85us/step - loss: 0.5275 - accuracy: 0.0000e+00\n",
      "Epoch 54/100\n",
      "248/248 [==============================] - 0s 81us/step - loss: 0.5297 - accuracy: 0.0000e+00\n",
      "Epoch 55/100\n",
      "248/248 [==============================] - 0s 89us/step - loss: 0.5249 - accuracy: 0.0000e+00\n",
      "Epoch 56/100\n",
      "248/248 [==============================] - 0s 85us/step - loss: 0.5229 - accuracy: 0.0000e+00\n",
      "Epoch 57/100\n",
      "248/248 [==============================] - 0s 85us/step - loss: 0.5217 - accuracy: 0.0000e+00\n",
      "Epoch 58/100\n",
      "248/248 [==============================] - 0s 93us/step - loss: 0.5197 - accuracy: 0.0000e+00\n",
      "Epoch 59/100\n",
      "248/248 [==============================] - 0s 85us/step - loss: 0.5185 - accuracy: 0.0000e+00\n",
      "Epoch 60/100\n",
      "248/248 [==============================] - 0s 81us/step - loss: 0.5176 - accuracy: 0.0000e+00\n",
      "Epoch 61/100\n",
      "248/248 [==============================] - 0s 85us/step - loss: 0.5155 - accuracy: 0.0000e+00\n",
      "Epoch 62/100\n",
      "248/248 [==============================] - 0s 81us/step - loss: 0.5131 - accuracy: 0.0000e+00\n",
      "Epoch 63/100\n",
      "248/248 [==============================] - 0s 97us/step - loss: 0.5167 - accuracy: 0.0000e+00\n",
      "Epoch 64/100\n",
      "248/248 [==============================] - 0s 85us/step - loss: 0.5117 - accuracy: 0.0000e+00\n",
      "Epoch 65/100\n",
      "248/248 [==============================] - 0s 85us/step - loss: 0.5100 - accuracy: 0.0000e+00\n",
      "Epoch 66/100\n",
      "248/248 [==============================] - 0s 85us/step - loss: 0.5111 - accuracy: 0.0000e+00\n",
      "Epoch 67/100\n",
      "248/248 [==============================] - 0s 77us/step - loss: 0.5088 - accuracy: 0.0000e+00\n",
      "Epoch 68/100\n",
      "248/248 [==============================] - 0s 85us/step - loss: 0.5063 - accuracy: 0.0000e+00\n",
      "Epoch 69/100\n",
      "248/248 [==============================] - 0s 81us/step - loss: 0.5080 - accuracy: 0.0000e+00\n",
      "Epoch 70/100\n",
      "248/248 [==============================] - 0s 81us/step - loss: 0.5032 - accuracy: 0.0000e+00\n",
      "Epoch 71/100\n",
      "248/248 [==============================] - 0s 81us/step - loss: 0.5032 - accuracy: 0.0000e+00\n",
      "Epoch 72/100\n",
      "248/248 [==============================] - 0s 81us/step - loss: 0.5041 - accuracy: 0.0000e+00\n",
      "Epoch 73/100\n",
      "248/248 [==============================] - 0s 85us/step - loss: 0.5012 - accuracy: 0.0000e+00\n",
      "Epoch 74/100\n",
      "248/248 [==============================] - 0s 81us/step - loss: 0.5009 - accuracy: 0.0000e+00\n",
      "Epoch 75/100\n",
      "248/248 [==============================] - 0s 85us/step - loss: 0.4984 - accuracy: 0.0000e+00\n",
      "Epoch 76/100\n",
      "248/248 [==============================] - 0s 81us/step - loss: 0.4993 - accuracy: 0.0000e+00\n",
      "Epoch 77/100\n"
     ]
    },
    {
     "name": "stdout",
     "output_type": "stream",
     "text": [
      "248/248 [==============================] - 0s 85us/step - loss: 0.4989 - accuracy: 0.0000e+00\n",
      "Epoch 78/100\n",
      "248/248 [==============================] - 0s 85us/step - loss: 0.4959 - accuracy: 0.0000e+00\n",
      "Epoch 79/100\n",
      "248/248 [==============================] - 0s 85us/step - loss: 0.4960 - accuracy: 0.0000e+00\n",
      "Epoch 80/100\n",
      "248/248 [==============================] - 0s 81us/step - loss: 0.4976 - accuracy: 0.0000e+00\n",
      "Epoch 81/100\n",
      "248/248 [==============================] - 0s 81us/step - loss: 0.4932 - accuracy: 0.0000e+00\n",
      "Epoch 82/100\n",
      "248/248 [==============================] - 0s 77us/step - loss: 0.4913 - accuracy: 0.0000e+00\n",
      "Epoch 83/100\n",
      "248/248 [==============================] - 0s 81us/step - loss: 0.4916 - accuracy: 0.0000e+00\n",
      "Epoch 84/100\n",
      "248/248 [==============================] - 0s 81us/step - loss: 0.4934 - accuracy: 0.0000e+00\n",
      "Epoch 85/100\n",
      "248/248 [==============================] - 0s 81us/step - loss: 0.4880 - accuracy: 0.0000e+00\n",
      "Epoch 86/100\n",
      "248/248 [==============================] - 0s 77us/step - loss: 0.4870 - accuracy: 0.0000e+00\n",
      "Epoch 87/100\n",
      "248/248 [==============================] - 0s 77us/step - loss: 0.4864 - accuracy: 0.0000e+00\n",
      "Epoch 88/100\n",
      "248/248 [==============================] - 0s 89us/step - loss: 0.4859 - accuracy: 0.0000e+00\n",
      "Epoch 89/100\n",
      "248/248 [==============================] - 0s 85us/step - loss: 0.4857 - accuracy: 0.0000e+00\n",
      "Epoch 90/100\n",
      "248/248 [==============================] - 0s 85us/step - loss: 0.4833 - accuracy: 0.0000e+00\n",
      "Epoch 91/100\n",
      "248/248 [==============================] - 0s 89us/step - loss: 0.4836 - accuracy: 0.0000e+00\n",
      "Epoch 92/100\n",
      "248/248 [==============================] - 0s 89us/step - loss: 0.4834 - accuracy: 0.0000e+00\n",
      "Epoch 93/100\n",
      "248/248 [==============================] - 0s 89us/step - loss: 0.4807 - accuracy: 0.0000e+00\n",
      "Epoch 94/100\n",
      "248/248 [==============================] - 0s 85us/step - loss: 0.4790 - accuracy: 0.0000e+00\n",
      "Epoch 95/100\n",
      "248/248 [==============================] - 0s 73us/step - loss: 0.4787 - accuracy: 0.0000e+00\n",
      "Epoch 96/100\n",
      "248/248 [==============================] - 0s 81us/step - loss: 0.4808 - accuracy: 0.0000e+00\n",
      "Epoch 97/100\n",
      "248/248 [==============================] - 0s 81us/step - loss: 0.4791 - accuracy: 0.0000e+00\n",
      "Epoch 98/100\n",
      "248/248 [==============================] - 0s 117us/step - loss: 0.4759 - accuracy: 0.0000e+00\n",
      "Epoch 99/100\n",
      "248/248 [==============================] - 0s 89us/step - loss: 0.4778 - accuracy: 0.0000e+00\n",
      "Epoch 100/100\n",
      "248/248 [==============================] - 0s 101us/step - loss: 0.4729 - accuracy: 0.0000e+00\n"
     ]
    },
    {
     "data": {
      "text/plain": [
       "<keras.callbacks.callbacks.History at 0x28eff8cbbc8>"
      ]
     },
     "execution_count": 544,
     "metadata": {},
     "output_type": "execute_result"
    }
   ],
   "source": [
    "# Fitting the ANN to the Training set\n",
    "rnn.fit(X_train, y_train, batch_size = 10, nb_epoch = 100)"
   ]
  },
  {
   "cell_type": "code",
   "execution_count": 545,
   "metadata": {},
   "outputs": [],
   "source": [
    "# Predicting the Test set results\n",
    "y_pred = rnn.predict(X_test)"
   ]
  },
  {
   "cell_type": "code",
   "execution_count": 546,
   "metadata": {},
   "outputs": [
    {
     "data": {
      "image/png": "[encoded data removed]",
      "text/plain": [
       "<Figure size 432x288 with 1 Axes>"
      ]
     },
     "metadata": {
      "needs_background": "light"
     },
     "output_type": "display_data"
    }
   ],
   "source": [
    "# Visualising the Training set results\n",
    "plt.scatter(X_train[:,3], y_train, color = 'red')\n",
    "plt.plot(X_train[:,3], rnn.predict(X_train), 'bo')\n",
    "plt.title('Actual power vs Location 7 (Training set)')\n",
    "plt.xlabel('Location 7')\n",
    "plt.ylabel('Actual power')\n",
    "plt.show()"
   ]
  },
  {
   "cell_type": "code",
   "execution_count": 547,
   "metadata": {},
   "outputs": [
    {
     "data": {
      "image/png": "[encoded data removed]",
      "text/plain": [
       "<Figure size 432x288 with 1 Axes>"
      ]
     },
     "metadata": {
      "needs_background": "light"
     },
     "output_type": "display_data"
    }
   ],
   "source": [
    "# Visualising the Test set results\n",
    "plt.scatter(X_test[:,3], y_test, color = 'red')\n",
    "plt.plot(X_test[:,3], rnn.predict(X_test), 'bo')\n",
    "plt.title('Actual power vs Location 7 (Test set)')\n",
    "plt.xlabel('Location 7')\n",
    "plt.ylabel('Actual power')\n",
    "plt.show()"
   ]
  },
  {
   "cell_type": "code",
   "execution_count": 549,
   "metadata": {},
   "outputs": [
    {
     "data": {
      "text/plain": [
       "(0.468658952865948, 0.6775301331285606)"
      ]
     },
     "execution_count": 549,
     "metadata": {},
     "output_type": "execute_result"
    }
   ],
   "source": [
    "mean_squared_error(y_train, rnn.predict(X_train)), mean_squared_error(y_test, y_pred)"
   ]
  },
  {
   "cell_type": "code",
   "execution_count": 552,
   "metadata": {},
   "outputs": [],
   "source": [
    "summary = summary.append({'Model':'RNN', \n",
    "                'MSE (Train set)': '0.468',\n",
    "               'MSE (Test set)':'0.677',\n",
    "               'R^2 (Train set)': '',\n",
    "               'R^2 (Test set)':''},ignore_index=True)"
   ]
  },
  {
   "cell_type": "markdown",
   "metadata": {},
   "source": [
    "### Висновки:\n"
   ]
  },
  {
   "cell_type": "markdown",
   "metadata": {},
   "source": [
    "- Найкращою з усіх для прогнозування виявилася модель Random Forest\t\n",
    "- Моделі нейронних мереж з різними архітектурами давали гірші результати, ніж модель Random Forest\t\n",
    "- Всі параметри якості побудованих моделей представлено у таблиці нижче"
   ]
  },
  {
   "cell_type": "code",
   "execution_count": 553,
   "metadata": {},
   "outputs": [
    {
     "data": {
      "text/html": [
       "<div>\n",
       "<style scoped>\n",
       "    .dataframe tbody tr th:only-of-type {\n",
       "        vertical-align: middle;\n",
       "    }\n",
       "\n",
       "    .dataframe tbody tr th {\n",
       "        vertical-align: top;\n",
       "    }\n",
       "\n",
       "    .dataframe thead th {\n",
       "        text-align: right;\n",
       "    }\n",
       "</style>\n",
       "<table border=\"1\" class=\"dataframe\">\n",
       "  <thead>\n",
       "    <tr style=\"text-align: right;\">\n",
       "      <th></th>\n",
       "      <th>Model</th>\n",
       "      <th>MSE (Train set)</th>\n",
       "      <th>MSE (Test set)</th>\n",
       "      <th>R^2 (Train set)</th>\n",
       "      <th>R^2 (Test set)</th>\n",
       "    </tr>\n",
       "  </thead>\n",
       "  <tbody>\n",
       "    <tr>\n",
       "      <th>0</th>\n",
       "      <td>Simple Linear Regression</td>\n",
       "      <td>0.737</td>\n",
       "      <td>0.944</td>\n",
       "      <td>0.199</td>\n",
       "      <td>0.274</td>\n",
       "    </tr>\n",
       "    <tr>\n",
       "      <th>1</th>\n",
       "      <td>Multiple Linear Regression</td>\n",
       "      <td>0.682</td>\n",
       "      <td>0.889</td>\n",
       "      <td>0.259</td>\n",
       "      <td>0.316</td>\n",
       "    </tr>\n",
       "    <tr>\n",
       "      <th>2</th>\n",
       "      <td>Polynomial Regression</td>\n",
       "      <td>0.669</td>\n",
       "      <td>0.898</td>\n",
       "      <td>0.272</td>\n",
       "      <td>0.309</td>\n",
       "    </tr>\n",
       "    <tr>\n",
       "      <th>3</th>\n",
       "      <td>Optimized Multiple Linear Regression</td>\n",
       "      <td>0.683</td>\n",
       "      <td>0.881</td>\n",
       "      <td>0.257</td>\n",
       "      <td>0.322</td>\n",
       "    </tr>\n",
       "    <tr>\n",
       "      <th>4</th>\n",
       "      <td>Simple Desicion Tree</td>\n",
       "      <td>0.493</td>\n",
       "      <td>0.799</td>\n",
       "      <td>0.464</td>\n",
       "      <td>0.385</td>\n",
       "    </tr>\n",
       "    <tr>\n",
       "      <th>5</th>\n",
       "      <td>Tree</td>\n",
       "      <td>0.0002</td>\n",
       "      <td>0.87</td>\n",
       "      <td>0.999</td>\n",
       "      <td>0.33</td>\n",
       "    </tr>\n",
       "    <tr>\n",
       "      <th>6</th>\n",
       "      <td>Random Forest</td>\n",
       "      <td>0.072</td>\n",
       "      <td>0.39</td>\n",
       "      <td>0.922</td>\n",
       "      <td>0.699</td>\n",
       "    </tr>\n",
       "    <tr>\n",
       "      <th>7</th>\n",
       "      <td>RNN</td>\n",
       "      <td>0.468</td>\n",
       "      <td>0.677</td>\n",
       "      <td></td>\n",
       "      <td></td>\n",
       "    </tr>\n",
       "  </tbody>\n",
       "</table>\n",
       "</div>"
      ],
      "text/plain": [
       "                                  Model MSE (Train set) MSE (Test set)  \\\n",
       "0              Simple Linear Regression           0.737          0.944   \n",
       "1            Multiple Linear Regression           0.682          0.889   \n",
       "2                 Polynomial Regression           0.669          0.898   \n",
       "3  Optimized Multiple Linear Regression           0.683          0.881   \n",
       "4                  Simple Desicion Tree           0.493          0.799   \n",
       "5                                  Tree          0.0002           0.87   \n",
       "6                         Random Forest           0.072           0.39   \n",
       "7                                   RNN           0.468          0.677   \n",
       "\n",
       "  R^2 (Train set) R^2 (Test set)  \n",
       "0           0.199          0.274  \n",
       "1           0.259          0.316  \n",
       "2           0.272          0.309  \n",
       "3           0.257          0.322  \n",
       "4           0.464          0.385  \n",
       "5           0.999           0.33  \n",
       "6           0.922          0.699  \n",
       "7                                 "
      ]
     },
     "execution_count": 553,
     "metadata": {},
     "output_type": "execute_result"
    }
   ],
   "source": [
    "summary"
   ]
  },
  {
   "cell_type": "code",
   "execution_count": null,
   "metadata": {},
   "outputs": [],
   "source": []
  }
 ],
 "metadata": {
  "kernelspec": {
   "display_name": "Python 3",
   "language": "python",
   "name": "python3"
  },
  "language_info": {
   "codemirror_mode": {
    "name": "ipython",
    "version": 3
   },
   "file_extension": ".py",
   "mimetype": "text/x-python",
   "name": "python",
   "nbconvert_exporter": "python",
   "pygments_lexer": "ipython3",
   "version": "3.7.4"
  }
 },
 "nbformat": 4,
 "nbformat_minor": 2
}
